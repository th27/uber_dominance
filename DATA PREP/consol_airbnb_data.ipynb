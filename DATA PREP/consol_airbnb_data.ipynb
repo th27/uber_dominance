{
 "cells": [
  {
   "cell_type": "code",
   "execution_count": 14,
   "metadata": {
    "collapsed": true
   },
   "outputs": [],
   "source": [
    "import pandas as pd\n",
    "import numpy as np\n",
    "\n",
    "import matplotlib.pyplot as plt\n",
    "import seaborn as sns\n",
    "% matplotlib inline\n",
    "\n",
    "import pickle"
   ]
  },
  {
   "cell_type": "code",
   "execution_count": 15,
   "metadata": {
    "collapsed": true
   },
   "outputs": [],
   "source": [
    "df = pd.read_csv('airbnb.csv')"
   ]
  },
  {
   "cell_type": "code",
   "execution_count": 16,
   "metadata": {
    "collapsed": false
   },
   "outputs": [
    {
     "data": {
      "text/plain": [
       "(1588, 11)"
      ]
     },
     "execution_count": 16,
     "metadata": {},
     "output_type": "execute_result"
    }
   ],
   "source": [
    "df.shape"
   ]
  },
  {
   "cell_type": "code",
   "execution_count": 17,
   "metadata": {
    "collapsed": false
   },
   "outputs": [
    {
     "data": {
      "text/html": [
       "<div>\n",
       "<table border=\"1\" class=\"dataframe\">\n",
       "  <thead>\n",
       "    <tr style=\"text-align: right;\">\n",
       "      <th></th>\n",
       "      <th>Unnamed: 0</th>\n",
       "      <th>GEOID</th>\n",
       "      <th>accommodates</th>\n",
       "      <th>bathrooms</th>\n",
       "      <th>bedrooms</th>\n",
       "      <th>beds</th>\n",
       "      <th>dailyrate</th>\n",
       "      <th>number_of_reviews</th>\n",
       "      <th>review_scores_location</th>\n",
       "      <th>review_scores_rating</th>\n",
       "      <th>airbnb_listings</th>\n",
       "    </tr>\n",
       "  </thead>\n",
       "  <tbody>\n",
       "    <tr>\n",
       "      <th>0</th>\n",
       "      <td>0</td>\n",
       "      <td>36005000400</td>\n",
       "      <td>3.000000</td>\n",
       "      <td>0.944444</td>\n",
       "      <td>1.333333</td>\n",
       "      <td>1.888889</td>\n",
       "      <td>107.777778</td>\n",
       "      <td>2.888889</td>\n",
       "      <td>9.000000</td>\n",
       "      <td>86.000000</td>\n",
       "      <td>9.0</td>\n",
       "    </tr>\n",
       "    <tr>\n",
       "      <th>1</th>\n",
       "      <td>1</td>\n",
       "      <td>36005002000</td>\n",
       "      <td>5.333333</td>\n",
       "      <td>1.000000</td>\n",
       "      <td>2.333333</td>\n",
       "      <td>5.666667</td>\n",
       "      <td>83.333333</td>\n",
       "      <td>7.666667</td>\n",
       "      <td>9.000000</td>\n",
       "      <td>96.500000</td>\n",
       "      <td>3.0</td>\n",
       "    </tr>\n",
       "    <tr>\n",
       "      <th>2</th>\n",
       "      <td>2</td>\n",
       "      <td>36005002300</td>\n",
       "      <td>3.631579</td>\n",
       "      <td>1.052632</td>\n",
       "      <td>1.315789</td>\n",
       "      <td>2.157895</td>\n",
       "      <td>104.105263</td>\n",
       "      <td>16.789474</td>\n",
       "      <td>8.687500</td>\n",
       "      <td>94.375000</td>\n",
       "      <td>19.0</td>\n",
       "    </tr>\n",
       "    <tr>\n",
       "      <th>3</th>\n",
       "      <td>3</td>\n",
       "      <td>36005002500</td>\n",
       "      <td>2.000000</td>\n",
       "      <td>1.000000</td>\n",
       "      <td>0.833333</td>\n",
       "      <td>1.166667</td>\n",
       "      <td>64.166667</td>\n",
       "      <td>36.833333</td>\n",
       "      <td>8.666667</td>\n",
       "      <td>94.500000</td>\n",
       "      <td>6.0</td>\n",
       "    </tr>\n",
       "    <tr>\n",
       "      <th>4</th>\n",
       "      <td>4</td>\n",
       "      <td>36005002701</td>\n",
       "      <td>5.333333</td>\n",
       "      <td>1.333333</td>\n",
       "      <td>2.000000</td>\n",
       "      <td>4.333333</td>\n",
       "      <td>78.000000</td>\n",
       "      <td>9.000000</td>\n",
       "      <td>9.000000</td>\n",
       "      <td>89.666667</td>\n",
       "      <td>3.0</td>\n",
       "    </tr>\n",
       "  </tbody>\n",
       "</table>\n",
       "</div>"
      ],
      "text/plain": [
       "   Unnamed: 0        GEOID  accommodates  bathrooms  bedrooms      beds  \\\n",
       "0           0  36005000400      3.000000   0.944444  1.333333  1.888889   \n",
       "1           1  36005002000      5.333333   1.000000  2.333333  5.666667   \n",
       "2           2  36005002300      3.631579   1.052632  1.315789  2.157895   \n",
       "3           3  36005002500      2.000000   1.000000  0.833333  1.166667   \n",
       "4           4  36005002701      5.333333   1.333333  2.000000  4.333333   \n",
       "\n",
       "    dailyrate  number_of_reviews  review_scores_location  \\\n",
       "0  107.777778           2.888889                9.000000   \n",
       "1   83.333333           7.666667                9.000000   \n",
       "2  104.105263          16.789474                8.687500   \n",
       "3   64.166667          36.833333                8.666667   \n",
       "4   78.000000           9.000000                9.000000   \n",
       "\n",
       "   review_scores_rating  airbnb_listings  \n",
       "0             86.000000              9.0  \n",
       "1             96.500000              3.0  \n",
       "2             94.375000             19.0  \n",
       "3             94.500000              6.0  \n",
       "4             89.666667              3.0  "
      ]
     },
     "execution_count": 17,
     "metadata": {},
     "output_type": "execute_result"
    }
   ],
   "source": [
    "df.head()"
   ]
  },
  {
   "cell_type": "code",
   "execution_count": 18,
   "metadata": {
    "collapsed": false
   },
   "outputs": [
    {
     "data": {
      "text/plain": [
       "Index(['Unnamed: 0', 'GEOID', 'accommodates', 'bathrooms', 'bedrooms', 'beds',\n",
       "       'dailyrate', 'number_of_reviews', 'review_scores_location',\n",
       "       'review_scores_rating', 'airbnb_listings'],\n",
       "      dtype='object')"
      ]
     },
     "execution_count": 18,
     "metadata": {},
     "output_type": "execute_result"
    }
   ],
   "source": [
    "df.columns"
   ]
  },
  {
   "cell_type": "code",
   "execution_count": 19,
   "metadata": {
    "collapsed": false
   },
   "outputs": [
    {
     "data": {
      "text/plain": [
       "Unnamed: 0                  int64\n",
       "GEOID                       int64\n",
       "accommodates              float64\n",
       "bathrooms                 float64\n",
       "bedrooms                  float64\n",
       "beds                      float64\n",
       "dailyrate                 float64\n",
       "number_of_reviews         float64\n",
       "review_scores_location    float64\n",
       "review_scores_rating      float64\n",
       "airbnb_listings           float64\n",
       "dtype: object"
      ]
     },
     "execution_count": 19,
     "metadata": {},
     "output_type": "execute_result"
    }
   ],
   "source": [
    "df.dtypes"
   ]
  },
  {
   "cell_type": "code",
   "execution_count": 20,
   "metadata": {
    "collapsed": false
   },
   "outputs": [],
   "source": [
    "df.rename(columns={'GEOID':'census_tract'},inplace=True)"
   ]
  },
  {
   "cell_type": "code",
   "execution_count": 21,
   "metadata": {
    "collapsed": true
   },
   "outputs": [],
   "source": [
    "df_airbnb = df.drop(['Unnamed: 0'],axis=1)"
   ]
  },
  {
   "cell_type": "code",
   "execution_count": 23,
   "metadata": {
    "collapsed": false
   },
   "outputs": [],
   "source": [
    "df_airbnb.columns = ['airbnb_' + str(col) for col in df_airbnb.columns]"
   ]
  },
  {
   "cell_type": "code",
   "execution_count": 24,
   "metadata": {
    "collapsed": false
   },
   "outputs": [
    {
     "data": {
      "text/plain": [
       "airbnb_census_tract                int64\n",
       "airbnb_accommodates              float64\n",
       "airbnb_bathrooms                 float64\n",
       "airbnb_bedrooms                  float64\n",
       "airbnb_beds                      float64\n",
       "airbnb_dailyrate                 float64\n",
       "airbnb_number_of_reviews         float64\n",
       "airbnb_review_scores_location    float64\n",
       "airbnb_review_scores_rating      float64\n",
       "airbnb_airbnb_listings           float64\n",
       "dtype: object"
      ]
     },
     "execution_count": 24,
     "metadata": {},
     "output_type": "execute_result"
    }
   ],
   "source": [
    "df_airbnb.dtypes"
   ]
  },
  {
   "cell_type": "code",
   "execution_count": 25,
   "metadata": {
    "collapsed": true
   },
   "outputs": [],
   "source": [
    "with open('airbnb_for_model.pkl','wb') as picklefile:\n",
    "    pickle.dump(df_airbnb,picklefile)"
   ]
  },
  {
   "cell_type": "code",
   "execution_count": null,
   "metadata": {
    "collapsed": true
   },
   "outputs": [],
   "source": []
  }
 ],
 "metadata": {
  "anaconda-cloud": {},
  "kernelspec": {
   "display_name": "Python 3",
   "language": "python",
   "name": "python3"
  },
  "language_info": {
   "codemirror_mode": {
    "name": "ipython",
    "version": 3
   },
   "file_extension": ".py",
   "mimetype": "text/x-python",
   "name": "python",
   "nbconvert_exporter": "python",
   "pygments_lexer": "ipython3",
   "version": "3.5.2"
  }
 },
 "nbformat": 4,
 "nbformat_minor": 1
}
