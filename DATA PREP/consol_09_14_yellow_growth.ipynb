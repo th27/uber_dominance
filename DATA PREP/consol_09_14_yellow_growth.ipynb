{
 "cells": [
  {
   "cell_type": "code",
   "execution_count": 1,
   "metadata": {
    "collapsed": false
   },
   "outputs": [],
   "source": [
    "import pandas as pd\n",
    "import numpy as np\n",
    "import pickle"
   ]
  },
  {
   "cell_type": "code",
   "execution_count": 2,
   "metadata": {
    "collapsed": true
   },
   "outputs": [],
   "source": [
    "with open('yellow2014-04.pkl','rb') as picklefile:\n",
    "    df1404 = pickle.load(picklefile)\n",
    "with open('yellow2014-05.pkl','rb') as picklefile:\n",
    "    df1405 = pickle.load(picklefile)\n",
    "with open('yellow2014-06.pkl','rb') as picklefile:\n",
    "    df1406 = pickle.load(picklefile)\n",
    "with open('yellow2014-07.pkl','rb') as picklefile:\n",
    "    df1407 = pickle.load(picklefile)\n",
    "with open('yellow2014-08.pkl','rb') as picklefile:\n",
    "    df1408 = pickle.load(picklefile)\n",
    "with open('yellow2014-09.pkl','rb') as picklefile:\n",
    "    df1409 = pickle.load(picklefile)"
   ]
  },
  {
   "cell_type": "code",
   "execution_count": 3,
   "metadata": {
    "collapsed": true
   },
   "outputs": [],
   "source": [
    "with open('df_coords4.pkl','rb') as picklefile:\n",
    "    df_coords4 = pickle.load(picklefile)\n",
    "with open('df_coords5.pkl','rb') as picklefile:\n",
    "    df_coords5 = pickle.load(picklefile)\n",
    "with open('df_coords6.pkl','rb') as picklefile:\n",
    "    df_coords6 = pickle.load(picklefile)\n",
    "with open('df_coords7.pkl','rb') as picklefile:\n",
    "    df_coords7 = pickle.load(picklefile)\n",
    "with open('df_coords8.pkl','rb') as picklefile:\n",
    "    df_coords8 = pickle.load(picklefile)\n",
    "with open('df_coords9.pkl','rb') as picklefile:\n",
    "    df_coords9 = pickle.load(picklefile)"
   ]
  },
  {
   "cell_type": "code",
   "execution_count": 4,
   "metadata": {
    "collapsed": true
   },
   "outputs": [],
   "source": [
    "df1404['census_tract'] = df_coords4\n",
    "df1405['census_tract'] = df_coords5\n",
    "df1406['census_tract'] = df_coords6\n",
    "df1407['census_tract'] = df_coords7\n",
    "df1408['census_tract'] = df_coords8\n",
    "df1409['census_tract'] = df_coords9"
   ]
  },
  {
   "cell_type": "code",
   "execution_count": 5,
   "metadata": {
    "collapsed": true
   },
   "outputs": [],
   "source": [
    "df14 = pd.concat([df1404,df1405,df1406,df1407,df1408,df1409])"
   ]
  },
  {
   "cell_type": "code",
   "execution_count": 6,
   "metadata": {
    "collapsed": false
   },
   "outputs": [
    {
     "data": {
      "text/plain": [
       "(80405325, 12)"
      ]
     },
     "execution_count": 6,
     "metadata": {},
     "output_type": "execute_result"
    }
   ],
   "source": [
    "df14.shape"
   ]
  },
  {
   "cell_type": "code",
   "execution_count": 8,
   "metadata": {
    "collapsed": false
   },
   "outputs": [
    {
     "data": {
      "text/html": [
       "<div>\n",
       "<table border=\"1\" class=\"dataframe\">\n",
       "  <thead>\n",
       "    <tr style=\"text-align: right;\">\n",
       "      <th></th>\n",
       "      <th>passenger_count</th>\n",
       "      <th>trip_distance</th>\n",
       "      <th>pickup_longitude</th>\n",
       "      <th>pickup_latitude</th>\n",
       "      <th>tip_amount</th>\n",
       "      <th>total_amount</th>\n",
       "      <th>rides</th>\n",
       "      <th>year</th>\n",
       "      <th>date</th>\n",
       "      <th>hour</th>\n",
       "      <th>day_of_week</th>\n",
       "      <th>census_tract</th>\n",
       "    </tr>\n",
       "  </thead>\n",
       "  <tbody>\n",
       "    <tr>\n",
       "      <th>0</th>\n",
       "      <td>1</td>\n",
       "      <td>2.5</td>\n",
       "      <td>-73.958848</td>\n",
       "      <td>40.763585</td>\n",
       "      <td>3.7</td>\n",
       "      <td>22.2</td>\n",
       "      <td>1</td>\n",
       "      <td>2014</td>\n",
       "      <td>2014-04-08</td>\n",
       "      <td>08</td>\n",
       "      <td>1</td>\n",
       "      <td>3.606101e+10</td>\n",
       "    </tr>\n",
       "    <tr>\n",
       "      <th>2</th>\n",
       "      <td>2</td>\n",
       "      <td>0.6</td>\n",
       "      <td>-73.992233</td>\n",
       "      <td>40.729136</td>\n",
       "      <td>1.2</td>\n",
       "      <td>7.2</td>\n",
       "      <td>1</td>\n",
       "      <td>2014</td>\n",
       "      <td>2014-04-08</td>\n",
       "      <td>08</td>\n",
       "      <td>1</td>\n",
       "      <td>3.606101e+10</td>\n",
       "    </tr>\n",
       "    <tr>\n",
       "      <th>3</th>\n",
       "      <td>2</td>\n",
       "      <td>0.5</td>\n",
       "      <td>-73.973726</td>\n",
       "      <td>40.750095</td>\n",
       "      <td>1.7</td>\n",
       "      <td>10.2</td>\n",
       "      <td>1</td>\n",
       "      <td>2014</td>\n",
       "      <td>2014-04-08</td>\n",
       "      <td>08</td>\n",
       "      <td>1</td>\n",
       "      <td>3.606101e+10</td>\n",
       "    </tr>\n",
       "    <tr>\n",
       "      <th>4</th>\n",
       "      <td>1</td>\n",
       "      <td>0.4</td>\n",
       "      <td>-73.973502</td>\n",
       "      <td>40.755479</td>\n",
       "      <td>1.2</td>\n",
       "      <td>7.2</td>\n",
       "      <td>1</td>\n",
       "      <td>2014</td>\n",
       "      <td>2014-04-08</td>\n",
       "      <td>08</td>\n",
       "      <td>1</td>\n",
       "      <td>3.606101e+10</td>\n",
       "    </tr>\n",
       "    <tr>\n",
       "      <th>5</th>\n",
       "      <td>1</td>\n",
       "      <td>0.8</td>\n",
       "      <td>-73.963002</td>\n",
       "      <td>40.766355</td>\n",
       "      <td>1.3</td>\n",
       "      <td>7.8</td>\n",
       "      <td>1</td>\n",
       "      <td>2014</td>\n",
       "      <td>2014-04-08</td>\n",
       "      <td>07</td>\n",
       "      <td>1</td>\n",
       "      <td>3.606101e+10</td>\n",
       "    </tr>\n",
       "  </tbody>\n",
       "</table>\n",
       "</div>"
      ],
      "text/plain": [
       "   passenger_count  trip_distance  pickup_longitude  pickup_latitude  \\\n",
       "0                1            2.5        -73.958848        40.763585   \n",
       "2                2            0.6        -73.992233        40.729136   \n",
       "3                2            0.5        -73.973726        40.750095   \n",
       "4                1            0.4        -73.973502        40.755479   \n",
       "5                1            0.8        -73.963002        40.766355   \n",
       "\n",
       "   tip_amount  total_amount  rides  year        date hour  day_of_week  \\\n",
       "0         3.7          22.2      1  2014  2014-04-08   08            1   \n",
       "2         1.2           7.2      1  2014  2014-04-08   08            1   \n",
       "3         1.7          10.2      1  2014  2014-04-08   08            1   \n",
       "4         1.2           7.2      1  2014  2014-04-08   08            1   \n",
       "5         1.3           7.8      1  2014  2014-04-08   07            1   \n",
       "\n",
       "   census_tract  \n",
       "0  3.606101e+10  \n",
       "2  3.606101e+10  \n",
       "3  3.606101e+10  \n",
       "4  3.606101e+10  \n",
       "5  3.606101e+10  "
      ]
     },
     "execution_count": 8,
     "metadata": {},
     "output_type": "execute_result"
    }
   ],
   "source": [
    "df14.head()"
   ]
  },
  {
   "cell_type": "code",
   "execution_count": 17,
   "metadata": {
    "collapsed": false
   },
   "outputs": [
    {
     "data": {
      "text/plain": [
       "0    2014-04-08\n",
       "0    2014-06-30\n",
       "0    2014-07-10\n",
       "0    2014-08-16\n",
       "0    2014-09-10\n",
       "Name: date, dtype: object"
      ]
     },
     "execution_count": 17,
     "metadata": {},
     "output_type": "execute_result"
    }
   ],
   "source": [
    "date = df14['date']"
   ]
  },
  {
   "cell_type": "code",
   "execution_count": 49,
   "metadata": {
    "collapsed": true
   },
   "outputs": [],
   "source": [
    "date = date.astype(str)"
   ]
  },
  {
   "cell_type": "code",
   "execution_count": 50,
   "metadata": {
    "collapsed": true
   },
   "outputs": [],
   "source": [
    "l = [i for i in date]"
   ]
  },
  {
   "cell_type": "code",
   "execution_count": 51,
   "metadata": {
    "collapsed": false
   },
   "outputs": [],
   "source": [
    "values = [l[i].split('-')[1] for i in range(0,len(date))]"
   ]
  },
  {
   "cell_type": "code",
   "execution_count": 52,
   "metadata": {
    "collapsed": false
   },
   "outputs": [],
   "source": [
    "df14['month'] = np.asarray(values)"
   ]
  },
  {
   "cell_type": "code",
   "execution_count": 53,
   "metadata": {
    "collapsed": true
   },
   "outputs": [],
   "source": [
    "df14['month'] = df14['month'].astype(int)"
   ]
  },
  {
   "cell_type": "code",
   "execution_count": 54,
   "metadata": {
    "collapsed": false
   },
   "outputs": [
    {
     "data": {
      "text/plain": [
       "5    14420340\n",
       "4    14320476\n",
       "6    13448076\n",
       "9    13110624\n",
       "7    12754317\n",
       "8    12351492\n",
       "Name: month, dtype: int64"
      ]
     },
     "execution_count": 54,
     "metadata": {},
     "output_type": "execute_result"
    }
   ],
   "source": [
    "df14.month.value_counts()"
   ]
  },
  {
   "cell_type": "code",
   "execution_count": 55,
   "metadata": {
    "collapsed": false
   },
   "outputs": [
    {
     "data": {
      "text/html": [
       "<div>\n",
       "<table border=\"1\" class=\"dataframe\">\n",
       "  <thead>\n",
       "    <tr style=\"text-align: right;\">\n",
       "      <th></th>\n",
       "      <th>passenger_count</th>\n",
       "      <th>trip_distance</th>\n",
       "      <th>pickup_longitude</th>\n",
       "      <th>pickup_latitude</th>\n",
       "      <th>tip_amount</th>\n",
       "      <th>total_amount</th>\n",
       "      <th>rides</th>\n",
       "      <th>year</th>\n",
       "      <th>date</th>\n",
       "      <th>hour</th>\n",
       "      <th>day_of_week</th>\n",
       "      <th>census_tract</th>\n",
       "      <th>month</th>\n",
       "    </tr>\n",
       "  </thead>\n",
       "  <tbody>\n",
       "    <tr>\n",
       "      <th>0</th>\n",
       "      <td>1</td>\n",
       "      <td>2.5</td>\n",
       "      <td>-73.958848</td>\n",
       "      <td>40.763585</td>\n",
       "      <td>3.7</td>\n",
       "      <td>22.2</td>\n",
       "      <td>1</td>\n",
       "      <td>2014</td>\n",
       "      <td>2014-04-08</td>\n",
       "      <td>08</td>\n",
       "      <td>1</td>\n",
       "      <td>3.606101e+10</td>\n",
       "      <td>4</td>\n",
       "    </tr>\n",
       "    <tr>\n",
       "      <th>2</th>\n",
       "      <td>2</td>\n",
       "      <td>0.6</td>\n",
       "      <td>-73.992233</td>\n",
       "      <td>40.729136</td>\n",
       "      <td>1.2</td>\n",
       "      <td>7.2</td>\n",
       "      <td>1</td>\n",
       "      <td>2014</td>\n",
       "      <td>2014-04-08</td>\n",
       "      <td>08</td>\n",
       "      <td>1</td>\n",
       "      <td>3.606101e+10</td>\n",
       "      <td>4</td>\n",
       "    </tr>\n",
       "    <tr>\n",
       "      <th>3</th>\n",
       "      <td>2</td>\n",
       "      <td>0.5</td>\n",
       "      <td>-73.973726</td>\n",
       "      <td>40.750095</td>\n",
       "      <td>1.7</td>\n",
       "      <td>10.2</td>\n",
       "      <td>1</td>\n",
       "      <td>2014</td>\n",
       "      <td>2014-04-08</td>\n",
       "      <td>08</td>\n",
       "      <td>1</td>\n",
       "      <td>3.606101e+10</td>\n",
       "      <td>4</td>\n",
       "    </tr>\n",
       "    <tr>\n",
       "      <th>4</th>\n",
       "      <td>1</td>\n",
       "      <td>0.4</td>\n",
       "      <td>-73.973502</td>\n",
       "      <td>40.755479</td>\n",
       "      <td>1.2</td>\n",
       "      <td>7.2</td>\n",
       "      <td>1</td>\n",
       "      <td>2014</td>\n",
       "      <td>2014-04-08</td>\n",
       "      <td>08</td>\n",
       "      <td>1</td>\n",
       "      <td>3.606101e+10</td>\n",
       "      <td>4</td>\n",
       "    </tr>\n",
       "    <tr>\n",
       "      <th>5</th>\n",
       "      <td>1</td>\n",
       "      <td>0.8</td>\n",
       "      <td>-73.963002</td>\n",
       "      <td>40.766355</td>\n",
       "      <td>1.3</td>\n",
       "      <td>7.8</td>\n",
       "      <td>1</td>\n",
       "      <td>2014</td>\n",
       "      <td>2014-04-08</td>\n",
       "      <td>07</td>\n",
       "      <td>1</td>\n",
       "      <td>3.606101e+10</td>\n",
       "      <td>4</td>\n",
       "    </tr>\n",
       "  </tbody>\n",
       "</table>\n",
       "</div>"
      ],
      "text/plain": [
       "   passenger_count  trip_distance  pickup_longitude  pickup_latitude  \\\n",
       "0                1            2.5        -73.958848        40.763585   \n",
       "2                2            0.6        -73.992233        40.729136   \n",
       "3                2            0.5        -73.973726        40.750095   \n",
       "4                1            0.4        -73.973502        40.755479   \n",
       "5                1            0.8        -73.963002        40.766355   \n",
       "\n",
       "   tip_amount  total_amount  rides  year        date hour  day_of_week  \\\n",
       "0         3.7          22.2      1  2014  2014-04-08   08            1   \n",
       "2         1.2           7.2      1  2014  2014-04-08   08            1   \n",
       "3         1.7          10.2      1  2014  2014-04-08   08            1   \n",
       "4         1.2           7.2      1  2014  2014-04-08   08            1   \n",
       "5         1.3           7.8      1  2014  2014-04-08   07            1   \n",
       "\n",
       "   census_tract  month  \n",
       "0  3.606101e+10      4  \n",
       "2  3.606101e+10      4  \n",
       "3  3.606101e+10      4  \n",
       "4  3.606101e+10      4  \n",
       "5  3.606101e+10      4  "
      ]
     },
     "execution_count": 55,
     "metadata": {},
     "output_type": "execute_result"
    }
   ],
   "source": [
    "df14.head()"
   ]
  },
  {
   "cell_type": "code",
   "execution_count": 56,
   "metadata": {
    "collapsed": true
   },
   "outputs": [],
   "source": [
    "df14_3 = df14[df14['month'] >= 7]"
   ]
  },
  {
   "cell_type": "code",
   "execution_count": 57,
   "metadata": {
    "collapsed": false
   },
   "outputs": [
    {
     "data": {
      "text/plain": [
       "(38216433, 13)"
      ]
     },
     "execution_count": 57,
     "metadata": {},
     "output_type": "execute_result"
    }
   ],
   "source": [
    "df14_3.shape"
   ]
  },
  {
   "cell_type": "code",
   "execution_count": 63,
   "metadata": {
    "collapsed": true
   },
   "outputs": [],
   "source": [
    "df14_gr = df14_3.groupby('census_tract',as_index=False).sum()"
   ]
  },
  {
   "cell_type": "code",
   "execution_count": 64,
   "metadata": {
    "collapsed": false
   },
   "outputs": [
    {
     "data": {
      "text/plain": [
       "Index(['census_tract', 'passenger_count', 'trip_distance', 'pickup_longitude',\n",
       "       'pickup_latitude', 'tip_amount', 'total_amount', 'rides', 'year',\n",
       "       'day_of_week', 'month'],\n",
       "      dtype='object')"
      ]
     },
     "execution_count": 64,
     "metadata": {},
     "output_type": "execute_result"
    }
   ],
   "source": [
    "df14_gr.columns"
   ]
  },
  {
   "cell_type": "code",
   "execution_count": 65,
   "metadata": {
    "collapsed": true
   },
   "outputs": [],
   "source": [
    "df14_gr = df14_gr.drop(['passenger_count', \n",
    "                        'trip_distance', \n",
    "                        'pickup_longitude',\n",
    "                        'pickup_latitude', \n",
    "                        'tip_amount', \n",
    "                        'total_amount', \n",
    "                        'year',\n",
    "                        'day_of_week',\n",
    "                        'month'],axis=1)"
   ]
  },
  {
   "cell_type": "code",
   "execution_count": 71,
   "metadata": {
    "collapsed": false
   },
   "outputs": [
    {
     "data": {
      "text/html": [
       "<div>\n",
       "<table border=\"1\" class=\"dataframe\">\n",
       "  <thead>\n",
       "    <tr style=\"text-align: right;\">\n",
       "      <th></th>\n",
       "      <th>census_tract</th>\n",
       "      <th>rides</th>\n",
       "    </tr>\n",
       "  </thead>\n",
       "  <tbody>\n",
       "    <tr>\n",
       "      <th>0</th>\n",
       "      <td>3.600500e+10</td>\n",
       "      <td>57</td>\n",
       "    </tr>\n",
       "    <tr>\n",
       "      <th>1</th>\n",
       "      <td>3.600500e+10</td>\n",
       "      <td>10</td>\n",
       "    </tr>\n",
       "    <tr>\n",
       "      <th>2</th>\n",
       "      <td>3.600500e+10</td>\n",
       "      <td>27</td>\n",
       "    </tr>\n",
       "    <tr>\n",
       "      <th>3</th>\n",
       "      <td>3.600500e+10</td>\n",
       "      <td>26</td>\n",
       "    </tr>\n",
       "    <tr>\n",
       "      <th>4</th>\n",
       "      <td>3.600500e+10</td>\n",
       "      <td>22</td>\n",
       "    </tr>\n",
       "  </tbody>\n",
       "</table>\n",
       "</div>"
      ],
      "text/plain": [
       "   census_tract  rides\n",
       "0  3.600500e+10     57\n",
       "1  3.600500e+10     10\n",
       "2  3.600500e+10     27\n",
       "3  3.600500e+10     26\n",
       "4  3.600500e+10     22"
      ]
     },
     "execution_count": 71,
     "metadata": {},
     "output_type": "execute_result"
    }
   ],
   "source": [
    "df14_gr.head()"
   ]
  },
  {
   "cell_type": "code",
   "execution_count": 66,
   "metadata": {
    "collapsed": false
   },
   "outputs": [],
   "source": [
    "# too big to pickle\n",
    "\n",
    "# with open('df14_jul_sep.pkl','wb') as picklefile:\n",
    "#     pickle.dump(df14_3,picklefile)"
   ]
  },
  {
   "cell_type": "code",
   "execution_count": 61,
   "metadata": {
    "collapsed": true
   },
   "outputs": [],
   "source": [
    "with open('df_y_rides09.pkl','rb') as picklefile:\n",
    "    df09 = pickle.load(picklefile)"
   ]
  },
  {
   "cell_type": "code",
   "execution_count": 72,
   "metadata": {
    "collapsed": false
   },
   "outputs": [
    {
     "data": {
      "text/html": [
       "<div>\n",
       "<table border=\"1\" class=\"dataframe\">\n",
       "  <thead>\n",
       "    <tr style=\"text-align: right;\">\n",
       "      <th></th>\n",
       "      <th>census_tract</th>\n",
       "      <th>rides_09</th>\n",
       "    </tr>\n",
       "  </thead>\n",
       "  <tbody>\n",
       "    <tr>\n",
       "      <th>0</th>\n",
       "      <td>3.600500e+10</td>\n",
       "      <td>163</td>\n",
       "    </tr>\n",
       "    <tr>\n",
       "      <th>1</th>\n",
       "      <td>3.600500e+10</td>\n",
       "      <td>143</td>\n",
       "    </tr>\n",
       "    <tr>\n",
       "      <th>2</th>\n",
       "      <td>3.600500e+10</td>\n",
       "      <td>104</td>\n",
       "    </tr>\n",
       "    <tr>\n",
       "      <th>3</th>\n",
       "      <td>3.600500e+10</td>\n",
       "      <td>133</td>\n",
       "    </tr>\n",
       "    <tr>\n",
       "      <th>4</th>\n",
       "      <td>3.600500e+10</td>\n",
       "      <td>157</td>\n",
       "    </tr>\n",
       "  </tbody>\n",
       "</table>\n",
       "</div>"
      ],
      "text/plain": [
       "   census_tract  rides_09\n",
       "0  3.600500e+10       163\n",
       "1  3.600500e+10       143\n",
       "2  3.600500e+10       104\n",
       "3  3.600500e+10       133\n",
       "4  3.600500e+10       157"
      ]
     },
     "execution_count": 72,
     "metadata": {},
     "output_type": "execute_result"
    }
   ],
   "source": [
    "df09.head()"
   ]
  },
  {
   "cell_type": "code",
   "execution_count": 75,
   "metadata": {
    "collapsed": false
   },
   "outputs": [],
   "source": [
    "df_0914 = pd.merge(df09,df14_gr,on='census_tract',how='left')"
   ]
  },
  {
   "cell_type": "code",
   "execution_count": 77,
   "metadata": {
    "collapsed": false
   },
   "outputs": [
    {
     "data": {
      "text/plain": [
       "(2168, 3)"
      ]
     },
     "execution_count": 77,
     "metadata": {},
     "output_type": "execute_result"
    }
   ],
   "source": [
    "df_0914.shape"
   ]
  },
  {
   "cell_type": "code",
   "execution_count": 78,
   "metadata": {
    "collapsed": true
   },
   "outputs": [],
   "source": [
    "df_0914['5_year_change'] = (df_0914.rides / df_0914.rides_09) - 1"
   ]
  },
  {
   "cell_type": "code",
   "execution_count": 79,
   "metadata": {
    "collapsed": true
   },
   "outputs": [
    {
     "data": {
      "text/html": [
       "<div>\n",
       "<table border=\"1\" class=\"dataframe\">\n",
       "  <thead>\n",
       "    <tr style=\"text-align: right;\">\n",
       "      <th></th>\n",
       "      <th>census_tract</th>\n",
       "      <th>rides_09</th>\n",
       "      <th>rides</th>\n",
       "      <th>5_year_change</th>\n",
       "    </tr>\n",
       "  </thead>\n",
       "  <tbody>\n",
       "    <tr>\n",
       "      <th>0</th>\n",
       "      <td>3.600500e+10</td>\n",
       "      <td>163</td>\n",
       "      <td>57.0</td>\n",
       "      <td>-0.650307</td>\n",
       "    </tr>\n",
       "    <tr>\n",
       "      <th>1</th>\n",
       "      <td>3.600500e+10</td>\n",
       "      <td>143</td>\n",
       "      <td>10.0</td>\n",
       "      <td>-0.930070</td>\n",
       "    </tr>\n",
       "    <tr>\n",
       "      <th>2</th>\n",
       "      <td>3.600500e+10</td>\n",
       "      <td>104</td>\n",
       "      <td>27.0</td>\n",
       "      <td>-0.740385</td>\n",
       "    </tr>\n",
       "    <tr>\n",
       "      <th>3</th>\n",
       "      <td>3.600500e+10</td>\n",
       "      <td>133</td>\n",
       "      <td>26.0</td>\n",
       "      <td>-0.804511</td>\n",
       "    </tr>\n",
       "    <tr>\n",
       "      <th>4</th>\n",
       "      <td>3.600500e+10</td>\n",
       "      <td>157</td>\n",
       "      <td>22.0</td>\n",
       "      <td>-0.859873</td>\n",
       "    </tr>\n",
       "    <tr>\n",
       "      <th>5</th>\n",
       "      <td>3.600500e+10</td>\n",
       "      <td>89</td>\n",
       "      <td>21.0</td>\n",
       "      <td>-0.764045</td>\n",
       "    </tr>\n",
       "    <tr>\n",
       "      <th>6</th>\n",
       "      <td>3.600500e+10</td>\n",
       "      <td>167</td>\n",
       "      <td>2720.0</td>\n",
       "      <td>15.287425</td>\n",
       "    </tr>\n",
       "    <tr>\n",
       "      <th>7</th>\n",
       "      <td>3.600500e+10</td>\n",
       "      <td>104</td>\n",
       "      <td>5.0</td>\n",
       "      <td>-0.951923</td>\n",
       "    </tr>\n",
       "    <tr>\n",
       "      <th>8</th>\n",
       "      <td>3.600500e+10</td>\n",
       "      <td>156</td>\n",
       "      <td>347.0</td>\n",
       "      <td>1.224359</td>\n",
       "    </tr>\n",
       "    <tr>\n",
       "      <th>9</th>\n",
       "      <td>3.600500e+10</td>\n",
       "      <td>149</td>\n",
       "      <td>207.0</td>\n",
       "      <td>0.389262</td>\n",
       "    </tr>\n",
       "    <tr>\n",
       "      <th>10</th>\n",
       "      <td>3.600500e+10</td>\n",
       "      <td>117</td>\n",
       "      <td>208.0</td>\n",
       "      <td>0.777778</td>\n",
       "    </tr>\n",
       "    <tr>\n",
       "      <th>11</th>\n",
       "      <td>3.600500e+10</td>\n",
       "      <td>117</td>\n",
       "      <td>59.0</td>\n",
       "      <td>-0.495726</td>\n",
       "    </tr>\n",
       "    <tr>\n",
       "      <th>12</th>\n",
       "      <td>3.600500e+10</td>\n",
       "      <td>141</td>\n",
       "      <td>92.0</td>\n",
       "      <td>-0.347518</td>\n",
       "    </tr>\n",
       "    <tr>\n",
       "      <th>13</th>\n",
       "      <td>3.600500e+10</td>\n",
       "      <td>146</td>\n",
       "      <td>58.0</td>\n",
       "      <td>-0.602740</td>\n",
       "    </tr>\n",
       "    <tr>\n",
       "      <th>14</th>\n",
       "      <td>3.600500e+10</td>\n",
       "      <td>71</td>\n",
       "      <td>34.0</td>\n",
       "      <td>-0.521127</td>\n",
       "    </tr>\n",
       "    <tr>\n",
       "      <th>15</th>\n",
       "      <td>3.600500e+10</td>\n",
       "      <td>86</td>\n",
       "      <td>29.0</td>\n",
       "      <td>-0.662791</td>\n",
       "    </tr>\n",
       "    <tr>\n",
       "      <th>16</th>\n",
       "      <td>3.600500e+10</td>\n",
       "      <td>55</td>\n",
       "      <td>21.0</td>\n",
       "      <td>-0.618182</td>\n",
       "    </tr>\n",
       "    <tr>\n",
       "      <th>17</th>\n",
       "      <td>3.600500e+10</td>\n",
       "      <td>134</td>\n",
       "      <td>257.0</td>\n",
       "      <td>0.917910</td>\n",
       "    </tr>\n",
       "    <tr>\n",
       "      <th>18</th>\n",
       "      <td>3.600500e+10</td>\n",
       "      <td>120</td>\n",
       "      <td>112.0</td>\n",
       "      <td>-0.066667</td>\n",
       "    </tr>\n",
       "    <tr>\n",
       "      <th>19</th>\n",
       "      <td>3.600500e+10</td>\n",
       "      <td>111</td>\n",
       "      <td>134.0</td>\n",
       "      <td>0.207207</td>\n",
       "    </tr>\n",
       "    <tr>\n",
       "      <th>20</th>\n",
       "      <td>3.600500e+10</td>\n",
       "      <td>90</td>\n",
       "      <td>83.0</td>\n",
       "      <td>-0.077778</td>\n",
       "    </tr>\n",
       "    <tr>\n",
       "      <th>21</th>\n",
       "      <td>3.600500e+10</td>\n",
       "      <td>146</td>\n",
       "      <td>462.0</td>\n",
       "      <td>2.164384</td>\n",
       "    </tr>\n",
       "    <tr>\n",
       "      <th>22</th>\n",
       "      <td>3.600500e+10</td>\n",
       "      <td>73</td>\n",
       "      <td>17.0</td>\n",
       "      <td>-0.767123</td>\n",
       "    </tr>\n",
       "    <tr>\n",
       "      <th>23</th>\n",
       "      <td>3.600500e+10</td>\n",
       "      <td>87</td>\n",
       "      <td>40.0</td>\n",
       "      <td>-0.540230</td>\n",
       "    </tr>\n",
       "    <tr>\n",
       "      <th>24</th>\n",
       "      <td>3.600500e+10</td>\n",
       "      <td>85</td>\n",
       "      <td>54.0</td>\n",
       "      <td>-0.364706</td>\n",
       "    </tr>\n",
       "    <tr>\n",
       "      <th>25</th>\n",
       "      <td>3.600501e+10</td>\n",
       "      <td>106</td>\n",
       "      <td>22.0</td>\n",
       "      <td>-0.792453</td>\n",
       "    </tr>\n",
       "    <tr>\n",
       "      <th>26</th>\n",
       "      <td>3.600501e+10</td>\n",
       "      <td>35</td>\n",
       "      <td>24.0</td>\n",
       "      <td>-0.314286</td>\n",
       "    </tr>\n",
       "    <tr>\n",
       "      <th>27</th>\n",
       "      <td>3.600501e+10</td>\n",
       "      <td>168</td>\n",
       "      <td>3729.0</td>\n",
       "      <td>21.196429</td>\n",
       "    </tr>\n",
       "    <tr>\n",
       "      <th>28</th>\n",
       "      <td>3.600501e+10</td>\n",
       "      <td>73</td>\n",
       "      <td>41.0</td>\n",
       "      <td>-0.438356</td>\n",
       "    </tr>\n",
       "    <tr>\n",
       "      <th>29</th>\n",
       "      <td>3.600501e+10</td>\n",
       "      <td>72</td>\n",
       "      <td>37.0</td>\n",
       "      <td>-0.486111</td>\n",
       "    </tr>\n",
       "    <tr>\n",
       "      <th>...</th>\n",
       "      <td>...</td>\n",
       "      <td>...</td>\n",
       "      <td>...</td>\n",
       "      <td>...</td>\n",
       "    </tr>\n",
       "    <tr>\n",
       "      <th>2138</th>\n",
       "      <td>3.608502e+10</td>\n",
       "      <td>122</td>\n",
       "      <td>36.0</td>\n",
       "      <td>-0.704918</td>\n",
       "    </tr>\n",
       "    <tr>\n",
       "      <th>2139</th>\n",
       "      <td>3.608502e+10</td>\n",
       "      <td>4</td>\n",
       "      <td>2.0</td>\n",
       "      <td>-0.500000</td>\n",
       "    </tr>\n",
       "    <tr>\n",
       "      <th>2140</th>\n",
       "      <td>3.608502e+10</td>\n",
       "      <td>2</td>\n",
       "      <td>4.0</td>\n",
       "      <td>1.000000</td>\n",
       "    </tr>\n",
       "    <tr>\n",
       "      <th>2141</th>\n",
       "      <td>3.608502e+10</td>\n",
       "      <td>15</td>\n",
       "      <td>2.0</td>\n",
       "      <td>-0.866667</td>\n",
       "    </tr>\n",
       "    <tr>\n",
       "      <th>2142</th>\n",
       "      <td>3.608502e+10</td>\n",
       "      <td>59</td>\n",
       "      <td>2.0</td>\n",
       "      <td>-0.966102</td>\n",
       "    </tr>\n",
       "    <tr>\n",
       "      <th>2143</th>\n",
       "      <td>3.608502e+10</td>\n",
       "      <td>147</td>\n",
       "      <td>94.0</td>\n",
       "      <td>-0.360544</td>\n",
       "    </tr>\n",
       "    <tr>\n",
       "      <th>2144</th>\n",
       "      <td>3.608502e+10</td>\n",
       "      <td>66</td>\n",
       "      <td>13.0</td>\n",
       "      <td>-0.803030</td>\n",
       "    </tr>\n",
       "    <tr>\n",
       "      <th>2145</th>\n",
       "      <td>3.608502e+10</td>\n",
       "      <td>6</td>\n",
       "      <td>5.0</td>\n",
       "      <td>-0.166667</td>\n",
       "    </tr>\n",
       "    <tr>\n",
       "      <th>2146</th>\n",
       "      <td>3.608502e+10</td>\n",
       "      <td>11</td>\n",
       "      <td>2.0</td>\n",
       "      <td>-0.818182</td>\n",
       "    </tr>\n",
       "    <tr>\n",
       "      <th>2147</th>\n",
       "      <td>3.608502e+10</td>\n",
       "      <td>5</td>\n",
       "      <td>9.0</td>\n",
       "      <td>0.800000</td>\n",
       "    </tr>\n",
       "    <tr>\n",
       "      <th>2148</th>\n",
       "      <td>3.608502e+10</td>\n",
       "      <td>6</td>\n",
       "      <td>1.0</td>\n",
       "      <td>-0.833333</td>\n",
       "    </tr>\n",
       "    <tr>\n",
       "      <th>2149</th>\n",
       "      <td>3.608502e+10</td>\n",
       "      <td>16</td>\n",
       "      <td>NaN</td>\n",
       "      <td>NaN</td>\n",
       "    </tr>\n",
       "    <tr>\n",
       "      <th>2150</th>\n",
       "      <td>3.608502e+10</td>\n",
       "      <td>143</td>\n",
       "      <td>116.0</td>\n",
       "      <td>-0.188811</td>\n",
       "    </tr>\n",
       "    <tr>\n",
       "      <th>2151</th>\n",
       "      <td>3.608503e+10</td>\n",
       "      <td>9</td>\n",
       "      <td>2.0</td>\n",
       "      <td>-0.777778</td>\n",
       "    </tr>\n",
       "    <tr>\n",
       "      <th>2152</th>\n",
       "      <td>3.608503e+10</td>\n",
       "      <td>22</td>\n",
       "      <td>NaN</td>\n",
       "      <td>NaN</td>\n",
       "    </tr>\n",
       "    <tr>\n",
       "      <th>2153</th>\n",
       "      <td>3.608503e+10</td>\n",
       "      <td>39</td>\n",
       "      <td>3.0</td>\n",
       "      <td>-0.923077</td>\n",
       "    </tr>\n",
       "    <tr>\n",
       "      <th>2154</th>\n",
       "      <td>3.608503e+10</td>\n",
       "      <td>12</td>\n",
       "      <td>3.0</td>\n",
       "      <td>-0.750000</td>\n",
       "    </tr>\n",
       "    <tr>\n",
       "      <th>2155</th>\n",
       "      <td>3.608503e+10</td>\n",
       "      <td>14</td>\n",
       "      <td>NaN</td>\n",
       "      <td>NaN</td>\n",
       "    </tr>\n",
       "    <tr>\n",
       "      <th>2156</th>\n",
       "      <td>3.608503e+10</td>\n",
       "      <td>10</td>\n",
       "      <td>NaN</td>\n",
       "      <td>NaN</td>\n",
       "    </tr>\n",
       "    <tr>\n",
       "      <th>2157</th>\n",
       "      <td>3.608503e+10</td>\n",
       "      <td>17</td>\n",
       "      <td>3.0</td>\n",
       "      <td>-0.823529</td>\n",
       "    </tr>\n",
       "    <tr>\n",
       "      <th>2158</th>\n",
       "      <td>3.608503e+10</td>\n",
       "      <td>8</td>\n",
       "      <td>1.0</td>\n",
       "      <td>-0.875000</td>\n",
       "    </tr>\n",
       "    <tr>\n",
       "      <th>2159</th>\n",
       "      <td>3.608503e+10</td>\n",
       "      <td>162</td>\n",
       "      <td>180.0</td>\n",
       "      <td>0.111111</td>\n",
       "    </tr>\n",
       "    <tr>\n",
       "      <th>2160</th>\n",
       "      <td>3.608503e+10</td>\n",
       "      <td>23</td>\n",
       "      <td>9.0</td>\n",
       "      <td>-0.608696</td>\n",
       "    </tr>\n",
       "    <tr>\n",
       "      <th>2161</th>\n",
       "      <td>3.608503e+10</td>\n",
       "      <td>41</td>\n",
       "      <td>7.0</td>\n",
       "      <td>-0.829268</td>\n",
       "    </tr>\n",
       "    <tr>\n",
       "      <th>2162</th>\n",
       "      <td>3.608503e+10</td>\n",
       "      <td>17</td>\n",
       "      <td>5.0</td>\n",
       "      <td>-0.705882</td>\n",
       "    </tr>\n",
       "    <tr>\n",
       "      <th>2163</th>\n",
       "      <td>3.608503e+10</td>\n",
       "      <td>11</td>\n",
       "      <td>4.0</td>\n",
       "      <td>-0.636364</td>\n",
       "    </tr>\n",
       "    <tr>\n",
       "      <th>2164</th>\n",
       "      <td>3.608503e+10</td>\n",
       "      <td>18</td>\n",
       "      <td>8.0</td>\n",
       "      <td>-0.555556</td>\n",
       "    </tr>\n",
       "    <tr>\n",
       "      <th>2165</th>\n",
       "      <td>3.608503e+10</td>\n",
       "      <td>168</td>\n",
       "      <td>3203.0</td>\n",
       "      <td>18.065476</td>\n",
       "    </tr>\n",
       "    <tr>\n",
       "      <th>2166</th>\n",
       "      <td>3.608503e+10</td>\n",
       "      <td>168</td>\n",
       "      <td>960.0</td>\n",
       "      <td>4.714286</td>\n",
       "    </tr>\n",
       "    <tr>\n",
       "      <th>2167</th>\n",
       "      <td>3.608599e+10</td>\n",
       "      <td>87</td>\n",
       "      <td>3.0</td>\n",
       "      <td>-0.965517</td>\n",
       "    </tr>\n",
       "  </tbody>\n",
       "</table>\n",
       "<p>2168 rows × 4 columns</p>\n",
       "</div>"
      ],
      "text/plain": [
       "      census_tract  rides_09   rides  5_year_change\n",
       "0     3.600500e+10       163    57.0      -0.650307\n",
       "1     3.600500e+10       143    10.0      -0.930070\n",
       "2     3.600500e+10       104    27.0      -0.740385\n",
       "3     3.600500e+10       133    26.0      -0.804511\n",
       "4     3.600500e+10       157    22.0      -0.859873\n",
       "5     3.600500e+10        89    21.0      -0.764045\n",
       "6     3.600500e+10       167  2720.0      15.287425\n",
       "7     3.600500e+10       104     5.0      -0.951923\n",
       "8     3.600500e+10       156   347.0       1.224359\n",
       "9     3.600500e+10       149   207.0       0.389262\n",
       "10    3.600500e+10       117   208.0       0.777778\n",
       "11    3.600500e+10       117    59.0      -0.495726\n",
       "12    3.600500e+10       141    92.0      -0.347518\n",
       "13    3.600500e+10       146    58.0      -0.602740\n",
       "14    3.600500e+10        71    34.0      -0.521127\n",
       "15    3.600500e+10        86    29.0      -0.662791\n",
       "16    3.600500e+10        55    21.0      -0.618182\n",
       "17    3.600500e+10       134   257.0       0.917910\n",
       "18    3.600500e+10       120   112.0      -0.066667\n",
       "19    3.600500e+10       111   134.0       0.207207\n",
       "20    3.600500e+10        90    83.0      -0.077778\n",
       "21    3.600500e+10       146   462.0       2.164384\n",
       "22    3.600500e+10        73    17.0      -0.767123\n",
       "23    3.600500e+10        87    40.0      -0.540230\n",
       "24    3.600500e+10        85    54.0      -0.364706\n",
       "25    3.600501e+10       106    22.0      -0.792453\n",
       "26    3.600501e+10        35    24.0      -0.314286\n",
       "27    3.600501e+10       168  3729.0      21.196429\n",
       "28    3.600501e+10        73    41.0      -0.438356\n",
       "29    3.600501e+10        72    37.0      -0.486111\n",
       "...            ...       ...     ...            ...\n",
       "2138  3.608502e+10       122    36.0      -0.704918\n",
       "2139  3.608502e+10         4     2.0      -0.500000\n",
       "2140  3.608502e+10         2     4.0       1.000000\n",
       "2141  3.608502e+10        15     2.0      -0.866667\n",
       "2142  3.608502e+10        59     2.0      -0.966102\n",
       "2143  3.608502e+10       147    94.0      -0.360544\n",
       "2144  3.608502e+10        66    13.0      -0.803030\n",
       "2145  3.608502e+10         6     5.0      -0.166667\n",
       "2146  3.608502e+10        11     2.0      -0.818182\n",
       "2147  3.608502e+10         5     9.0       0.800000\n",
       "2148  3.608502e+10         6     1.0      -0.833333\n",
       "2149  3.608502e+10        16     NaN            NaN\n",
       "2150  3.608502e+10       143   116.0      -0.188811\n",
       "2151  3.608503e+10         9     2.0      -0.777778\n",
       "2152  3.608503e+10        22     NaN            NaN\n",
       "2153  3.608503e+10        39     3.0      -0.923077\n",
       "2154  3.608503e+10        12     3.0      -0.750000\n",
       "2155  3.608503e+10        14     NaN            NaN\n",
       "2156  3.608503e+10        10     NaN            NaN\n",
       "2157  3.608503e+10        17     3.0      -0.823529\n",
       "2158  3.608503e+10         8     1.0      -0.875000\n",
       "2159  3.608503e+10       162   180.0       0.111111\n",
       "2160  3.608503e+10        23     9.0      -0.608696\n",
       "2161  3.608503e+10        41     7.0      -0.829268\n",
       "2162  3.608503e+10        17     5.0      -0.705882\n",
       "2163  3.608503e+10        11     4.0      -0.636364\n",
       "2164  3.608503e+10        18     8.0      -0.555556\n",
       "2165  3.608503e+10       168  3203.0      18.065476\n",
       "2166  3.608503e+10       168   960.0       4.714286\n",
       "2167  3.608599e+10        87     3.0      -0.965517\n",
       "\n",
       "[2168 rows x 4 columns]"
      ]
     },
     "execution_count": 79,
     "metadata": {},
     "output_type": "execute_result"
    }
   ],
   "source": [
    "df_0914"
   ]
  },
  {
   "cell_type": "code",
   "execution_count": 81,
   "metadata": {
    "collapsed": true
   },
   "outputs": [],
   "source": [
    "df_0914 = df_0914.drop(['rides','rides_09'],axis=1)"
   ]
  },
  {
   "cell_type": "code",
   "execution_count": 82,
   "metadata": {
    "collapsed": true
   },
   "outputs": [],
   "source": [
    "with open('yellow_growth_for_model.pkl','wb') as picklefile:\n",
    "    pickle.dump(df_0914,picklefile)"
   ]
  },
  {
   "cell_type": "code",
   "execution_count": null,
   "metadata": {
    "collapsed": true
   },
   "outputs": [],
   "source": []
  },
  {
   "cell_type": "code",
   "execution_count": null,
   "metadata": {
    "collapsed": true
   },
   "outputs": [],
   "source": []
  }
 ],
 "metadata": {
  "anaconda-cloud": {},
  "kernelspec": {
   "display_name": "Python 3",
   "language": "python",
   "name": "python3"
  },
  "language_info": {
   "codemirror_mode": {
    "name": "ipython",
    "version": 3
   },
   "file_extension": ".py",
   "mimetype": "text/x-python",
   "name": "python",
   "nbconvert_exporter": "python",
   "pygments_lexer": "ipython3",
   "version": "3.5.2"
  }
 },
 "nbformat": 4,
 "nbformat_minor": 1
}
