{
 "cells": [
  {
   "cell_type": "code",
   "execution_count": 1,
   "metadata": {
    "collapsed": true
   },
   "outputs": [],
   "source": [
    "import pandas as pd\n",
    "import numpy as np\n",
    "\n",
    "import matplotlib.pyplot as plt\n",
    "import seaborn as sns\n",
    "% matplotlib inline\n",
    "\n",
    "import pickle\n",
    "\n",
    "from scipy import spatial"
   ]
  },
  {
   "cell_type": "code",
   "execution_count": 2,
   "metadata": {
    "collapsed": false
   },
   "outputs": [],
   "source": [
    "df = pd.read_csv('Complaints_noise.csv')"
   ]
  },
  {
   "cell_type": "code",
   "execution_count": 3,
   "metadata": {
    "collapsed": false
   },
   "outputs": [
    {
     "data": {
      "text/plain": [
       "(1086650, 16)"
      ]
     },
     "execution_count": 3,
     "metadata": {},
     "output_type": "execute_result"
    }
   ],
   "source": [
    "df.shape"
   ]
  },
  {
   "cell_type": "code",
   "execution_count": 4,
   "metadata": {
    "collapsed": false
   },
   "outputs": [
    {
     "data": {
      "text/html": [
       "<div>\n",
       "<table border=\"1\" class=\"dataframe\">\n",
       "  <thead>\n",
       "    <tr style=\"text-align: right;\">\n",
       "      <th></th>\n",
       "      <th>Unnamed: 0</th>\n",
       "      <th>address_type</th>\n",
       "      <th>borough</th>\n",
       "      <th>city</th>\n",
       "      <th>complaint_type</th>\n",
       "      <th>cross_street_1</th>\n",
       "      <th>cross_street_2</th>\n",
       "      <th>facility_type</th>\n",
       "      <th>incident_address</th>\n",
       "      <th>incident_zip</th>\n",
       "      <th>intersection_street_1</th>\n",
       "      <th>intersection_street_2</th>\n",
       "      <th>latitude</th>\n",
       "      <th>longitude</th>\n",
       "      <th>unique_key</th>\n",
       "      <th>call_date</th>\n",
       "    </tr>\n",
       "  </thead>\n",
       "  <tbody>\n",
       "    <tr>\n",
       "      <th>1086645</th>\n",
       "      <td>1086645</td>\n",
       "      <td>ADDRESS</td>\n",
       "      <td>QUEENS</td>\n",
       "      <td>RIDGEWOOD</td>\n",
       "      <td>Noise - Residential</td>\n",
       "      <td>DECATUR STREET</td>\n",
       "      <td>CODY AVENUE</td>\n",
       "      <td>Precinct</td>\n",
       "      <td>1111 WYCKOFF AVENUE</td>\n",
       "      <td>11385.0</td>\n",
       "      <td>NaN</td>\n",
       "      <td>NaN</td>\n",
       "      <td>40.694001</td>\n",
       "      <td>-73.901408</td>\n",
       "      <td>34554183</td>\n",
       "      <td>2016-10-16 04:42:35</td>\n",
       "    </tr>\n",
       "    <tr>\n",
       "      <th>1086646</th>\n",
       "      <td>1086646</td>\n",
       "      <td>ADDRESS</td>\n",
       "      <td>BROOKLYN</td>\n",
       "      <td>BROOKLYN</td>\n",
       "      <td>Noise - Residential</td>\n",
       "      <td>GLENWOOD ROAD</td>\n",
       "      <td>FLATLANDS AVENUE</td>\n",
       "      <td>Precinct</td>\n",
       "      <td>715 EAST 102 STREET</td>\n",
       "      <td>11236.0</td>\n",
       "      <td>NaN</td>\n",
       "      <td>NaN</td>\n",
       "      <td>40.647282</td>\n",
       "      <td>-73.898216</td>\n",
       "      <td>34554184</td>\n",
       "      <td>2016-10-16 03:41:51</td>\n",
       "    </tr>\n",
       "    <tr>\n",
       "      <th>1086647</th>\n",
       "      <td>1086647</td>\n",
       "      <td>ADDRESS</td>\n",
       "      <td>BRONX</td>\n",
       "      <td>BRONX</td>\n",
       "      <td>Noise - Residential</td>\n",
       "      <td>EAST 184 STREET</td>\n",
       "      <td>EAST 187 STREET</td>\n",
       "      <td>Precinct</td>\n",
       "      <td>2386 HOFFMAN STREET</td>\n",
       "      <td>10458.0</td>\n",
       "      <td>NaN</td>\n",
       "      <td>NaN</td>\n",
       "      <td>40.855580</td>\n",
       "      <td>-73.888824</td>\n",
       "      <td>34554198</td>\n",
       "      <td>2016-10-16 06:31:03</td>\n",
       "    </tr>\n",
       "    <tr>\n",
       "      <th>1086648</th>\n",
       "      <td>1086648</td>\n",
       "      <td>ADDRESS</td>\n",
       "      <td>QUEENS</td>\n",
       "      <td>ELMHURST</td>\n",
       "      <td>Noise - Residential</td>\n",
       "      <td>ELMHURST AVENUE</td>\n",
       "      <td>WHITNEY AVENUE</td>\n",
       "      <td>Precinct</td>\n",
       "      <td>40-82 DENMAN STREET</td>\n",
       "      <td>11373.0</td>\n",
       "      <td>NaN</td>\n",
       "      <td>NaN</td>\n",
       "      <td>40.746969</td>\n",
       "      <td>-73.875594</td>\n",
       "      <td>34554199</td>\n",
       "      <td>2016-10-16 02:52:36</td>\n",
       "    </tr>\n",
       "    <tr>\n",
       "      <th>1086649</th>\n",
       "      <td>1086649</td>\n",
       "      <td>ADDRESS</td>\n",
       "      <td>BROOKLYN</td>\n",
       "      <td>BROOKLYN</td>\n",
       "      <td>Noise - Residential</td>\n",
       "      <td>GLENWOOD ROAD</td>\n",
       "      <td>FLATLANDS AVENUE</td>\n",
       "      <td>Precinct</td>\n",
       "      <td>707 EAST 102 STREET</td>\n",
       "      <td>11236.0</td>\n",
       "      <td>NaN</td>\n",
       "      <td>NaN</td>\n",
       "      <td>40.647326</td>\n",
       "      <td>-73.898263</td>\n",
       "      <td>34554202</td>\n",
       "      <td>2016-10-16 03:56:58</td>\n",
       "    </tr>\n",
       "  </tbody>\n",
       "</table>\n",
       "</div>"
      ],
      "text/plain": [
       "         Unnamed: 0 address_type   borough       city       complaint_type  \\\n",
       "1086645     1086645      ADDRESS    QUEENS  RIDGEWOOD  Noise - Residential   \n",
       "1086646     1086646      ADDRESS  BROOKLYN   BROOKLYN  Noise - Residential   \n",
       "1086647     1086647      ADDRESS     BRONX      BRONX  Noise - Residential   \n",
       "1086648     1086648      ADDRESS    QUEENS   ELMHURST  Noise - Residential   \n",
       "1086649     1086649      ADDRESS  BROOKLYN   BROOKLYN  Noise - Residential   \n",
       "\n",
       "          cross_street_1    cross_street_2 facility_type     incident_address  \\\n",
       "1086645   DECATUR STREET       CODY AVENUE      Precinct  1111 WYCKOFF AVENUE   \n",
       "1086646    GLENWOOD ROAD  FLATLANDS AVENUE      Precinct  715 EAST 102 STREET   \n",
       "1086647  EAST 184 STREET   EAST 187 STREET      Precinct  2386 HOFFMAN STREET   \n",
       "1086648  ELMHURST AVENUE    WHITNEY AVENUE      Precinct  40-82 DENMAN STREET   \n",
       "1086649    GLENWOOD ROAD  FLATLANDS AVENUE      Precinct  707 EAST 102 STREET   \n",
       "\n",
       "         incident_zip intersection_street_1 intersection_street_2   latitude  \\\n",
       "1086645       11385.0                   NaN                   NaN  40.694001   \n",
       "1086646       11236.0                   NaN                   NaN  40.647282   \n",
       "1086647       10458.0                   NaN                   NaN  40.855580   \n",
       "1086648       11373.0                   NaN                   NaN  40.746969   \n",
       "1086649       11236.0                   NaN                   NaN  40.647326   \n",
       "\n",
       "         longitude  unique_key            call_date  \n",
       "1086645 -73.901408    34554183  2016-10-16 04:42:35  \n",
       "1086646 -73.898216    34554184  2016-10-16 03:41:51  \n",
       "1086647 -73.888824    34554198  2016-10-16 06:31:03  \n",
       "1086648 -73.875594    34554199  2016-10-16 02:52:36  \n",
       "1086649 -73.898263    34554202  2016-10-16 03:56:58  "
      ]
     },
     "execution_count": 4,
     "metadata": {},
     "output_type": "execute_result"
    }
   ],
   "source": [
    "df.tail()"
   ]
  },
  {
   "cell_type": "code",
   "execution_count": 5,
   "metadata": {
    "collapsed": false
   },
   "outputs": [],
   "source": [
    "dff = df.drop(['Unnamed: 0', \n",
    "               'address_type', \n",
    "               'borough',\n",
    "               'city',\n",
    "               'cross_street_1',\n",
    "               'cross_street_2', \n",
    "               'incident_address',\n",
    "               'incident_zip',\n",
    "               'intersection_street_1', \n",
    "               'intersection_street_2'],axis=1)"
   ]
  },
  {
   "cell_type": "code",
   "execution_count": 6,
   "metadata": {
    "collapsed": false
   },
   "outputs": [
    {
     "data": {
      "text/html": [
       "<div>\n",
       "<table border=\"1\" class=\"dataframe\">\n",
       "  <thead>\n",
       "    <tr style=\"text-align: right;\">\n",
       "      <th></th>\n",
       "      <th>complaint_type</th>\n",
       "      <th>facility_type</th>\n",
       "      <th>latitude</th>\n",
       "      <th>longitude</th>\n",
       "      <th>unique_key</th>\n",
       "      <th>call_date</th>\n",
       "    </tr>\n",
       "  </thead>\n",
       "  <tbody>\n",
       "    <tr>\n",
       "      <th>0</th>\n",
       "      <td>Noise - Residential</td>\n",
       "      <td>Precinct</td>\n",
       "      <td>40.828783</td>\n",
       "      <td>-73.921617</td>\n",
       "      <td>34037643</td>\n",
       "      <td>2016-08-09 00:43:14</td>\n",
       "    </tr>\n",
       "    <tr>\n",
       "      <th>1</th>\n",
       "      <td>Noise - Residential</td>\n",
       "      <td>Precinct</td>\n",
       "      <td>40.831527</td>\n",
       "      <td>-73.928863</td>\n",
       "      <td>34042959</td>\n",
       "      <td>2016-08-09 02:01:49</td>\n",
       "    </tr>\n",
       "    <tr>\n",
       "      <th>2</th>\n",
       "      <td>Noise - Residential</td>\n",
       "      <td>Precinct</td>\n",
       "      <td>40.837573</td>\n",
       "      <td>-73.918969</td>\n",
       "      <td>34043216</td>\n",
       "      <td>2016-08-09 23:39:28</td>\n",
       "    </tr>\n",
       "    <tr>\n",
       "      <th>3</th>\n",
       "      <td>Noise - Residential</td>\n",
       "      <td>Precinct</td>\n",
       "      <td>40.830346</td>\n",
       "      <td>-73.923274</td>\n",
       "      <td>34044247</td>\n",
       "      <td>2016-08-10 00:22:07</td>\n",
       "    </tr>\n",
       "    <tr>\n",
       "      <th>4</th>\n",
       "      <td>Noise - Residential</td>\n",
       "      <td>Precinct</td>\n",
       "      <td>40.833263</td>\n",
       "      <td>-73.918862</td>\n",
       "      <td>34045382</td>\n",
       "      <td>2016-08-10 00:37:43</td>\n",
       "    </tr>\n",
       "  </tbody>\n",
       "</table>\n",
       "</div>"
      ],
      "text/plain": [
       "        complaint_type facility_type   latitude  longitude  unique_key  \\\n",
       "0  Noise - Residential      Precinct  40.828783 -73.921617    34037643   \n",
       "1  Noise - Residential      Precinct  40.831527 -73.928863    34042959   \n",
       "2  Noise - Residential      Precinct  40.837573 -73.918969    34043216   \n",
       "3  Noise - Residential      Precinct  40.830346 -73.923274    34044247   \n",
       "4  Noise - Residential      Precinct  40.833263 -73.918862    34045382   \n",
       "\n",
       "             call_date  \n",
       "0  2016-08-09 00:43:14  \n",
       "1  2016-08-09 02:01:49  \n",
       "2  2016-08-09 23:39:28  \n",
       "3  2016-08-10 00:22:07  \n",
       "4  2016-08-10 00:37:43  "
      ]
     },
     "execution_count": 6,
     "metadata": {},
     "output_type": "execute_result"
    }
   ],
   "source": [
    "dff.head()"
   ]
  },
  {
   "cell_type": "code",
   "execution_count": 7,
   "metadata": {
    "collapsed": true
   },
   "outputs": [],
   "source": [
    "dff['coordinates'] = list(zip(dff.latitude, dff.longitude))\n",
    "dff.coordinates = dff.coordinates.apply(list)"
   ]
  },
  {
   "cell_type": "code",
   "execution_count": 8,
   "metadata": {
    "collapsed": false
   },
   "outputs": [
    {
     "data": {
      "text/plain": [
       "(1086650, 7)"
      ]
     },
     "execution_count": 8,
     "metadata": {},
     "output_type": "execute_result"
    }
   ],
   "source": [
    "with open('df_noise.pkl','wb') as picklefile:\n",
    "    pickle.dump(dff, picklefile)\n",
    "\n",
    "with open('df_noise.pkl', 'rb') as picklefile:\n",
    "    dff = pickle.load(picklefile)\n",
    "\n",
    "dff.shape"
   ]
  },
  {
   "cell_type": "code",
   "execution_count": 9,
   "metadata": {
    "collapsed": false
   },
   "outputs": [
    {
     "data": {
      "text/plain": [
       "(1086650, 7)"
      ]
     },
     "execution_count": 9,
     "metadata": {},
     "output_type": "execute_result"
    }
   ],
   "source": [
    "with open('df_noise.pkl', 'rb') as picklefile:\n",
    "    dff = pickle.load(picklefile)\n",
    "\n",
    "dff.shape"
   ]
  },
  {
   "cell_type": "code",
   "execution_count": null,
   "metadata": {
    "collapsed": true
   },
   "outputs": [],
   "source": []
  },
  {
   "cell_type": "code",
   "execution_count": 10,
   "metadata": {
    "collapsed": false
   },
   "outputs": [
    {
     "data": {
      "text/plain": [
       "(2168, 7)"
      ]
     },
     "execution_count": 10,
     "metadata": {},
     "output_type": "execute_result"
    }
   ],
   "source": [
    "df_ct = pd.read_csv('geoid_census_tract.csv')\n",
    "df_ct.shape"
   ]
  },
  {
   "cell_type": "code",
   "execution_count": 11,
   "metadata": {
    "collapsed": false
   },
   "outputs": [
    {
     "data": {
      "text/html": [
       "<div>\n",
       "<table border=\"1\" class=\"dataframe\">\n",
       "  <thead>\n",
       "    <tr style=\"text-align: right;\">\n",
       "      <th></th>\n",
       "      <th>INDEX</th>\n",
       "      <th>GEOID</th>\n",
       "      <th>STATE</th>\n",
       "      <th>COUNTY</th>\n",
       "      <th>TRACT</th>\n",
       "      <th>LAT</th>\n",
       "      <th>LON</th>\n",
       "      <th>COORDS</th>\n",
       "    </tr>\n",
       "  </thead>\n",
       "  <tbody>\n",
       "    <tr>\n",
       "      <th>0</th>\n",
       "      <td>88</td>\n",
       "      <td>36005000100</td>\n",
       "      <td>36</td>\n",
       "      <td>5</td>\n",
       "      <td>100</td>\n",
       "      <td>40.793492</td>\n",
       "      <td>-73.883532</td>\n",
       "      <td>[40.7934921, -73.8835318]</td>\n",
       "    </tr>\n",
       "    <tr>\n",
       "      <th>1</th>\n",
       "      <td>89</td>\n",
       "      <td>36005000200</td>\n",
       "      <td>36</td>\n",
       "      <td>5</td>\n",
       "      <td>200</td>\n",
       "      <td>40.804573</td>\n",
       "      <td>-73.856859</td>\n",
       "      <td>[40.8045733, -73.8568585]</td>\n",
       "    </tr>\n",
       "    <tr>\n",
       "      <th>2</th>\n",
       "      <td>90</td>\n",
       "      <td>36005000400</td>\n",
       "      <td>36</td>\n",
       "      <td>5</td>\n",
       "      <td>400</td>\n",
       "      <td>40.808915</td>\n",
       "      <td>-73.850488</td>\n",
       "      <td>[40.8089152, -73.8504884]</td>\n",
       "    </tr>\n",
       "    <tr>\n",
       "      <th>3</th>\n",
       "      <td>91</td>\n",
       "      <td>36005001600</td>\n",
       "      <td>36</td>\n",
       "      <td>5</td>\n",
       "      <td>1600</td>\n",
       "      <td>40.818848</td>\n",
       "      <td>-73.858076</td>\n",
       "      <td>[40.8188478, -73.8580764]</td>\n",
       "    </tr>\n",
       "    <tr>\n",
       "      <th>4</th>\n",
       "      <td>92</td>\n",
       "      <td>36005001900</td>\n",
       "      <td>36</td>\n",
       "      <td>5</td>\n",
       "      <td>1900</td>\n",
       "      <td>40.800999</td>\n",
       "      <td>-73.909373</td>\n",
       "      <td>[40.800999, -73.9093729]</td>\n",
       "    </tr>\n",
       "  </tbody>\n",
       "</table>\n",
       "</div>"
      ],
      "text/plain": [
       "   INDEX        GEOID  STATE  COUNTY  TRACT        LAT        LON  \\\n",
       "0     88  36005000100     36       5    100  40.793492 -73.883532   \n",
       "1     89  36005000200     36       5    200  40.804573 -73.856859   \n",
       "2     90  36005000400     36       5    400  40.808915 -73.850488   \n",
       "3     91  36005001600     36       5   1600  40.818848 -73.858076   \n",
       "4     92  36005001900     36       5   1900  40.800999 -73.909373   \n",
       "\n",
       "                      COORDS  \n",
       "0  [40.7934921, -73.8835318]  \n",
       "1  [40.8045733, -73.8568585]  \n",
       "2  [40.8089152, -73.8504884]  \n",
       "3  [40.8188478, -73.8580764]  \n",
       "4   [40.800999, -73.9093729]  "
      ]
     },
     "execution_count": 11,
     "metadata": {},
     "output_type": "execute_result"
    }
   ],
   "source": [
    "df_ct['COORDS'] = list(zip(df_ct.LAT, df_ct.LON))\n",
    "df_ct.COORDS = df_ct.COORDS.apply(list)\n",
    "df_ct.head()"
   ]
  },
  {
   "cell_type": "code",
   "execution_count": 12,
   "metadata": {
    "collapsed": false
   },
   "outputs": [
    {
     "data": {
      "text/plain": [
       "1086650"
      ]
     },
     "execution_count": 12,
     "metadata": {},
     "output_type": "execute_result"
    }
   ],
   "source": [
    "X_train = pd.Series(df_ct.COORDS).tolist()\n",
    "y_train = df_ct.GEOID\n",
    "X_test = [dff.coordinates]\n",
    "len(X_test[0])"
   ]
  },
  {
   "cell_type": "code",
   "execution_count": 13,
   "metadata": {
    "collapsed": true
   },
   "outputs": [],
   "source": [
    "def nearest(X_train, y_train, X_test):\n",
    "    tree = spatial.KDTree(np.array(X_train))\n",
    "    (distances,indexes) = tree.query(X_test)\n",
    "    for i,d in list(zip(indexes,distances)):\n",
    "        yield y_train[i]"
   ]
  },
  {
   "cell_type": "code",
   "execution_count": 14,
   "metadata": {
    "collapsed": false
   },
   "outputs": [
    {
     "data": {
      "text/plain": [
       "1086650"
      ]
     },
     "execution_count": 14,
     "metadata": {},
     "output_type": "execute_result"
    }
   ],
   "source": [
    "results = []\n",
    "for result in nearest(X_train, y_train, X_test):\n",
    "    results.append(result)\n",
    "len(results[0])"
   ]
  },
  {
   "cell_type": "code",
   "execution_count": 15,
   "metadata": {
    "collapsed": true
   },
   "outputs": [],
   "source": [
    "df_coords = pd.DataFrame(np.asarray(results))\n",
    "df_coords = df_coords.transpose()"
   ]
  },
  {
   "cell_type": "code",
   "execution_count": 16,
   "metadata": {
    "collapsed": false
   },
   "outputs": [
    {
     "data": {
      "text/html": [
       "<div>\n",
       "<table border=\"1\" class=\"dataframe\">\n",
       "  <thead>\n",
       "    <tr style=\"text-align: right;\">\n",
       "      <th></th>\n",
       "      <th>0</th>\n",
       "    </tr>\n",
       "  </thead>\n",
       "  <tbody>\n",
       "    <tr>\n",
       "      <th>0</th>\n",
       "      <td>3.600502e+10</td>\n",
       "    </tr>\n",
       "    <tr>\n",
       "      <th>1</th>\n",
       "      <td>3.600502e+10</td>\n",
       "    </tr>\n",
       "    <tr>\n",
       "      <th>2</th>\n",
       "      <td>3.600502e+10</td>\n",
       "    </tr>\n",
       "    <tr>\n",
       "      <th>3</th>\n",
       "      <td>3.600502e+10</td>\n",
       "    </tr>\n",
       "    <tr>\n",
       "      <th>4</th>\n",
       "      <td>3.600502e+10</td>\n",
       "    </tr>\n",
       "  </tbody>\n",
       "</table>\n",
       "</div>"
      ],
      "text/plain": [
       "              0\n",
       "0  3.600502e+10\n",
       "1  3.600502e+10\n",
       "2  3.600502e+10\n",
       "3  3.600502e+10\n",
       "4  3.600502e+10"
      ]
     },
     "execution_count": 16,
     "metadata": {},
     "output_type": "execute_result"
    }
   ],
   "source": [
    "with open('df_coords_noise.pkl','wb') as picklefile:\n",
    "    pickle.dump(df_coords, picklefile)\n",
    "\n",
    "with open('df_coords_noise.pkl', 'rb') as picklefile:\n",
    "    df_coords = pickle.load(picklefile)\n",
    "\n",
    "df_coords.head()"
   ]
  },
  {
   "cell_type": "code",
   "execution_count": 17,
   "metadata": {
    "collapsed": false
   },
   "outputs": [],
   "source": [
    "with open('df_coords_noise.pkl', 'rb') as picklefile:\n",
    "    df_coords = pickle.load(picklefile)"
   ]
  },
  {
   "cell_type": "code",
   "execution_count": 18,
   "metadata": {
    "collapsed": false
   },
   "outputs": [
    {
     "data": {
      "text/html": [
       "<div>\n",
       "<table border=\"1\" class=\"dataframe\">\n",
       "  <thead>\n",
       "    <tr style=\"text-align: right;\">\n",
       "      <th></th>\n",
       "      <th>census_tract</th>\n",
       "    </tr>\n",
       "  </thead>\n",
       "  <tbody>\n",
       "    <tr>\n",
       "      <th>0</th>\n",
       "      <td>36005018301.0</td>\n",
       "    </tr>\n",
       "    <tr>\n",
       "      <th>1</th>\n",
       "      <td>36005018900.0</td>\n",
       "    </tr>\n",
       "    <tr>\n",
       "      <th>2</th>\n",
       "      <td>36005022101.0</td>\n",
       "    </tr>\n",
       "    <tr>\n",
       "      <th>3</th>\n",
       "      <td>36005019500.0</td>\n",
       "    </tr>\n",
       "    <tr>\n",
       "      <th>4</th>\n",
       "      <td>36005018102.0</td>\n",
       "    </tr>\n",
       "  </tbody>\n",
       "</table>\n",
       "</div>"
      ],
      "text/plain": [
       "    census_tract\n",
       "0  36005018301.0\n",
       "1  36005018900.0\n",
       "2  36005022101.0\n",
       "3  36005019500.0\n",
       "4  36005018102.0"
      ]
     },
     "execution_count": 18,
     "metadata": {},
     "output_type": "execute_result"
    }
   ],
   "source": [
    "df_coords = df_coords.rename(columns={0:'census_tract'})\n",
    "df_coords.head()\n",
    "df_coords['census_tract'] = df_coords['census_tract'].apply(str)\n",
    "df_coords.head()"
   ]
  },
  {
   "cell_type": "code",
   "execution_count": 19,
   "metadata": {
    "collapsed": false
   },
   "outputs": [],
   "source": [
    "dff['census_tract'] = df_coords"
   ]
  },
  {
   "cell_type": "code",
   "execution_count": 20,
   "metadata": {
    "collapsed": true
   },
   "outputs": [],
   "source": [
    "dff['complaint_count'] = 1"
   ]
  },
  {
   "cell_type": "code",
   "execution_count": 21,
   "metadata": {
    "collapsed": false
   },
   "outputs": [
    {
     "data": {
      "text/plain": [
       "(1086650, 9)"
      ]
     },
     "execution_count": 21,
     "metadata": {},
     "output_type": "execute_result"
    }
   ],
   "source": [
    "dff.shape"
   ]
  },
  {
   "cell_type": "code",
   "execution_count": 22,
   "metadata": {
    "collapsed": false
   },
   "outputs": [],
   "source": [
    "df_g = dff.groupby('census_tract',as_index=False).sum()"
   ]
  },
  {
   "cell_type": "code",
   "execution_count": 23,
   "metadata": {
    "collapsed": false
   },
   "outputs": [],
   "source": [
    "df_g_ = df_g.drop(['latitude','longitude','unique_key'],axis=1)"
   ]
  },
  {
   "cell_type": "code",
   "execution_count": 24,
   "metadata": {
    "collapsed": false
   },
   "outputs": [
    {
     "data": {
      "text/html": [
       "<div>\n",
       "<table border=\"1\" class=\"dataframe\">\n",
       "  <thead>\n",
       "    <tr style=\"text-align: right;\">\n",
       "      <th></th>\n",
       "      <th>census_tract</th>\n",
       "      <th>complaint_count</th>\n",
       "    </tr>\n",
       "  </thead>\n",
       "  <tbody>\n",
       "    <tr>\n",
       "      <th>0</th>\n",
       "      <td>36005000200.0</td>\n",
       "      <td>170</td>\n",
       "    </tr>\n",
       "    <tr>\n",
       "      <th>1</th>\n",
       "      <td>36005000400.0</td>\n",
       "      <td>244</td>\n",
       "    </tr>\n",
       "    <tr>\n",
       "      <th>2</th>\n",
       "      <td>36005001600.0</td>\n",
       "      <td>548</td>\n",
       "    </tr>\n",
       "    <tr>\n",
       "      <th>3</th>\n",
       "      <td>36005001900.0</td>\n",
       "      <td>13</td>\n",
       "    </tr>\n",
       "    <tr>\n",
       "      <th>4</th>\n",
       "      <td>36005002000.0</td>\n",
       "      <td>1290</td>\n",
       "    </tr>\n",
       "  </tbody>\n",
       "</table>\n",
       "</div>"
      ],
      "text/plain": [
       "    census_tract  complaint_count\n",
       "0  36005000200.0              170\n",
       "1  36005000400.0              244\n",
       "2  36005001600.0              548\n",
       "3  36005001900.0               13\n",
       "4  36005002000.0             1290"
      ]
     },
     "execution_count": 24,
     "metadata": {},
     "output_type": "execute_result"
    }
   ],
   "source": [
    "df_g_.head()"
   ]
  },
  {
   "cell_type": "code",
   "execution_count": 25,
   "metadata": {
    "collapsed": false
   },
   "outputs": [],
   "source": [
    "df_g_.replace('NaN',np.nan)\n",
    "df_ = df_g_.fillna(value=0)"
   ]
  },
  {
   "cell_type": "code",
   "execution_count": 33,
   "metadata": {
    "collapsed": false
   },
   "outputs": [],
   "source": [
    "df_['census_tract'] = df_['census_tract'].astype(float)"
   ]
  },
  {
   "cell_type": "code",
   "execution_count": 36,
   "metadata": {
    "collapsed": false
   },
   "outputs": [
    {
     "data": {
      "text/html": [
       "<div>\n",
       "<table border=\"1\" class=\"dataframe\">\n",
       "  <thead>\n",
       "    <tr style=\"text-align: right;\">\n",
       "      <th></th>\n",
       "      <th>census_tract</th>\n",
       "      <th>complaint_count</th>\n",
       "    </tr>\n",
       "  </thead>\n",
       "  <tbody>\n",
       "    <tr>\n",
       "      <th>0</th>\n",
       "      <td>3.600500e+10</td>\n",
       "      <td>170</td>\n",
       "    </tr>\n",
       "    <tr>\n",
       "      <th>1</th>\n",
       "      <td>3.600500e+10</td>\n",
       "      <td>244</td>\n",
       "    </tr>\n",
       "    <tr>\n",
       "      <th>2</th>\n",
       "      <td>3.600500e+10</td>\n",
       "      <td>548</td>\n",
       "    </tr>\n",
       "    <tr>\n",
       "      <th>3</th>\n",
       "      <td>3.600500e+10</td>\n",
       "      <td>13</td>\n",
       "    </tr>\n",
       "    <tr>\n",
       "      <th>4</th>\n",
       "      <td>3.600500e+10</td>\n",
       "      <td>1290</td>\n",
       "    </tr>\n",
       "  </tbody>\n",
       "</table>\n",
       "</div>"
      ],
      "text/plain": [
       "   census_tract  complaint_count\n",
       "0  3.600500e+10              170\n",
       "1  3.600500e+10              244\n",
       "2  3.600500e+10              548\n",
       "3  3.600500e+10               13\n",
       "4  3.600500e+10             1290"
      ]
     },
     "execution_count": 36,
     "metadata": {},
     "output_type": "execute_result"
    }
   ],
   "source": [
    "df_.head()"
   ]
  },
  {
   "cell_type": "code",
   "execution_count": 41,
   "metadata": {
    "collapsed": false
   },
   "outputs": [],
   "source": [
    "with open('noisecomplaint_for_model.pkl','wb') as picklefile:\n",
    "    pickle.dump(df_, picklefile)"
   ]
  },
  {
   "cell_type": "code",
   "execution_count": 42,
   "metadata": {
    "collapsed": true
   },
   "outputs": [],
   "source": [
    "with open('noisecomplaint_for_model.pkl', 'rb') as picklefile:\n",
    "    noise = pickle.load(picklefile)"
   ]
  },
  {
   "cell_type": "code",
   "execution_count": 43,
   "metadata": {
    "collapsed": false
   },
   "outputs": [
    {
     "data": {
      "text/plain": [
       "census_tract       float64\n",
       "complaint_count      int64\n",
       "dtype: object"
      ]
     },
     "execution_count": 43,
     "metadata": {},
     "output_type": "execute_result"
    }
   ],
   "source": [
    "noise.dtypes"
   ]
  },
  {
   "cell_type": "code",
   "execution_count": null,
   "metadata": {
    "collapsed": true
   },
   "outputs": [],
   "source": []
  }
 ],
 "metadata": {
  "anaconda-cloud": {},
  "kernelspec": {
   "display_name": "Python 3",
   "language": "python",
   "name": "python3"
  },
  "language_info": {
   "codemirror_mode": {
    "name": "ipython",
    "version": 3
   },
   "file_extension": ".py",
   "mimetype": "text/x-python",
   "name": "python",
   "nbconvert_exporter": "python",
   "pygments_lexer": "ipython3",
   "version": "3.5.2"
  }
 },
 "nbformat": 4,
 "nbformat_minor": 1
}
