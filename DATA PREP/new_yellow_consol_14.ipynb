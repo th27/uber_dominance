{
 "cells": [
  {
   "cell_type": "code",
   "execution_count": 1,
   "metadata": {
    "collapsed": false
   },
   "outputs": [],
   "source": [
    "import pandas as pd\n",
    "import numpy as np\n",
    "import pickle\n",
    "from scipy import spatial"
   ]
  },
  {
   "cell_type": "code",
   "execution_count": 3,
   "metadata": {
    "collapsed": false
   },
   "outputs": [
    {
     "data": {
      "text/html": [
       "<div>\n",
       "<table border=\"1\" class=\"dataframe\">\n",
       "  <thead>\n",
       "    <tr style=\"text-align: right;\">\n",
       "      <th></th>\n",
       "      <th>INDEX</th>\n",
       "      <th>GEOID</th>\n",
       "      <th>STATE</th>\n",
       "      <th>COUNTY</th>\n",
       "      <th>TRACT</th>\n",
       "      <th>LAT</th>\n",
       "      <th>LON</th>\n",
       "      <th>COORDS</th>\n",
       "    </tr>\n",
       "  </thead>\n",
       "  <tbody>\n",
       "    <tr>\n",
       "      <th>0</th>\n",
       "      <td>88</td>\n",
       "      <td>36005000100</td>\n",
       "      <td>36</td>\n",
       "      <td>5</td>\n",
       "      <td>100</td>\n",
       "      <td>40.793492</td>\n",
       "      <td>-73.883532</td>\n",
       "      <td>[40.7934921, -73.8835318]</td>\n",
       "    </tr>\n",
       "    <tr>\n",
       "      <th>1</th>\n",
       "      <td>89</td>\n",
       "      <td>36005000200</td>\n",
       "      <td>36</td>\n",
       "      <td>5</td>\n",
       "      <td>200</td>\n",
       "      <td>40.804573</td>\n",
       "      <td>-73.856859</td>\n",
       "      <td>[40.8045733, -73.8568585]</td>\n",
       "    </tr>\n",
       "    <tr>\n",
       "      <th>2</th>\n",
       "      <td>90</td>\n",
       "      <td>36005000400</td>\n",
       "      <td>36</td>\n",
       "      <td>5</td>\n",
       "      <td>400</td>\n",
       "      <td>40.808915</td>\n",
       "      <td>-73.850488</td>\n",
       "      <td>[40.8089152, -73.8504884]</td>\n",
       "    </tr>\n",
       "    <tr>\n",
       "      <th>3</th>\n",
       "      <td>91</td>\n",
       "      <td>36005001600</td>\n",
       "      <td>36</td>\n",
       "      <td>5</td>\n",
       "      <td>1600</td>\n",
       "      <td>40.818848</td>\n",
       "      <td>-73.858076</td>\n",
       "      <td>[40.8188478, -73.8580764]</td>\n",
       "    </tr>\n",
       "    <tr>\n",
       "      <th>4</th>\n",
       "      <td>92</td>\n",
       "      <td>36005001900</td>\n",
       "      <td>36</td>\n",
       "      <td>5</td>\n",
       "      <td>1900</td>\n",
       "      <td>40.800999</td>\n",
       "      <td>-73.909373</td>\n",
       "      <td>[40.800999, -73.9093729]</td>\n",
       "    </tr>\n",
       "  </tbody>\n",
       "</table>\n",
       "</div>"
      ],
      "text/plain": [
       "   INDEX        GEOID  STATE  COUNTY  TRACT        LAT        LON  \\\n",
       "0     88  36005000100     36       5    100  40.793492 -73.883532   \n",
       "1     89  36005000200     36       5    200  40.804573 -73.856859   \n",
       "2     90  36005000400     36       5    400  40.808915 -73.850488   \n",
       "3     91  36005001600     36       5   1600  40.818848 -73.858076   \n",
       "4     92  36005001900     36       5   1900  40.800999 -73.909373   \n",
       "\n",
       "                      COORDS  \n",
       "0  [40.7934921, -73.8835318]  \n",
       "1  [40.8045733, -73.8568585]  \n",
       "2  [40.8089152, -73.8504884]  \n",
       "3  [40.8188478, -73.8580764]  \n",
       "4   [40.800999, -73.9093729]  "
      ]
     },
     "execution_count": 3,
     "metadata": {},
     "output_type": "execute_result"
    }
   ],
   "source": [
    "df_ct = pd.read_csv('geoid_census_tract.csv')\n",
    "df_ct['COORDS'] = list(zip(df_ct.LAT, df_ct.LON))\n",
    "df_ct.COORDS = df_ct.COORDS.apply(list)\n",
    "df_ct.head()"
   ]
  },
  {
   "cell_type": "code",
   "execution_count": 4,
   "metadata": {
    "collapsed": false
   },
   "outputs": [],
   "source": [
    "X_train = pd.Series(df_ct.COORDS).tolist()\n",
    "y_train = df_ct.GEOID\n",
    "\n",
    "def nearest(X_train, y_train, X_test):\n",
    "    tree = spatial.KDTree(np.array(X_train))\n",
    "    (distances,indexes) = tree.query(X_test)\n",
    "    for i,d in list(zip(indexes,distances)):\n",
    "        yield y_train[i]"
   ]
  },
  {
   "cell_type": "code",
   "execution_count": 4,
   "metadata": {
    "collapsed": false
   },
   "outputs": [
    {
     "name": "stdout",
     "output_type": "stream",
     "text": [
      "pass1\n",
      "pass2\n",
      "1\n",
      "(14320476, 1)\n",
      "pass3\n"
     ]
    }
   ],
   "source": [
    "with open('yellow2014-04.pkl','rb') as picklefile:\n",
    "    df1404 = pickle.load(picklefile)\n",
    "\n",
    "print('pass1')\n",
    "\n",
    "df1404['coordinates'] = list(zip(df1404.pickup_latitude, df1404.pickup_longitude))\n",
    "df1404.coordinates = df1404.coordinates.apply(list)\n",
    "\n",
    "print('pass2')\n",
    "\n",
    "X_test = [df1404.coordinates]\n",
    "results = []\n",
    "for result in nearest(X_train, y_train, X_test):\n",
    "    results.append(result)\n",
    "\n",
    "print(len(results)) \n",
    "\n",
    "df_coords4 = pd.DataFrame(np.asarray(results))\n",
    "df_coords4 = df_coords4.transpose()\n",
    "\n",
    "print(df_coords4.shape)\n",
    "\n",
    "with open('df_coords4.pkl','wb') as picklefile:\n",
    "    pickle.dump(df_coords4,picklefile)\n",
    "\n",
    "print('pass3')"
   ]
  },
  {
   "cell_type": "code",
   "execution_count": 5,
   "metadata": {
    "collapsed": false
   },
   "outputs": [
    {
     "name": "stdout",
     "output_type": "stream",
     "text": [
      "pass1\n",
      "pass2\n",
      "1\n",
      "(14420340, 1)\n",
      "pass3\n"
     ]
    }
   ],
   "source": [
    "with open('yellow2014-05.pkl','rb') as picklefile:\n",
    "    df1405 = pickle.load(picklefile)\n",
    "\n",
    "print('pass1')\n",
    "\n",
    "df1405['coordinates'] = list(zip(df1405.pickup_latitude, df1405.pickup_longitude))\n",
    "df1405.coordinates = df1405.coordinates.apply(list)\n",
    "\n",
    "print('pass2')\n",
    "\n",
    "X_test = [df1405.coordinates]\n",
    "results = []\n",
    "for result in nearest(X_train, y_train, X_test):\n",
    "    results.append(result)\n",
    "\n",
    "print(len(results)) \n",
    "\n",
    "df_coords5 = pd.DataFrame(np.asarray(results))\n",
    "df_coords5 = df_coords5.transpose()\n",
    "\n",
    "print(df_coords5.shape)\n",
    "\n",
    "with open('df_coords5.pkl','wb') as picklefile:\n",
    "    pickle.dump(df_coords5,picklefile)\n",
    "\n",
    "print('pass3')"
   ]
  },
  {
   "cell_type": "code",
   "execution_count": null,
   "metadata": {
    "collapsed": false
   },
   "outputs": [
    {
     "name": "stdout",
     "output_type": "stream",
     "text": [
      "pass1\n",
      "pass2\n",
      "1\n",
      "(13448076, 1)\n",
      "pass3\n"
     ]
    }
   ],
   "source": [
    "with open('yellow2014-06.pkl','rb') as picklefile:\n",
    "    df1406 = pickle.load(picklefile)\n",
    "\n",
    "print('pass1')\n",
    "\n",
    "df1406['coordinates'] = list(zip(df1406.pickup_latitude, df1406.pickup_longitude))\n",
    "df1406.coordinates = df1406.coordinates.apply(list)\n",
    "\n",
    "print('pass2')\n",
    "\n",
    "X_test = [df1406.coordinates]\n",
    "results = []\n",
    "for result in nearest(X_train, y_train, X_test):\n",
    "    results.append(result)\n",
    "\n",
    "print(len(results)) \n",
    "\n",
    "df_coords6 = pd.DataFrame(np.asarray(results))\n",
    "df_coords6 = df_coords6.transpose()\n",
    "\n",
    "print(df_coords6.shape)\n",
    "\n",
    "with open('df_coords6.pkl','wb') as picklefile:\n",
    "    pickle.dump(df_coords6,picklefile)\n",
    "\n",
    "print('pass3')"
   ]
  },
  {
   "cell_type": "code",
   "execution_count": 5,
   "metadata": {
    "collapsed": false
   },
   "outputs": [
    {
     "name": "stdout",
     "output_type": "stream",
     "text": [
      "pass1\n",
      "pass2\n",
      "1\n",
      "(12754317, 1)\n",
      "pass3\n"
     ]
    }
   ],
   "source": [
    "with open('yellow2014-07.pkl','rb') as picklefile:\n",
    "    df1407 = pickle.load(picklefile)\n",
    "\n",
    "print('pass1')\n",
    "\n",
    "df1407['coordinates'] = list(zip(df1407.pickup_latitude, df1407.pickup_longitude))\n",
    "df1407.coordinates = df1407.coordinates.apply(list)\n",
    "\n",
    "print('pass2')\n",
    "\n",
    "X_test = [df1407.coordinates]\n",
    "results = []\n",
    "for result in nearest(X_train, y_train, X_test):\n",
    "    results.append(result)\n",
    "\n",
    "print(len(results)) \n",
    "\n",
    "df_coords7 = pd.DataFrame(np.asarray(results))\n",
    "df_coords7 = df_coords7.transpose()\n",
    "\n",
    "print(df_coords7.shape)\n",
    "\n",
    "with open('df_coords7.pkl','wb') as picklefile:\n",
    "    pickle.dump(df_coords7,picklefile)\n",
    "\n",
    "print('pass3')"
   ]
  },
  {
   "cell_type": "code",
   "execution_count": 6,
   "metadata": {
    "collapsed": false
   },
   "outputs": [
    {
     "name": "stdout",
     "output_type": "stream",
     "text": [
      "pass1\n",
      "pass2\n",
      "1\n",
      "(12351492, 1)\n",
      "pass3\n"
     ]
    }
   ],
   "source": [
    "with open('yellow2014-08.pkl','rb') as picklefile:\n",
    "    df1408 = pickle.load(picklefile)\n",
    "\n",
    "print('pass1')\n",
    "\n",
    "df1408['coordinates'] = list(zip(df1408.pickup_latitude, df1408.pickup_longitude))\n",
    "df1408.coordinates = df1408.coordinates.apply(list)\n",
    "\n",
    "print('pass2')\n",
    "\n",
    "X_test = [df1408.coordinates]\n",
    "results = []\n",
    "for result in nearest(X_train, y_train, X_test):\n",
    "    results.append(result)\n",
    "\n",
    "print(len(results)) \n",
    "\n",
    "df_coords8 = pd.DataFrame(np.asarray(results))\n",
    "df_coords8 = df_coords8.transpose()\n",
    "\n",
    "print(df_coords8.shape)\n",
    "\n",
    "with open('df_coords8.pkl','wb') as picklefile:\n",
    "    pickle.dump(df_coords8,picklefile)\n",
    "\n",
    "print('pass3')"
   ]
  },
  {
   "cell_type": "code",
   "execution_count": 7,
   "metadata": {
    "collapsed": false
   },
   "outputs": [
    {
     "name": "stdout",
     "output_type": "stream",
     "text": [
      "pass1\n",
      "pass2\n",
      "1\n",
      "(13110624, 1)\n",
      "pass3\n"
     ]
    }
   ],
   "source": [
    "with open('yellow2014-09.pkl','rb') as picklefile:\n",
    "    df1409 = pickle.load(picklefile)\n",
    "\n",
    "print('pass1')\n",
    "\n",
    "df1409['coordinates'] = list(zip(df1409.pickup_latitude, df1409.pickup_longitude))\n",
    "df1409.coordinates = df1409.coordinates.apply(list)\n",
    "\n",
    "print('pass2')\n",
    "\n",
    "X_test = [df1409.coordinates]\n",
    "results = []\n",
    "for result in nearest(X_train, y_train, X_test):\n",
    "    results.append(result)\n",
    "\n",
    "print(len(results)) \n",
    "\n",
    "df_coords9 = pd.DataFrame(np.asarray(results))\n",
    "df_coords9 = df_coords9.transpose()\n",
    "\n",
    "print(df_coords9.shape)\n",
    "\n",
    "with open('df_coords9.pkl','wb') as picklefile:\n",
    "    pickle.dump(df_coords9,picklefile)\n",
    "\n",
    "print('pass3')"
   ]
  },
  {
   "cell_type": "code",
   "execution_count": 8,
   "metadata": {
    "collapsed": true
   },
   "outputs": [],
   "source": [
    "with open('yellow2014-04.pkl','rb') as picklefile:\n",
    "    df1404 = pickle.load(picklefile)\n",
    "with open('yellow2014-05.pkl','rb') as picklefile:\n",
    "    df1405 = pickle.load(picklefile)\n",
    "with open('yellow2014-06.pkl','rb') as picklefile:\n",
    "    df1406 = pickle.load(picklefile)\n",
    "with open('yellow2014-07.pkl','rb') as picklefile:\n",
    "    df1407 = pickle.load(picklefile)\n",
    "with open('yellow2014-08.pkl','rb') as picklefile:\n",
    "    df1408 = pickle.load(picklefile)\n",
    "with open('yellow2014-09.pkl','rb') as picklefile:\n",
    "    df1409 = pickle.load(picklefile)"
   ]
  },
  {
   "cell_type": "code",
   "execution_count": 9,
   "metadata": {
    "collapsed": true
   },
   "outputs": [],
   "source": [
    "with open('df_coords4.pkl','rb') as picklefile:\n",
    "    df_coords4 = pickle.load(picklefile)\n",
    "with open('df_coords5.pkl','rb') as picklefile:\n",
    "    df_coords5 = pickle.load(picklefile)\n",
    "with open('df_coords6.pkl','rb') as picklefile:\n",
    "    df_coords6 = pickle.load(picklefile)\n",
    "with open('df_coords7.pkl','rb') as picklefile:\n",
    "    df_coords7 = pickle.load(picklefile)\n",
    "with open('df_coords8.pkl','rb') as picklefile:\n",
    "    df_coords8 = pickle.load(picklefile)\n",
    "with open('df_coords9.pkl','rb') as picklefile:\n",
    "    df_coords9 = pickle.load(picklefile)"
   ]
  },
  {
   "cell_type": "code",
   "execution_count": 10,
   "metadata": {
    "collapsed": true
   },
   "outputs": [],
   "source": [
    "df1404['census_tract'] = df_coords4\n",
    "df1405['census_tract'] = df_coords5\n",
    "df1406['census_tract'] = df_coords6\n",
    "df1407['census_tract'] = df_coords7\n",
    "df1408['census_tract'] = df_coords8\n",
    "df1409['census_tract'] = df_coords9"
   ]
  },
  {
   "cell_type": "code",
   "execution_count": 11,
   "metadata": {
    "collapsed": false
   },
   "outputs": [],
   "source": [
    "df14 = pd.concat([df1404,df1405,df1406,df1407,df1408,df1409])"
   ]
  },
  {
   "cell_type": "code",
   "execution_count": 12,
   "metadata": {
    "collapsed": false
   },
   "outputs": [
    {
     "data": {
      "text/plain": [
       "(80405325, 12)"
      ]
     },
     "execution_count": 12,
     "metadata": {},
     "output_type": "execute_result"
    }
   ],
   "source": [
    "df14.shape"
   ]
  },
  {
   "cell_type": "code",
   "execution_count": 13,
   "metadata": {
    "collapsed": false
   },
   "outputs": [],
   "source": [
    "df14 = df14.drop(['pickup_longitude','pickup_latitude'],axis=1)"
   ]
  },
  {
   "cell_type": "code",
   "execution_count": 14,
   "metadata": {
    "collapsed": false
   },
   "outputs": [
    {
     "data": {
      "text/html": [
       "<div>\n",
       "<table border=\"1\" class=\"dataframe\">\n",
       "  <thead>\n",
       "    <tr style=\"text-align: right;\">\n",
       "      <th></th>\n",
       "      <th>passenger_count</th>\n",
       "      <th>trip_distance</th>\n",
       "      <th>tip_amount</th>\n",
       "      <th>total_amount</th>\n",
       "      <th>rides</th>\n",
       "      <th>year</th>\n",
       "      <th>date</th>\n",
       "      <th>hour</th>\n",
       "      <th>day_of_week</th>\n",
       "      <th>census_tract</th>\n",
       "    </tr>\n",
       "  </thead>\n",
       "  <tbody>\n",
       "    <tr>\n",
       "      <th>0</th>\n",
       "      <td>1</td>\n",
       "      <td>2.5</td>\n",
       "      <td>3.7</td>\n",
       "      <td>22.2</td>\n",
       "      <td>1</td>\n",
       "      <td>2014</td>\n",
       "      <td>2014-04-08</td>\n",
       "      <td>08</td>\n",
       "      <td>1</td>\n",
       "      <td>3.606101e+10</td>\n",
       "    </tr>\n",
       "    <tr>\n",
       "      <th>2</th>\n",
       "      <td>2</td>\n",
       "      <td>0.6</td>\n",
       "      <td>1.2</td>\n",
       "      <td>7.2</td>\n",
       "      <td>1</td>\n",
       "      <td>2014</td>\n",
       "      <td>2014-04-08</td>\n",
       "      <td>08</td>\n",
       "      <td>1</td>\n",
       "      <td>3.606101e+10</td>\n",
       "    </tr>\n",
       "    <tr>\n",
       "      <th>3</th>\n",
       "      <td>2</td>\n",
       "      <td>0.5</td>\n",
       "      <td>1.7</td>\n",
       "      <td>10.2</td>\n",
       "      <td>1</td>\n",
       "      <td>2014</td>\n",
       "      <td>2014-04-08</td>\n",
       "      <td>08</td>\n",
       "      <td>1</td>\n",
       "      <td>3.606101e+10</td>\n",
       "    </tr>\n",
       "    <tr>\n",
       "      <th>4</th>\n",
       "      <td>1</td>\n",
       "      <td>0.4</td>\n",
       "      <td>1.2</td>\n",
       "      <td>7.2</td>\n",
       "      <td>1</td>\n",
       "      <td>2014</td>\n",
       "      <td>2014-04-08</td>\n",
       "      <td>08</td>\n",
       "      <td>1</td>\n",
       "      <td>3.606101e+10</td>\n",
       "    </tr>\n",
       "    <tr>\n",
       "      <th>5</th>\n",
       "      <td>1</td>\n",
       "      <td>0.8</td>\n",
       "      <td>1.3</td>\n",
       "      <td>7.8</td>\n",
       "      <td>1</td>\n",
       "      <td>2014</td>\n",
       "      <td>2014-04-08</td>\n",
       "      <td>07</td>\n",
       "      <td>1</td>\n",
       "      <td>3.606101e+10</td>\n",
       "    </tr>\n",
       "  </tbody>\n",
       "</table>\n",
       "</div>"
      ],
      "text/plain": [
       "   passenger_count  trip_distance  tip_amount  total_amount  rides  year  \\\n",
       "0                1            2.5         3.7          22.2      1  2014   \n",
       "2                2            0.6         1.2           7.2      1  2014   \n",
       "3                2            0.5         1.7          10.2      1  2014   \n",
       "4                1            0.4         1.2           7.2      1  2014   \n",
       "5                1            0.8         1.3           7.8      1  2014   \n",
       "\n",
       "         date hour  day_of_week  census_tract  \n",
       "0  2014-04-08   08            1  3.606101e+10  \n",
       "2  2014-04-08   08            1  3.606101e+10  \n",
       "3  2014-04-08   08            1  3.606101e+10  \n",
       "4  2014-04-08   08            1  3.606101e+10  \n",
       "5  2014-04-08   07            1  3.606101e+10  "
      ]
     },
     "execution_count": 14,
     "metadata": {},
     "output_type": "execute_result"
    }
   ],
   "source": [
    "df14.head()"
   ]
  },
  {
   "cell_type": "code",
   "execution_count": 15,
   "metadata": {
    "collapsed": false
   },
   "outputs": [],
   "source": [
    "df_g = df14.groupby(['census_tract','day_of_week','hour']).sum().reset_index()"
   ]
  },
  {
   "cell_type": "code",
   "execution_count": 16,
   "metadata": {
    "collapsed": false
   },
   "outputs": [
    {
     "data": {
      "text/html": [
       "<div>\n",
       "<table border=\"1\" class=\"dataframe\">\n",
       "  <thead>\n",
       "    <tr style=\"text-align: right;\">\n",
       "      <th></th>\n",
       "      <th>census_tract</th>\n",
       "      <th>day_of_week</th>\n",
       "      <th>hour</th>\n",
       "      <th>passenger_count</th>\n",
       "      <th>trip_distance</th>\n",
       "      <th>tip_amount</th>\n",
       "      <th>total_amount</th>\n",
       "      <th>rides</th>\n",
       "      <th>year</th>\n",
       "    </tr>\n",
       "  </thead>\n",
       "  <tbody>\n",
       "    <tr>\n",
       "      <th>0</th>\n",
       "      <td>3.600500e+10</td>\n",
       "      <td>0</td>\n",
       "      <td>01</td>\n",
       "      <td>1</td>\n",
       "      <td>1.3</td>\n",
       "      <td>0.00</td>\n",
       "      <td>7.50</td>\n",
       "      <td>1</td>\n",
       "      <td>2014</td>\n",
       "    </tr>\n",
       "    <tr>\n",
       "      <th>1</th>\n",
       "      <td>3.600500e+10</td>\n",
       "      <td>0</td>\n",
       "      <td>07</td>\n",
       "      <td>2</td>\n",
       "      <td>2.2</td>\n",
       "      <td>1.00</td>\n",
       "      <td>16.00</td>\n",
       "      <td>2</td>\n",
       "      <td>4028</td>\n",
       "    </tr>\n",
       "    <tr>\n",
       "      <th>2</th>\n",
       "      <td>3.600500e+10</td>\n",
       "      <td>0</td>\n",
       "      <td>08</td>\n",
       "      <td>2</td>\n",
       "      <td>4.3</td>\n",
       "      <td>0.00</td>\n",
       "      <td>22.00</td>\n",
       "      <td>2</td>\n",
       "      <td>4028</td>\n",
       "    </tr>\n",
       "    <tr>\n",
       "      <th>3</th>\n",
       "      <td>3.600500e+10</td>\n",
       "      <td>0</td>\n",
       "      <td>09</td>\n",
       "      <td>2</td>\n",
       "      <td>0.5</td>\n",
       "      <td>0.00</td>\n",
       "      <td>4.00</td>\n",
       "      <td>1</td>\n",
       "      <td>2014</td>\n",
       "    </tr>\n",
       "    <tr>\n",
       "      <th>4</th>\n",
       "      <td>3.600500e+10</td>\n",
       "      <td>0</td>\n",
       "      <td>10</td>\n",
       "      <td>1</td>\n",
       "      <td>1.4</td>\n",
       "      <td>0.75</td>\n",
       "      <td>10.25</td>\n",
       "      <td>1</td>\n",
       "      <td>2014</td>\n",
       "    </tr>\n",
       "  </tbody>\n",
       "</table>\n",
       "</div>"
      ],
      "text/plain": [
       "   census_tract  day_of_week hour  passenger_count  trip_distance  tip_amount  \\\n",
       "0  3.600500e+10            0   01                1            1.3        0.00   \n",
       "1  3.600500e+10            0   07                2            2.2        1.00   \n",
       "2  3.600500e+10            0   08                2            4.3        0.00   \n",
       "3  3.600500e+10            0   09                2            0.5        0.00   \n",
       "4  3.600500e+10            0   10                1            1.4        0.75   \n",
       "\n",
       "   total_amount  rides  year  \n",
       "0          7.50      1  2014  \n",
       "1         16.00      2  4028  \n",
       "2         22.00      2  4028  \n",
       "3          4.00      1  2014  \n",
       "4         10.25      1  2014  "
      ]
     },
     "execution_count": 16,
     "metadata": {},
     "output_type": "execute_result"
    }
   ],
   "source": [
    "df_g.head()"
   ]
  },
  {
   "cell_type": "code",
   "execution_count": 17,
   "metadata": {
    "collapsed": false
   },
   "outputs": [
    {
     "data": {
      "text/plain": [
       "(194105, 9)"
      ]
     },
     "execution_count": 17,
     "metadata": {},
     "output_type": "execute_result"
    }
   ],
   "source": [
    "df_g.shape"
   ]
  },
  {
   "cell_type": "code",
   "execution_count": 18,
   "metadata": {
    "collapsed": false
   },
   "outputs": [],
   "source": [
    "with open('df_g_yellow_14.pkl','wb') as picklefile:\n",
    "    pickle.dump(df_g,picklefile)"
   ]
  },
  {
   "cell_type": "code",
   "execution_count": 19,
   "metadata": {
    "collapsed": false
   },
   "outputs": [],
   "source": [
    "with open('df_g_yellow_14.pkl','rb') as picklefile:\n",
    "    df = pickle.load(picklefile)"
   ]
  },
  {
   "cell_type": "code",
   "execution_count": 20,
   "metadata": {
    "collapsed": false
   },
   "outputs": [],
   "source": [
    "df_g_yellow = df.groupby(['census_tract']).sum().reset_index()"
   ]
  },
  {
   "cell_type": "code",
   "execution_count": 24,
   "metadata": {
    "collapsed": false
   },
   "outputs": [],
   "source": [
    "df_yellow_final = df_g_yellow.drop(['day_of_week', \n",
    "                                    'passenger_count', \n",
    "                                    'trip_distance',\n",
    "                                    'tip_amount', \n",
    "                                    'total_amount',\n",
    "                                    'year'],axis=1)"
   ]
  },
  {
   "cell_type": "code",
   "execution_count": 31,
   "metadata": {
    "collapsed": false
   },
   "outputs": [
    {
     "data": {
      "text/html": [
       "<div>\n",
       "<table border=\"1\" class=\"dataframe\">\n",
       "  <thead>\n",
       "    <tr style=\"text-align: right;\">\n",
       "      <th></th>\n",
       "      <th>census_tract</th>\n",
       "      <th>rides</th>\n",
       "    </tr>\n",
       "  </thead>\n",
       "  <tbody>\n",
       "    <tr>\n",
       "      <th>0</th>\n",
       "      <td>3.600500e+10</td>\n",
       "      <td>119</td>\n",
       "    </tr>\n",
       "    <tr>\n",
       "      <th>1</th>\n",
       "      <td>3.600500e+10</td>\n",
       "      <td>36</td>\n",
       "    </tr>\n",
       "    <tr>\n",
       "      <th>2</th>\n",
       "      <td>3.600500e+10</td>\n",
       "      <td>53</td>\n",
       "    </tr>\n",
       "    <tr>\n",
       "      <th>3</th>\n",
       "      <td>3.600500e+10</td>\n",
       "      <td>79</td>\n",
       "    </tr>\n",
       "    <tr>\n",
       "      <th>4</th>\n",
       "      <td>3.600500e+10</td>\n",
       "      <td>122</td>\n",
       "    </tr>\n",
       "  </tbody>\n",
       "</table>\n",
       "</div>"
      ],
      "text/plain": [
       "   census_tract  rides\n",
       "0  3.600500e+10    119\n",
       "1  3.600500e+10     36\n",
       "2  3.600500e+10     53\n",
       "3  3.600500e+10     79\n",
       "4  3.600500e+10    122"
      ]
     },
     "execution_count": 31,
     "metadata": {},
     "output_type": "execute_result"
    }
   ],
   "source": [
    "df_yellow_final.head()"
   ]
  },
  {
   "cell_type": "code",
   "execution_count": 32,
   "metadata": {
    "collapsed": false
   },
   "outputs": [],
   "source": [
    "with open('df_g_yellow.pkl','wb') as picklefile:\n",
    "    pickle.dump(df_yellow_final,picklefile)"
   ]
  },
  {
   "cell_type": "code",
   "execution_count": 33,
   "metadata": {
    "collapsed": true
   },
   "outputs": [],
   "source": [
    "df_yellow_final.to_csv('yellow_taxi_total.csv')"
   ]
  },
  {
   "cell_type": "code",
   "execution_count": null,
   "metadata": {
    "collapsed": true
   },
   "outputs": [],
   "source": []
  }
 ],
 "metadata": {
  "anaconda-cloud": {},
  "kernelspec": {
   "display_name": "Python 3",
   "language": "python",
   "name": "python3"
  },
  "language_info": {
   "codemirror_mode": {
    "name": "ipython",
    "version": 3
   },
   "file_extension": ".py",
   "mimetype": "text/x-python",
   "name": "python",
   "nbconvert_exporter": "python",
   "pygments_lexer": "ipython3",
   "version": "3.5.2"
  }
 },
 "nbformat": 4,
 "nbformat_minor": 1
}
