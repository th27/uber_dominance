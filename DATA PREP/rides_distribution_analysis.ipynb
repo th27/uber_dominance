{
 "cells": [
  {
   "cell_type": "code",
   "execution_count": 1,
   "metadata": {
    "collapsed": true
   },
   "outputs": [],
   "source": [
    "import pandas as pd\n",
    "import numpy as np\n",
    "import pickle\n",
    "import matplotlib.pyplot as plt\n",
    "import seaborn as sb\n",
    "%matplotlib inline"
   ]
  },
  {
   "cell_type": "code",
   "execution_count": 2,
   "metadata": {
    "collapsed": true
   },
   "outputs": [],
   "source": [
    "with open('df_g_yellow_14.pkl','rb') as picklefile:\n",
    "    df_y = pickle.load(picklefile)"
   ]
  },
  {
   "cell_type": "code",
   "execution_count": 3,
   "metadata": {
    "collapsed": false
   },
   "outputs": [],
   "source": [
    "with open('df_green_vf.pkl', 'rb') as picklefile:\n",
    "    df_green_vf = pickle.load(picklefile)"
   ]
  },
  {
   "cell_type": "code",
   "execution_count": 4,
   "metadata": {
    "collapsed": true
   },
   "outputs": [],
   "source": [
    "df_g = df_green_vf.groupby(['census_tract','day_of_week','hour']).sum().reset_index()"
   ]
  },
  {
   "cell_type": "code",
   "execution_count": 5,
   "metadata": {
    "collapsed": true
   },
   "outputs": [],
   "source": [
    "with open('df_uber_vf.pkl', 'rb') as picklefile:\n",
    "    df_uber_vf = pickle.load(picklefile)"
   ]
  },
  {
   "cell_type": "code",
   "execution_count": 6,
   "metadata": {
    "collapsed": true
   },
   "outputs": [],
   "source": [
    "df_u = df_uber_vf.groupby(['census_tract','day_of_week','hour']).sum().reset_index()"
   ]
  },
  {
   "cell_type": "code",
   "execution_count": 7,
   "metadata": {
    "collapsed": false
   },
   "outputs": [
    {
     "name": "stdout",
     "output_type": "stream",
     "text": [
      "(194105, 9)\n",
      "(206471, 10)\n",
      "(163769, 8)\n"
     ]
    }
   ],
   "source": [
    "print(df_y.shape)\n",
    "print(df_g.shape)\n",
    "print(df_u.shape)"
   ]
  },
  {
   "cell_type": "code",
   "execution_count": 8,
   "metadata": {
    "collapsed": false
   },
   "outputs": [],
   "source": [
    "def four(x):\n",
    "    if x >= 0 and x < 4:\n",
    "        return \"a.0-4\"\n",
    "    elif x >= 4 and x < 8:\n",
    "        return \"b.4-8\"\n",
    "    elif x >= 8 and x < 12:\n",
    "        return \"c.8-12\"\n",
    "    elif x >= 12 and x < 16:\n",
    "        return \"d.12-16\"\n",
    "    elif x >= 16 and x < 20:\n",
    "        return \"e.16-20\"\n",
    "    else:\n",
    "        return \"f.20-24\""
   ]
  },
  {
   "cell_type": "code",
   "execution_count": 9,
   "metadata": {
    "collapsed": false
   },
   "outputs": [],
   "source": [
    "df_y.hour = df_y.hour.astype(int)\n",
    "df_g.hour = df_g.hour.astype(int)\n",
    "df_u.hour = df_u.hour.astype(int)"
   ]
  },
  {
   "cell_type": "code",
   "execution_count": 10,
   "metadata": {
    "collapsed": true
   },
   "outputs": [],
   "source": [
    "df_y.rename(columns = {'rides':'rides_y'},inplace=True)\n",
    "df_g.rename(columns = {'ride':'rides_g'},inplace=True)\n",
    "df_u.rename(columns = {'rides':'rides_u'},inplace=True)"
   ]
  },
  {
   "cell_type": "code",
   "execution_count": 11,
   "metadata": {
    "collapsed": false
   },
   "outputs": [],
   "source": [
    "df_y['timeslot'] = df_y['hour'].apply(four)\n",
    "df_g['timeslot'] = df_g['hour'].apply(four)\n",
    "df_u['timeslot'] = df_u['hour'].apply(four)"
   ]
  },
  {
   "cell_type": "code",
   "execution_count": null,
   "metadata": {
    "collapsed": false
   },
   "outputs": [],
   "source": []
  },
  {
   "cell_type": "markdown",
   "metadata": {},
   "source": [
    "### Aggregate by hour and day of week"
   ]
  },
  {
   "cell_type": "code",
   "execution_count": 12,
   "metadata": {
    "collapsed": false
   },
   "outputs": [],
   "source": [
    "df_y = df_y.drop(['census_tract', 'passenger_count',\n",
    "       'trip_distance', 'tip_amount', 'total_amount', 'year'],axis=1)"
   ]
  },
  {
   "cell_type": "code",
   "execution_count": 13,
   "metadata": {
    "collapsed": false
   },
   "outputs": [],
   "source": [
    "df_g = df_g.drop(['census_tract', 'Pickup_longitude','Pickup_latitude',\n",
    "                  'Passenger_count', 'Trip_distance', 'Total_amount','year'],axis=1)"
   ]
  },
  {
   "cell_type": "code",
   "execution_count": 14,
   "metadata": {
    "collapsed": false
   },
   "outputs": [],
   "source": [
    "df_u = df_u.drop(['census_tract', 'Lat', 'Lon', 'year', 'month'],axis=1)"
   ]
  },
  {
   "cell_type": "code",
   "execution_count": 15,
   "metadata": {
    "collapsed": true
   },
   "outputs": [],
   "source": [
    "df_y_hour = df_y.groupby(['day_of_week','hour'],as_index=False).sum()\n",
    "df_g_hour = df_g.groupby(['day_of_week','hour'],as_index=False).sum()\n",
    "df_u_hour = df_u.groupby(['day_of_week','hour'],as_index=False).sum()"
   ]
  },
  {
   "cell_type": "code",
   "execution_count": 16,
   "metadata": {
    "collapsed": true
   },
   "outputs": [],
   "source": [
    "df_y_hour.sort_values(by=['day_of_week','hour'],inplace=True)\n",
    "df_g_hour.sort_values(by=['day_of_week','hour'],inplace=True)\n",
    "df_u_hour.sort_values(by=['day_of_week','hour'],inplace=True)"
   ]
  },
  {
   "cell_type": "code",
   "execution_count": 17,
   "metadata": {
    "collapsed": false
   },
   "outputs": [
    {
     "name": "stdout",
     "output_type": "stream",
     "text": [
      "168\n",
      "168\n",
      "168\n"
     ]
    }
   ],
   "source": [
    "print(len(df_y_hour))\n",
    "print(len(df_g_hour))\n",
    "print(len(df_u_hour))"
   ]
  },
  {
   "cell_type": "code",
   "execution_count": 18,
   "metadata": {
    "collapsed": true
   },
   "outputs": [],
   "source": [
    "df_y_hour['rides_g'] = df_g_hour.rides_g\n",
    "df_y_hour['rides_u'] = df_u_hour.rides_u"
   ]
  },
  {
   "cell_type": "code",
   "execution_count": 19,
   "metadata": {
    "collapsed": false,
    "scrolled": true
   },
   "outputs": [],
   "source": [
    "df_y_hour['total'] = df_y_hour.rides_y + df_y_hour.rides_g + df_y_hour.rides_u\n",
    "df_y_hour['y_share'] = df_y_hour.rides_y / df_y_hour.total\n",
    "df_y_hour['g_share'] = df_y_hour.rides_g / df_y_hour.total\n",
    "df_y_hour['u_share'] = df_y_hour.rides_u / df_y_hour.total"
   ]
  },
  {
   "cell_type": "code",
   "execution_count": 20,
   "metadata": {
    "collapsed": false
   },
   "outputs": [],
   "source": [
    "df_consol_hour = df_y_hour"
   ]
  },
  {
   "cell_type": "code",
   "execution_count": 21,
   "metadata": {
    "collapsed": false
   },
   "outputs": [
    {
     "data": {
      "text/html": [
       "<div>\n",
       "<table border=\"1\" class=\"dataframe\">\n",
       "  <thead>\n",
       "    <tr style=\"text-align: right;\">\n",
       "      <th></th>\n",
       "      <th>day_of_week</th>\n",
       "      <th>hour</th>\n",
       "      <th>rides_y</th>\n",
       "      <th>rides_g</th>\n",
       "      <th>rides_u</th>\n",
       "      <th>total</th>\n",
       "      <th>y_share</th>\n",
       "      <th>g_share</th>\n",
       "      <th>u_share</th>\n",
       "    </tr>\n",
       "  </thead>\n",
       "  <tbody>\n",
       "    <tr>\n",
       "      <th>0</th>\n",
       "      <td>0</td>\n",
       "      <td>0</td>\n",
       "      <td>264877</td>\n",
       "      <td>40395</td>\n",
       "      <td>6436</td>\n",
       "      <td>311708</td>\n",
       "      <td>0.849760</td>\n",
       "      <td>0.129592</td>\n",
       "      <td>0.020648</td>\n",
       "    </tr>\n",
       "    <tr>\n",
       "      <th>1</th>\n",
       "      <td>0</td>\n",
       "      <td>1</td>\n",
       "      <td>162614</td>\n",
       "      <td>27492</td>\n",
       "      <td>3737</td>\n",
       "      <td>193843</td>\n",
       "      <td>0.838895</td>\n",
       "      <td>0.141826</td>\n",
       "      <td>0.019278</td>\n",
       "    </tr>\n",
       "    <tr>\n",
       "      <th>2</th>\n",
       "      <td>0</td>\n",
       "      <td>2</td>\n",
       "      <td>107654</td>\n",
       "      <td>18464</td>\n",
       "      <td>2938</td>\n",
       "      <td>129056</td>\n",
       "      <td>0.834165</td>\n",
       "      <td>0.143070</td>\n",
       "      <td>0.022765</td>\n",
       "    </tr>\n",
       "    <tr>\n",
       "      <th>3</th>\n",
       "      <td>0</td>\n",
       "      <td>3</td>\n",
       "      <td>74040</td>\n",
       "      <td>13595</td>\n",
       "      <td>6232</td>\n",
       "      <td>93867</td>\n",
       "      <td>0.788776</td>\n",
       "      <td>0.144833</td>\n",
       "      <td>0.066392</td>\n",
       "    </tr>\n",
       "    <tr>\n",
       "      <th>4</th>\n",
       "      <td>0</td>\n",
       "      <td>4</td>\n",
       "      <td>77606</td>\n",
       "      <td>13779</td>\n",
       "      <td>9640</td>\n",
       "      <td>101025</td>\n",
       "      <td>0.768186</td>\n",
       "      <td>0.136392</td>\n",
       "      <td>0.095422</td>\n",
       "    </tr>\n",
       "  </tbody>\n",
       "</table>\n",
       "</div>"
      ],
      "text/plain": [
       "   day_of_week  hour  rides_y  rides_g  rides_u   total   y_share   g_share  \\\n",
       "0            0     0   264877    40395     6436  311708  0.849760  0.129592   \n",
       "1            0     1   162614    27492     3737  193843  0.838895  0.141826   \n",
       "2            0     2   107654    18464     2938  129056  0.834165  0.143070   \n",
       "3            0     3    74040    13595     6232   93867  0.788776  0.144833   \n",
       "4            0     4    77606    13779     9640  101025  0.768186  0.136392   \n",
       "\n",
       "    u_share  \n",
       "0  0.020648  \n",
       "1  0.019278  \n",
       "2  0.022765  \n",
       "3  0.066392  \n",
       "4  0.095422  "
      ]
     },
     "execution_count": 21,
     "metadata": {},
     "output_type": "execute_result"
    }
   ],
   "source": [
    "df_consol_hour.head()"
   ]
  },
  {
   "cell_type": "code",
   "execution_count": 24,
   "metadata": {
    "collapsed": false
   },
   "outputs": [
    {
     "data": {
      "image/png": "[encoded data removed]",
      "text/plain": [
       "<matplotlib.figure.Figure at 0x15e44c940>"
      ]
     },
     "metadata": {},
     "output_type": "display_data"
    }
   ],
   "source": [
    "day_hour_piv_hour = df_consol_hour.pivot_table(values='rides_y',index='hour',columns='day_of_week',aggfunc=np.sum)\n",
    "\n",
    "heatmap = sb.heatmap(day_hour_piv_hour, cmap = 'RdGy',\n",
    "                     xticklabels=['Mon','Tue','Wed','Thu','Fri','Sat','Sun'])\n",
    "plot = heatmap.get_figure()"
   ]
  },
  {
   "cell_type": "code",
   "execution_count": 289,
   "metadata": {
    "collapsed": false
   },
   "outputs": [
    {
     "data": {
      "image/png": "[encoded data removed]",
      "text/plain": [
       "<matplotlib.figure.Figure at 0x333de9b00>"
      ]
     },
     "metadata": {},
     "output_type": "display_data"
    }
   ],
   "source": [
    "day_hour_piv_hour = df_consol_hour.pivot_table(values='total',index='hour',columns='day_of_week',aggfunc=np.sum)\n",
    "\n",
    "heatmap = sb.heatmap(day_hour_piv_hour, cmap = 'YlOrRd',\n",
    "                     xticklabels=['Mon','Tue','Wed','Thu','Fri','Sat','Sun'])\n",
    "plot = heatmap.get_figure()"
   ]
  },
  {
   "cell_type": "code",
   "execution_count": 290,
   "metadata": {
    "collapsed": false,
    "scrolled": true
   },
   "outputs": [
    {
     "data": {
      "image/png": "[encoded data removed]",
      "text/plain": [
       "<matplotlib.figure.Figure at 0x337249d30>"
      ]
     },
     "metadata": {},
     "output_type": "display_data"
    }
   ],
   "source": [
    "day_hour_piv_hour = df_consol_hour.pivot_table(values='rides_g',index='hour',columns='day_of_week',aggfunc=np.sum)\n",
    "\n",
    "heatmap = sb.heatmap(day_hour_piv_hour, cmap = 'YlGn',\n",
    "                     xticklabels=['Mon','Tue','Wed','Thu','Fri','Sat','Sun'])\n",
    "plot = heatmap.get_figure()"
   ]
  },
  {
   "cell_type": "code",
   "execution_count": 292,
   "metadata": {
    "collapsed": false
   },
   "outputs": [
    {
     "data": {
      "image/png": "[encoded data removed]",
      "text/plain": [
       "<matplotlib.figure.Figure at 0x35cde1438>"
      ]
     },
     "metadata": {},
     "output_type": "display_data"
    }
   ],
   "source": [
    "day_hour_piv_hour = df_consol_hour.pivot_table(values='rides_u',index='hour', columns = 'day_of_week',aggfunc=np.sum)\n",
    "\n",
    "heatmap = sb.heatmap(day_hour_piv_hour, cmap = 'PuBu',\n",
    "                     xticklabels=['Mon','Tue','Wed','Thu','Fri','Sat','Sun'])\n",
    "plot = heatmap.get_figure()"
   ]
  },
  {
   "cell_type": "markdown",
   "metadata": {},
   "source": [
    "### Marketshare view"
   ]
  },
  {
   "cell_type": "code",
   "execution_count": 299,
   "metadata": {
    "collapsed": false
   },
   "outputs": [
    {
     "data": {
      "image/png": "[encoded data removed]",
      "text/plain": [
       "<matplotlib.figure.Figure at 0x2eb58d128>"
      ]
     },
     "metadata": {},
     "output_type": "display_data"
    }
   ],
   "source": [
    "day_hour_piv_hour = df_consol_hour.pivot_table(values='y_share',index='hour',columns='day_of_week',aggfunc=np.mean)\n",
    "\n",
    "heatmap = sb.heatmap(day_hour_piv_hour, cmap = 'YlOrRd',\n",
    "                     xticklabels=['Mon','Tue','Wed','Thu','Fri','Sat','Sun'])\n",
    "plot = heatmap.get_figure()"
   ]
  },
  {
   "cell_type": "code",
   "execution_count": 300,
   "metadata": {
    "collapsed": false
   },
   "outputs": [
    {
     "data": {
      "image/png": "[encoded data removed]",
      "text/plain": [
       "<matplotlib.figure.Figure at 0x332796c18>"
      ]
     },
     "metadata": {},
     "output_type": "display_data"
    }
   ],
   "source": [
    "day_hour_piv_hour = df_consol_hour.pivot_table(values='g_share',index='hour',columns='day_of_week',aggfunc=np.sum)\n",
    "\n",
    "heatmap = sb.heatmap(day_hour_piv_hour, cmap = 'YlGn',\n",
    "                     xticklabels=['Mon','Tue','Wed','Thu','Fri','Sat','Sun'])\n",
    "plot = heatmap.get_figure()"
   ]
  },
  {
   "cell_type": "code",
   "execution_count": 297,
   "metadata": {
    "collapsed": false
   },
   "outputs": [
    {
     "data": {
      "image/png": "[encoded data removed]",
      "text/plain": [
       "<matplotlib.figure.Figure at 0x356bcdc18>"
      ]
     },
     "metadata": {},
     "output_type": "display_data"
    }
   ],
   "source": [
    "day_hour_piv_hour = df_consol_hour.pivot_table(values='u_share',index='hour', columns = 'day_of_week',aggfunc=np.mean)\n",
    "\n",
    "heatmap = sb.heatmap(day_hour_piv_hour, cmap = 'PuBu',\n",
    "                     xticklabels=['Mon','Tue','Wed','Thu','Fri','Sat','Sun'])\n",
    "plot = heatmap.get_figure()"
   ]
  },
  {
   "cell_type": "code",
   "execution_count": null,
   "metadata": {
    "collapsed": true
   },
   "outputs": [],
   "source": []
  },
  {
   "cell_type": "markdown",
   "metadata": {},
   "source": [
    "## CT by day of week"
   ]
  },
  {
   "cell_type": "code",
   "execution_count": 187,
   "metadata": {
    "collapsed": false
   },
   "outputs": [
    {
     "data": {
      "text/plain": [
       "Index(['census_tract', 'day_of_week', 'hour', 'Pickup_longitude',\n",
       "       'Pickup_latitude', 'Passenger_count', 'Trip_distance', 'Total_amount',\n",
       "       'year', 'rides_g', 'timeslot'],\n",
       "      dtype='object')"
      ]
     },
     "execution_count": 187,
     "metadata": {},
     "output_type": "execute_result"
    }
   ],
   "source": [
    "df_g.columns"
   ]
  },
  {
   "cell_type": "code",
   "execution_count": 191,
   "metadata": {
    "collapsed": false
   },
   "outputs": [
    {
     "data": {
      "text/html": [
       "<div>\n",
       "<table border=\"1\" class=\"dataframe\">\n",
       "  <thead>\n",
       "    <tr style=\"text-align: right;\">\n",
       "      <th></th>\n",
       "      <th>day_of_week</th>\n",
       "      <th>rides_u</th>\n",
       "      <th>timeslot</th>\n",
       "    </tr>\n",
       "  </thead>\n",
       "  <tbody>\n",
       "    <tr>\n",
       "      <th>0</th>\n",
       "      <td>2</td>\n",
       "      <td>1</td>\n",
       "      <td>f.20-24</td>\n",
       "    </tr>\n",
       "    <tr>\n",
       "      <th>1</th>\n",
       "      <td>3</td>\n",
       "      <td>1</td>\n",
       "      <td>d.12-16</td>\n",
       "    </tr>\n",
       "    <tr>\n",
       "      <th>2</th>\n",
       "      <td>3</td>\n",
       "      <td>1</td>\n",
       "      <td>d.12-16</td>\n",
       "    </tr>\n",
       "    <tr>\n",
       "      <th>3</th>\n",
       "      <td>3</td>\n",
       "      <td>1</td>\n",
       "      <td>e.16-20</td>\n",
       "    </tr>\n",
       "    <tr>\n",
       "      <th>4</th>\n",
       "      <td>4</td>\n",
       "      <td>1</td>\n",
       "      <td>a.0-4</td>\n",
       "    </tr>\n",
       "  </tbody>\n",
       "</table>\n",
       "</div>"
      ],
      "text/plain": [
       "   day_of_week  rides_u timeslot\n",
       "0            2        1  f.20-24\n",
       "1            3        1  d.12-16\n",
       "2            3        1  d.12-16\n",
       "3            3        1  e.16-20\n",
       "4            4        1    a.0-4"
      ]
     },
     "execution_count": 191,
     "metadata": {},
     "output_type": "execute_result"
    }
   ],
   "source": [
    "df_u.head()"
   ]
  },
  {
   "cell_type": "code",
   "execution_count": 192,
   "metadata": {
    "collapsed": false
   },
   "outputs": [],
   "source": [
    "df_y_ts = df_y.groupby(['day_of_week','timeslot'],as_index=False).sum()\n",
    "df_g_ts = df_g.groupby(['day_of_week','timeslot'],as_index=False).sum()\n",
    "df_u_ts = df_u.groupby(['day_of_week','timeslot'],as_index=False).sum()"
   ]
  },
  {
   "cell_type": "code",
   "execution_count": 193,
   "metadata": {
    "collapsed": true
   },
   "outputs": [],
   "source": [
    "df_y_ts.sort_values(by=['day_of_week','timeslot'],inplace=True)\n",
    "df_g_ts.sort_values(by=['day_of_week','timeslot'],inplace=True)\n",
    "df_u_ts.sort_values(by=['day_of_week','timeslot'],inplace=True)"
   ]
  },
  {
   "cell_type": "code",
   "execution_count": 228,
   "metadata": {
    "collapsed": false
   },
   "outputs": [],
   "source": [
    "df_y_ts['rides_g'] = df_g_ts.rides_g\n",
    "df_y_ts['rides_u'] = df_u_ts.rides_u"
   ]
  },
  {
   "cell_type": "code",
   "execution_count": 196,
   "metadata": {
    "collapsed": false
   },
   "outputs": [],
   "source": [
    "df_consol_ts = df_y_ts"
   ]
  },
  {
   "cell_type": "code",
   "execution_count": 198,
   "metadata": {
    "collapsed": false
   },
   "outputs": [],
   "source": [
    "df_consol_ts['total'] = df_consol_ts.rides_y + df_consol_ts.rides_g + df_consol_ts.rides_u\n",
    "df_consol_ts['uber_share'] = df_consol_ts.rides_u / df_consol_ts.total"
   ]
  },
  {
   "cell_type": "code",
   "execution_count": 199,
   "metadata": {
    "collapsed": false
   },
   "outputs": [
    {
     "data": {
      "text/html": [
       "<div>\n",
       "<table border=\"1\" class=\"dataframe\">\n",
       "  <thead>\n",
       "    <tr style=\"text-align: right;\">\n",
       "      <th></th>\n",
       "      <th>day_of_week</th>\n",
       "      <th>timeslot</th>\n",
       "      <th>rides_y</th>\n",
       "      <th>rides_g</th>\n",
       "      <th>rides_u</th>\n",
       "      <th>total</th>\n",
       "      <th>uber_share</th>\n",
       "    </tr>\n",
       "  </thead>\n",
       "  <tbody>\n",
       "    <tr>\n",
       "      <th>0</th>\n",
       "      <td>0</td>\n",
       "      <td>a.0-4</td>\n",
       "      <td>609185</td>\n",
       "      <td>99946</td>\n",
       "      <td>19343</td>\n",
       "      <td>728474</td>\n",
       "      <td>0.026553</td>\n",
       "    </tr>\n",
       "    <tr>\n",
       "      <th>1</th>\n",
       "      <td>0</td>\n",
       "      <td>b.4-8</td>\n",
       "      <td>924649</td>\n",
       "      <td>70674</td>\n",
       "      <td>79577</td>\n",
       "      <td>1074900</td>\n",
       "      <td>0.074032</td>\n",
       "    </tr>\n",
       "    <tr>\n",
       "      <th>2</th>\n",
       "      <td>0</td>\n",
       "      <td>c.8-12</td>\n",
       "      <td>2010981</td>\n",
       "      <td>169153</td>\n",
       "      <td>92083</td>\n",
       "      <td>2272217</td>\n",
       "      <td>0.040526</td>\n",
       "    </tr>\n",
       "    <tr>\n",
       "      <th>3</th>\n",
       "      <td>0</td>\n",
       "      <td>d.12-16</td>\n",
       "      <td>2043236</td>\n",
       "      <td>167105</td>\n",
       "      <td>104774</td>\n",
       "      <td>2315115</td>\n",
       "      <td>0.045256</td>\n",
       "    </tr>\n",
       "    <tr>\n",
       "      <th>4</th>\n",
       "      <td>0</td>\n",
       "      <td>e.16-20</td>\n",
       "      <td>2363824</td>\n",
       "      <td>230171</td>\n",
       "      <td>151952</td>\n",
       "      <td>2745947</td>\n",
       "      <td>0.055337</td>\n",
       "    </tr>\n",
       "  </tbody>\n",
       "</table>\n",
       "</div>"
      ],
      "text/plain": [
       "   day_of_week timeslot  rides_y  rides_g  rides_u    total  uber_share\n",
       "0            0    a.0-4   609185    99946    19343   728474    0.026553\n",
       "1            0    b.4-8   924649    70674    79577  1074900    0.074032\n",
       "2            0   c.8-12  2010981   169153    92083  2272217    0.040526\n",
       "3            0  d.12-16  2043236   167105   104774  2315115    0.045256\n",
       "4            0  e.16-20  2363824   230171   151952  2745947    0.055337"
      ]
     },
     "execution_count": 199,
     "metadata": {},
     "output_type": "execute_result"
    }
   ],
   "source": [
    "df_consol_ts.head()"
   ]
  },
  {
   "cell_type": "code",
   "execution_count": 204,
   "metadata": {
    "collapsed": false
   },
   "outputs": [
    {
     "data": {
      "text/html": [
       "<div>\n",
       "<table border=\"1\" class=\"dataframe\">\n",
       "  <thead>\n",
       "    <tr style=\"text-align: right;\">\n",
       "      <th>day_of_week</th>\n",
       "      <th>0</th>\n",
       "      <th>1</th>\n",
       "      <th>2</th>\n",
       "      <th>3</th>\n",
       "      <th>4</th>\n",
       "      <th>5</th>\n",
       "      <th>6</th>\n",
       "    </tr>\n",
       "    <tr>\n",
       "      <th>timeslot</th>\n",
       "      <th></th>\n",
       "      <th></th>\n",
       "      <th></th>\n",
       "      <th></th>\n",
       "      <th></th>\n",
       "      <th></th>\n",
       "      <th></th>\n",
       "    </tr>\n",
       "  </thead>\n",
       "  <tbody>\n",
       "    <tr>\n",
       "      <th>a.0-4</th>\n",
       "      <td>0.026553</td>\n",
       "      <td>0.023192</td>\n",
       "      <td>0.023774</td>\n",
       "      <td>0.024202</td>\n",
       "      <td>0.024213</td>\n",
       "      <td>0.028012</td>\n",
       "      <td>0.032259</td>\n",
       "    </tr>\n",
       "    <tr>\n",
       "      <th>b.4-8</th>\n",
       "      <td>0.074032</td>\n",
       "      <td>0.071014</td>\n",
       "      <td>0.072072</td>\n",
       "      <td>0.071768</td>\n",
       "      <td>0.066760</td>\n",
       "      <td>0.041300</td>\n",
       "      <td>0.037153</td>\n",
       "    </tr>\n",
       "    <tr>\n",
       "      <th>c.8-12</th>\n",
       "      <td>0.040526</td>\n",
       "      <td>0.039481</td>\n",
       "      <td>0.041666</td>\n",
       "      <td>0.043462</td>\n",
       "      <td>0.042722</td>\n",
       "      <td>0.039970</td>\n",
       "      <td>0.044051</td>\n",
       "    </tr>\n",
       "    <tr>\n",
       "      <th>d.12-16</th>\n",
       "      <td>0.045256</td>\n",
       "      <td>0.049184</td>\n",
       "      <td>0.053136</td>\n",
       "      <td>0.054435</td>\n",
       "      <td>0.055499</td>\n",
       "      <td>0.047356</td>\n",
       "      <td>0.045883</td>\n",
       "    </tr>\n",
       "    <tr>\n",
       "      <th>e.16-20</th>\n",
       "      <td>0.055337</td>\n",
       "      <td>0.066279</td>\n",
       "      <td>0.071670</td>\n",
       "      <td>0.073896</td>\n",
       "      <td>0.070258</td>\n",
       "      <td>0.061160</td>\n",
       "      <td>0.048849</td>\n",
       "    </tr>\n",
       "    <tr>\n",
       "      <th>f.20-24</th>\n",
       "      <td>0.037314</td>\n",
       "      <td>0.042193</td>\n",
       "      <td>0.046646</td>\n",
       "      <td>0.052895</td>\n",
       "      <td>0.053676</td>\n",
       "      <td>0.054479</td>\n",
       "      <td>0.037947</td>\n",
       "    </tr>\n",
       "  </tbody>\n",
       "</table>\n",
       "</div>"
      ],
      "text/plain": [
       "day_of_week         0         1         2         3         4         5  \\\n",
       "timeslot                                                                  \n",
       "a.0-4        0.026553  0.023192  0.023774  0.024202  0.024213  0.028012   \n",
       "b.4-8        0.074032  0.071014  0.072072  0.071768  0.066760  0.041300   \n",
       "c.8-12       0.040526  0.039481  0.041666  0.043462  0.042722  0.039970   \n",
       "d.12-16      0.045256  0.049184  0.053136  0.054435  0.055499  0.047356   \n",
       "e.16-20      0.055337  0.066279  0.071670  0.073896  0.070258  0.061160   \n",
       "f.20-24      0.037314  0.042193  0.046646  0.052895  0.053676  0.054479   \n",
       "\n",
       "day_of_week         6  \n",
       "timeslot               \n",
       "a.0-4        0.032259  \n",
       "b.4-8        0.037153  \n",
       "c.8-12       0.044051  \n",
       "d.12-16      0.045883  \n",
       "e.16-20      0.048849  \n",
       "f.20-24      0.037947  "
      ]
     },
     "execution_count": 204,
     "metadata": {},
     "output_type": "execute_result"
    }
   ],
   "source": [
    "day_hour_piv_ts = df_consol_ts.pivot_table(values='uber_share',index='timeslot', columns = 'day_of_week')\n",
    "day_hour_piv_ts"
   ]
  },
  {
   "cell_type": "code",
   "execution_count": 216,
   "metadata": {
    "collapsed": false
   },
   "outputs": [
    {
     "data": {
      "image/png": "[encoded data removed]",
      "text/plain": [
       "<matplotlib.figure.Figure at 0x32a1baa20>"
      ]
     },
     "metadata": {},
     "output_type": "display_data"
    }
   ],
   "source": [
    "day_hour_piv_ts = df_consol_ts.pivot_table(values='uber_share',index='timeslot', columns = 'day_of_week')\n",
    "\n",
    "heatmap = sb.heatmap(day_hour_piv_ts, cmap = 'YlGn',\n",
    "                     yticklabels=['0-4','4-8','8-12','12-16','16-20','20-24'],\n",
    "                     xticklabels=['Mon','Tue','Wed','Thu','Fri','Sat','Sun'])\n",
    "plot = heatmap.get_figure()"
   ]
  },
  {
   "cell_type": "code",
   "execution_count": 48,
   "metadata": {
    "collapsed": false
   },
   "outputs": [],
   "source": [
    "df_y_day = df_y.groupby(['day_of_week'],as_index=False).sum()"
   ]
  },
  {
   "cell_type": "code",
   "execution_count": 227,
   "metadata": {
    "collapsed": false
   },
   "outputs": [
    {
     "ename": "ValueError",
     "evalue": "labels ['census_tract' 'Pickup_longitude' 'Pickup_latitude' 'Passenger_count'\n 'Trip_distance' 'Total_amount' 'year'] not contained in axis",
     "output_type": "error",
     "traceback": [
      "\u001b[0;31m---------------------------------------------------------------------------\u001b[0m",
      "\u001b[0;31mValueError\u001b[0m                                Traceback (most recent call last)",
      "\u001b[0;32m<ipython-input-227-8c3079d666aa>\u001b[0m in \u001b[0;36m<module>\u001b[0;34m()\u001b[0m\n\u001b[1;32m      1\u001b[0m df_g = df_g.drop(['census_tract', 'Pickup_longitude','Pickup_latitude',\n\u001b[0;32m----> 2\u001b[0;31m                   'Passenger_count', 'Trip_distance', 'Total_amount','year'],axis=1)\n\u001b[0m",
      "\u001b[0;32m/Users/THoshino/anaconda/envs/py35/lib/python3.5/site-packages/pandas/core/generic.py\u001b[0m in \u001b[0;36mdrop\u001b[0;34m(self, labels, axis, level, inplace, errors)\u001b[0m\n\u001b[1;32m   1875\u001b[0m                 \u001b[0mnew_axis\u001b[0m \u001b[0;34m=\u001b[0m \u001b[0maxis\u001b[0m\u001b[0;34m.\u001b[0m\u001b[0mdrop\u001b[0m\u001b[0;34m(\u001b[0m\u001b[0mlabels\u001b[0m\u001b[0;34m,\u001b[0m \u001b[0mlevel\u001b[0m\u001b[0;34m=\u001b[0m\u001b[0mlevel\u001b[0m\u001b[0;34m,\u001b[0m \u001b[0merrors\u001b[0m\u001b[0;34m=\u001b[0m\u001b[0merrors\u001b[0m\u001b[0;34m)\u001b[0m\u001b[0;34m\u001b[0m\u001b[0m\n\u001b[1;32m   1876\u001b[0m             \u001b[0;32melse\u001b[0m\u001b[0;34m:\u001b[0m\u001b[0;34m\u001b[0m\u001b[0m\n\u001b[0;32m-> 1877\u001b[0;31m                 \u001b[0mnew_axis\u001b[0m \u001b[0;34m=\u001b[0m \u001b[0maxis\u001b[0m\u001b[0;34m.\u001b[0m\u001b[0mdrop\u001b[0m\u001b[0;34m(\u001b[0m\u001b[0mlabels\u001b[0m\u001b[0;34m,\u001b[0m \u001b[0merrors\u001b[0m\u001b[0;34m=\u001b[0m\u001b[0merrors\u001b[0m\u001b[0;34m)\u001b[0m\u001b[0;34m\u001b[0m\u001b[0m\n\u001b[0m\u001b[1;32m   1878\u001b[0m             \u001b[0mdropped\u001b[0m \u001b[0;34m=\u001b[0m \u001b[0mself\u001b[0m\u001b[0;34m.\u001b[0m\u001b[0mreindex\u001b[0m\u001b[0;34m(\u001b[0m\u001b[0;34m**\u001b[0m\u001b[0;34m{\u001b[0m\u001b[0maxis_name\u001b[0m\u001b[0;34m:\u001b[0m \u001b[0mnew_axis\u001b[0m\u001b[0;34m}\u001b[0m\u001b[0;34m)\u001b[0m\u001b[0;34m\u001b[0m\u001b[0m\n\u001b[1;32m   1879\u001b[0m             \u001b[0;32mtry\u001b[0m\u001b[0;34m:\u001b[0m\u001b[0;34m\u001b[0m\u001b[0m\n",
      "\u001b[0;32m/Users/THoshino/anaconda/envs/py35/lib/python3.5/site-packages/pandas/indexes/base.py\u001b[0m in \u001b[0;36mdrop\u001b[0;34m(self, labels, errors)\u001b[0m\n\u001b[1;32m   3049\u001b[0m             \u001b[0;32mif\u001b[0m \u001b[0merrors\u001b[0m \u001b[0;34m!=\u001b[0m \u001b[0;34m'ignore'\u001b[0m\u001b[0;34m:\u001b[0m\u001b[0;34m\u001b[0m\u001b[0m\n\u001b[1;32m   3050\u001b[0m                 raise ValueError('labels %s not contained in axis' %\n\u001b[0;32m-> 3051\u001b[0;31m                                  labels[mask])\n\u001b[0m\u001b[1;32m   3052\u001b[0m             \u001b[0mindexer\u001b[0m \u001b[0;34m=\u001b[0m \u001b[0mindexer\u001b[0m\u001b[0;34m[\u001b[0m\u001b[0;34m~\u001b[0m\u001b[0mmask\u001b[0m\u001b[0;34m]\u001b[0m\u001b[0;34m\u001b[0m\u001b[0m\n\u001b[1;32m   3053\u001b[0m         \u001b[0;32mreturn\u001b[0m \u001b[0mself\u001b[0m\u001b[0;34m.\u001b[0m\u001b[0mdelete\u001b[0m\u001b[0;34m(\u001b[0m\u001b[0mindexer\u001b[0m\u001b[0;34m)\u001b[0m\u001b[0;34m\u001b[0m\u001b[0m\n",
      "\u001b[0;31mValueError\u001b[0m: labels ['census_tract' 'Pickup_longitude' 'Pickup_latitude' 'Passenger_count'\n 'Trip_distance' 'Total_amount' 'year'] not contained in axis"
     ]
    }
   ],
   "source": []
  },
  {
   "cell_type": "code",
   "execution_count": 49,
   "metadata": {
    "collapsed": true
   },
   "outputs": [
    {
     "data": {
      "text/html": [
       "<div>\n",
       "<table border=\"1\" class=\"dataframe\">\n",
       "  <thead>\n",
       "    <tr style=\"text-align: right;\">\n",
       "      <th></th>\n",
       "      <th>day_of_week</th>\n",
       "      <th>rides</th>\n",
       "    </tr>\n",
       "  </thead>\n",
       "  <tbody>\n",
       "    <tr>\n",
       "      <th>0</th>\n",
       "      <td>0</td>\n",
       "      <td>10186511</td>\n",
       "    </tr>\n",
       "    <tr>\n",
       "      <th>1</th>\n",
       "      <td>1</td>\n",
       "      <td>11603466</td>\n",
       "    </tr>\n",
       "    <tr>\n",
       "      <th>2</th>\n",
       "      <td>2</td>\n",
       "      <td>11369464</td>\n",
       "    </tr>\n",
       "    <tr>\n",
       "      <th>3</th>\n",
       "      <td>3</td>\n",
       "      <td>11769691</td>\n",
       "    </tr>\n",
       "    <tr>\n",
       "      <th>4</th>\n",
       "      <td>4</td>\n",
       "      <td>11801483</td>\n",
       "    </tr>\n",
       "    <tr>\n",
       "      <th>5</th>\n",
       "      <td>5</td>\n",
       "      <td>11621323</td>\n",
       "    </tr>\n",
       "    <tr>\n",
       "      <th>6</th>\n",
       "      <td>6</td>\n",
       "      <td>10126328</td>\n",
       "    </tr>\n",
       "  </tbody>\n",
       "</table>\n",
       "</div>"
      ],
      "text/plain": [
       "   day_of_week     rides\n",
       "0            0  10186511\n",
       "1            1  11603466\n",
       "2            2  11369464\n",
       "3            3  11769691\n",
       "4            4  11801483\n",
       "5            5  11621323\n",
       "6            6  10126328"
      ]
     },
     "execution_count": 49,
     "metadata": {},
     "output_type": "execute_result"
    }
   ],
   "source": [
    "df_y_day.head"
   ]
  },
  {
   "cell_type": "code",
   "execution_count": 209,
   "metadata": {
    "collapsed": false
   },
   "outputs": [
    {
     "data": {
      "text/html": [
       "<div>\n",
       "<table border=\"1\" class=\"dataframe\">\n",
       "  <thead>\n",
       "    <tr style=\"text-align: right;\">\n",
       "      <th></th>\n",
       "      <th>datetime</th>\n",
       "      <th>Lat</th>\n",
       "      <th>Lon</th>\n",
       "      <th>year</th>\n",
       "      <th>month</th>\n",
       "      <th>hour</th>\n",
       "      <th>day_of_week</th>\n",
       "      <th>coordinates</th>\n",
       "      <th>census_tract</th>\n",
       "      <th>rides</th>\n",
       "    </tr>\n",
       "  </thead>\n",
       "  <tbody>\n",
       "    <tr>\n",
       "      <th>0</th>\n",
       "      <td>2014-04-01 00:11:00</td>\n",
       "      <td>40.7690</td>\n",
       "      <td>-73.9549</td>\n",
       "      <td>2014</td>\n",
       "      <td>4</td>\n",
       "      <td>0</td>\n",
       "      <td>1</td>\n",
       "      <td>[40.769, -73.9549]</td>\n",
       "      <td>36061013400</td>\n",
       "      <td>1</td>\n",
       "    </tr>\n",
       "    <tr>\n",
       "      <th>1</th>\n",
       "      <td>2014-04-01 00:17:00</td>\n",
       "      <td>40.7267</td>\n",
       "      <td>-74.0345</td>\n",
       "      <td>2014</td>\n",
       "      <td>4</td>\n",
       "      <td>0</td>\n",
       "      <td>1</td>\n",
       "      <td>[40.7267, -74.0345]</td>\n",
       "      <td>36061031703</td>\n",
       "      <td>1</td>\n",
       "    </tr>\n",
       "    <tr>\n",
       "      <th>2</th>\n",
       "      <td>2014-04-01 00:21:00</td>\n",
       "      <td>40.7316</td>\n",
       "      <td>-73.9873</td>\n",
       "      <td>2014</td>\n",
       "      <td>4</td>\n",
       "      <td>0</td>\n",
       "      <td>1</td>\n",
       "      <td>[40.7316, -73.9873]</td>\n",
       "      <td>36061004000</td>\n",
       "      <td>1</td>\n",
       "    </tr>\n",
       "    <tr>\n",
       "      <th>3</th>\n",
       "      <td>2014-04-01 00:28:00</td>\n",
       "      <td>40.7588</td>\n",
       "      <td>-73.9776</td>\n",
       "      <td>2014</td>\n",
       "      <td>4</td>\n",
       "      <td>0</td>\n",
       "      <td>1</td>\n",
       "      <td>[40.7588, -73.9776]</td>\n",
       "      <td>36061010400</td>\n",
       "      <td>1</td>\n",
       "    </tr>\n",
       "    <tr>\n",
       "      <th>4</th>\n",
       "      <td>2014-04-01 00:33:00</td>\n",
       "      <td>40.7594</td>\n",
       "      <td>-73.9722</td>\n",
       "      <td>2014</td>\n",
       "      <td>4</td>\n",
       "      <td>0</td>\n",
       "      <td>1</td>\n",
       "      <td>[40.7594, -73.9722]</td>\n",
       "      <td>36061010000</td>\n",
       "      <td>1</td>\n",
       "    </tr>\n",
       "  </tbody>\n",
       "</table>\n",
       "</div>"
      ],
      "text/plain": [
       "             datetime      Lat      Lon  year  month  hour  day_of_week  \\\n",
       "0 2014-04-01 00:11:00  40.7690 -73.9549  2014      4     0            1   \n",
       "1 2014-04-01 00:17:00  40.7267 -74.0345  2014      4     0            1   \n",
       "2 2014-04-01 00:21:00  40.7316 -73.9873  2014      4     0            1   \n",
       "3 2014-04-01 00:28:00  40.7588 -73.9776  2014      4     0            1   \n",
       "4 2014-04-01 00:33:00  40.7594 -73.9722  2014      4     0            1   \n",
       "\n",
       "           coordinates census_tract  rides  \n",
       "0   [40.769, -73.9549]  36061013400      1  \n",
       "1  [40.7267, -74.0345]  36061031703      1  \n",
       "2  [40.7316, -73.9873]  36061004000      1  \n",
       "3  [40.7588, -73.9776]  36061010400      1  \n",
       "4  [40.7594, -73.9722]  36061010000      1  "
      ]
     },
     "execution_count": 209,
     "metadata": {},
     "output_type": "execute_result"
    }
   ],
   "source": [
    "df_uber_vf.head()"
   ]
  },
  {
   "cell_type": "code",
   "execution_count": 219,
   "metadata": {
    "collapsed": false
   },
   "outputs": [],
   "source": [
    "df_uber_vf['timeslot'] = df_uber_vf['hour'].apply(four)"
   ]
  },
  {
   "cell_type": "code",
   "execution_count": 221,
   "metadata": {
    "collapsed": false
   },
   "outputs": [
    {
     "data": {
      "text/html": [
       "<div>\n",
       "<table border=\"1\" class=\"dataframe\">\n",
       "  <thead>\n",
       "    <tr style=\"text-align: right;\">\n",
       "      <th>day_of_week</th>\n",
       "      <th>0</th>\n",
       "      <th>1</th>\n",
       "      <th>2</th>\n",
       "      <th>3</th>\n",
       "      <th>4</th>\n",
       "      <th>5</th>\n",
       "      <th>6</th>\n",
       "    </tr>\n",
       "    <tr>\n",
       "      <th>hour</th>\n",
       "      <th></th>\n",
       "      <th></th>\n",
       "      <th></th>\n",
       "      <th></th>\n",
       "      <th></th>\n",
       "      <th></th>\n",
       "      <th></th>\n",
       "    </tr>\n",
       "  </thead>\n",
       "  <tbody>\n",
       "    <tr>\n",
       "      <th>0</th>\n",
       "      <td>6436</td>\n",
       "      <td>6237</td>\n",
       "      <td>7644</td>\n",
       "      <td>9293</td>\n",
       "      <td>13716</td>\n",
       "      <td>27633</td>\n",
       "      <td>32877</td>\n",
       "    </tr>\n",
       "    <tr>\n",
       "      <th>1</th>\n",
       "      <td>3737</td>\n",
       "      <td>3509</td>\n",
       "      <td>4324</td>\n",
       "      <td>5290</td>\n",
       "      <td>8163</td>\n",
       "      <td>19189</td>\n",
       "      <td>23015</td>\n",
       "    </tr>\n",
       "    <tr>\n",
       "      <th>2</th>\n",
       "      <td>2938</td>\n",
       "      <td>2571</td>\n",
       "      <td>3141</td>\n",
       "      <td>3719</td>\n",
       "      <td>5350</td>\n",
       "      <td>12710</td>\n",
       "      <td>15436</td>\n",
       "    </tr>\n",
       "    <tr>\n",
       "      <th>3</th>\n",
       "      <td>6232</td>\n",
       "      <td>4494</td>\n",
       "      <td>4855</td>\n",
       "      <td>5637</td>\n",
       "      <td>6930</td>\n",
       "      <td>9542</td>\n",
       "      <td>10597</td>\n",
       "    </tr>\n",
       "    <tr>\n",
       "      <th>4</th>\n",
       "      <td>9640</td>\n",
       "      <td>7548</td>\n",
       "      <td>7511</td>\n",
       "      <td>8505</td>\n",
       "      <td>8806</td>\n",
       "      <td>6846</td>\n",
       "      <td>6374</td>\n",
       "    </tr>\n",
       "    <tr>\n",
       "      <th>5</th>\n",
       "      <td>15032</td>\n",
       "      <td>14241</td>\n",
       "      <td>13794</td>\n",
       "      <td>14169</td>\n",
       "      <td>13450</td>\n",
       "      <td>7084</td>\n",
       "      <td>6169</td>\n",
       "    </tr>\n",
       "    <tr>\n",
       "      <th>6</th>\n",
       "      <td>23746</td>\n",
       "      <td>26872</td>\n",
       "      <td>26943</td>\n",
       "      <td>27065</td>\n",
       "      <td>23412</td>\n",
       "      <td>8579</td>\n",
       "      <td>6596</td>\n",
       "    </tr>\n",
       "    <tr>\n",
       "      <th>7</th>\n",
       "      <td>31159</td>\n",
       "      <td>36599</td>\n",
       "      <td>36495</td>\n",
       "      <td>37038</td>\n",
       "      <td>32061</td>\n",
       "      <td>11014</td>\n",
       "      <td>8728</td>\n",
       "    </tr>\n",
       "    <tr>\n",
       "      <th>8</th>\n",
       "      <td>29265</td>\n",
       "      <td>33934</td>\n",
       "      <td>33826</td>\n",
       "      <td>35431</td>\n",
       "      <td>31509</td>\n",
       "      <td>14411</td>\n",
       "      <td>12128</td>\n",
       "    </tr>\n",
       "    <tr>\n",
       "      <th>9</th>\n",
       "      <td>22197</td>\n",
       "      <td>25023</td>\n",
       "      <td>25635</td>\n",
       "      <td>27812</td>\n",
       "      <td>25230</td>\n",
       "      <td>17669</td>\n",
       "      <td>16401</td>\n",
       "    </tr>\n",
       "    <tr>\n",
       "      <th>10</th>\n",
       "      <td>20288</td>\n",
       "      <td>23676</td>\n",
       "      <td>24696</td>\n",
       "      <td>25877</td>\n",
       "      <td>24176</td>\n",
       "      <td>20596</td>\n",
       "      <td>19839</td>\n",
       "    </tr>\n",
       "    <tr>\n",
       "      <th>11</th>\n",
       "      <td>20333</td>\n",
       "      <td>23679</td>\n",
       "      <td>24963</td>\n",
       "      <td>25966</td>\n",
       "      <td>25188</td>\n",
       "      <td>22718</td>\n",
       "      <td>22856</td>\n",
       "    </tr>\n",
       "    <tr>\n",
       "      <th>12</th>\n",
       "      <td>20488</td>\n",
       "      <td>23850</td>\n",
       "      <td>25533</td>\n",
       "      <td>26465</td>\n",
       "      <td>25907</td>\n",
       "      <td>24298</td>\n",
       "      <td>23911</td>\n",
       "    </tr>\n",
       "    <tr>\n",
       "      <th>13</th>\n",
       "      <td>23385</td>\n",
       "      <td>29075</td>\n",
       "      <td>29183</td>\n",
       "      <td>30840</td>\n",
       "      <td>30341</td>\n",
       "      <td>26636</td>\n",
       "      <td>26417</td>\n",
       "    </tr>\n",
       "    <tr>\n",
       "      <th>14</th>\n",
       "      <td>28157</td>\n",
       "      <td>34846</td>\n",
       "      <td>35148</td>\n",
       "      <td>36699</td>\n",
       "      <td>36206</td>\n",
       "      <td>31418</td>\n",
       "      <td>28151</td>\n",
       "    </tr>\n",
       "    <tr>\n",
       "      <th>15</th>\n",
       "      <td>32744</td>\n",
       "      <td>41338</td>\n",
       "      <td>43388</td>\n",
       "      <td>44442</td>\n",
       "      <td>43673</td>\n",
       "      <td>38769</td>\n",
       "      <td>31112</td>\n",
       "    </tr>\n",
       "    <tr>\n",
       "      <th>16</th>\n",
       "      <td>38770</td>\n",
       "      <td>48667</td>\n",
       "      <td>50684</td>\n",
       "      <td>50560</td>\n",
       "      <td>48169</td>\n",
       "      <td>43512</td>\n",
       "      <td>33038</td>\n",
       "    </tr>\n",
       "    <tr>\n",
       "      <th>17</th>\n",
       "      <td>42023</td>\n",
       "      <td>55500</td>\n",
       "      <td>55637</td>\n",
       "      <td>56704</td>\n",
       "      <td>51961</td>\n",
       "      <td>42844</td>\n",
       "      <td>31521</td>\n",
       "    </tr>\n",
       "    <tr>\n",
       "      <th>18</th>\n",
       "      <td>37000</td>\n",
       "      <td>50186</td>\n",
       "      <td>52732</td>\n",
       "      <td>55825</td>\n",
       "      <td>54762</td>\n",
       "      <td>45883</td>\n",
       "      <td>28291</td>\n",
       "    </tr>\n",
       "    <tr>\n",
       "      <th>19</th>\n",
       "      <td>34159</td>\n",
       "      <td>44789</td>\n",
       "      <td>47017</td>\n",
       "      <td>51907</td>\n",
       "      <td>49595</td>\n",
       "      <td>41098</td>\n",
       "      <td>25948</td>\n",
       "    </tr>\n",
       "    <tr>\n",
       "      <th>20</th>\n",
       "      <td>32849</td>\n",
       "      <td>44661</td>\n",
       "      <td>47772</td>\n",
       "      <td>51990</td>\n",
       "      <td>43542</td>\n",
       "      <td>38714</td>\n",
       "      <td>25076</td>\n",
       "    </tr>\n",
       "    <tr>\n",
       "      <th>21</th>\n",
       "      <td>28925</td>\n",
       "      <td>39913</td>\n",
       "      <td>44553</td>\n",
       "      <td>51953</td>\n",
       "      <td>48323</td>\n",
       "      <td>43826</td>\n",
       "      <td>23967</td>\n",
       "    </tr>\n",
       "    <tr>\n",
       "      <th>22</th>\n",
       "      <td>20158</td>\n",
       "      <td>27712</td>\n",
       "      <td>32868</td>\n",
       "      <td>44194</td>\n",
       "      <td>49409</td>\n",
       "      <td>47951</td>\n",
       "      <td>19566</td>\n",
       "    </tr>\n",
       "    <tr>\n",
       "      <th>23</th>\n",
       "      <td>11811</td>\n",
       "      <td>14869</td>\n",
       "      <td>18146</td>\n",
       "      <td>27764</td>\n",
       "      <td>41260</td>\n",
       "      <td>43174</td>\n",
       "      <td>12166</td>\n",
       "    </tr>\n",
       "  </tbody>\n",
       "</table>\n",
       "</div>"
      ],
      "text/plain": [
       "day_of_week      0      1      2      3      4      5      6\n",
       "hour                                                        \n",
       "0             6436   6237   7644   9293  13716  27633  32877\n",
       "1             3737   3509   4324   5290   8163  19189  23015\n",
       "2             2938   2571   3141   3719   5350  12710  15436\n",
       "3             6232   4494   4855   5637   6930   9542  10597\n",
       "4             9640   7548   7511   8505   8806   6846   6374\n",
       "5            15032  14241  13794  14169  13450   7084   6169\n",
       "6            23746  26872  26943  27065  23412   8579   6596\n",
       "7            31159  36599  36495  37038  32061  11014   8728\n",
       "8            29265  33934  33826  35431  31509  14411  12128\n",
       "9            22197  25023  25635  27812  25230  17669  16401\n",
       "10           20288  23676  24696  25877  24176  20596  19839\n",
       "11           20333  23679  24963  25966  25188  22718  22856\n",
       "12           20488  23850  25533  26465  25907  24298  23911\n",
       "13           23385  29075  29183  30840  30341  26636  26417\n",
       "14           28157  34846  35148  36699  36206  31418  28151\n",
       "15           32744  41338  43388  44442  43673  38769  31112\n",
       "16           38770  48667  50684  50560  48169  43512  33038\n",
       "17           42023  55500  55637  56704  51961  42844  31521\n",
       "18           37000  50186  52732  55825  54762  45883  28291\n",
       "19           34159  44789  47017  51907  49595  41098  25948\n",
       "20           32849  44661  47772  51990  43542  38714  25076\n",
       "21           28925  39913  44553  51953  48323  43826  23967\n",
       "22           20158  27712  32868  44194  49409  47951  19566\n",
       "23           11811  14869  18146  27764  41260  43174  12166"
      ]
     },
     "execution_count": 221,
     "metadata": {},
     "output_type": "execute_result"
    }
   ],
   "source": [
    "day_hour_piv_u = df_uber_vf.pivot_table(values='rides',index='hour', columns = 'day_of_week', aggfunc=np.sum)\n",
    "day_hour_piv_u"
   ]
  },
  {
   "cell_type": "code",
   "execution_count": 226,
   "metadata": {
    "collapsed": false
   },
   "outputs": [
    {
     "data": {
      "image/png": "[encoded data removed]",
      "text/plain": [
       "<matplotlib.figure.Figure at 0x337311da0>"
      ]
     },
     "metadata": {},
     "output_type": "display_data"
    }
   ],
   "source": [
    "# aggregate - uber\n",
    "\n",
    "heatmap = sb.heatmap(day_hour_piv_u, cmap = 'PuBu',\n",
    "                     xticklabels=['Mon','Tue','Wed','Thu','Fri','Sat','Sun'])\n",
    "plot = heatmap.get_figure()"
   ]
  },
  {
   "cell_type": "code",
   "execution_count": 223,
   "metadata": {
    "collapsed": false
   },
   "outputs": [
    {
     "data": {
      "text/html": [
       "<div>\n",
       "<table border=\"1\" class=\"dataframe\">\n",
       "  <thead>\n",
       "    <tr style=\"text-align: right;\">\n",
       "      <th>day_of_week</th>\n",
       "      <th>0</th>\n",
       "      <th>1</th>\n",
       "      <th>2</th>\n",
       "      <th>3</th>\n",
       "      <th>4</th>\n",
       "      <th>5</th>\n",
       "      <th>6</th>\n",
       "    </tr>\n",
       "    <tr>\n",
       "      <th>timeslot</th>\n",
       "      <th></th>\n",
       "      <th></th>\n",
       "      <th></th>\n",
       "      <th></th>\n",
       "      <th></th>\n",
       "      <th></th>\n",
       "      <th></th>\n",
       "    </tr>\n",
       "  </thead>\n",
       "  <tbody>\n",
       "    <tr>\n",
       "      <th>a.0-4</th>\n",
       "      <td>19343</td>\n",
       "      <td>16811</td>\n",
       "      <td>19964</td>\n",
       "      <td>23939</td>\n",
       "      <td>34159</td>\n",
       "      <td>69074</td>\n",
       "      <td>81925</td>\n",
       "    </tr>\n",
       "    <tr>\n",
       "      <th>b.4-8</th>\n",
       "      <td>79577</td>\n",
       "      <td>85260</td>\n",
       "      <td>84743</td>\n",
       "      <td>86777</td>\n",
       "      <td>77729</td>\n",
       "      <td>33523</td>\n",
       "      <td>27867</td>\n",
       "    </tr>\n",
       "    <tr>\n",
       "      <th>c.8-12</th>\n",
       "      <td>92083</td>\n",
       "      <td>106312</td>\n",
       "      <td>109120</td>\n",
       "      <td>115086</td>\n",
       "      <td>106103</td>\n",
       "      <td>75394</td>\n",
       "      <td>71224</td>\n",
       "    </tr>\n",
       "    <tr>\n",
       "      <th>d.12-16</th>\n",
       "      <td>104774</td>\n",
       "      <td>129109</td>\n",
       "      <td>133252</td>\n",
       "      <td>138446</td>\n",
       "      <td>136127</td>\n",
       "      <td>121121</td>\n",
       "      <td>109591</td>\n",
       "    </tr>\n",
       "    <tr>\n",
       "      <th>e.16-20</th>\n",
       "      <td>151952</td>\n",
       "      <td>199142</td>\n",
       "      <td>206070</td>\n",
       "      <td>214996</td>\n",
       "      <td>204487</td>\n",
       "      <td>173337</td>\n",
       "      <td>118798</td>\n",
       "    </tr>\n",
       "    <tr>\n",
       "      <th>f.20-24</th>\n",
       "      <td>93743</td>\n",
       "      <td>127155</td>\n",
       "      <td>143339</td>\n",
       "      <td>175901</td>\n",
       "      <td>182534</td>\n",
       "      <td>173665</td>\n",
       "      <td>80775</td>\n",
       "    </tr>\n",
       "  </tbody>\n",
       "</table>\n",
       "</div>"
      ],
      "text/plain": [
       "day_of_week       0       1       2       3       4       5       6\n",
       "timeslot                                                           \n",
       "a.0-4         19343   16811   19964   23939   34159   69074   81925\n",
       "b.4-8         79577   85260   84743   86777   77729   33523   27867\n",
       "c.8-12        92083  106312  109120  115086  106103   75394   71224\n",
       "d.12-16      104774  129109  133252  138446  136127  121121  109591\n",
       "e.16-20      151952  199142  206070  214996  204487  173337  118798\n",
       "f.20-24       93743  127155  143339  175901  182534  173665   80775"
      ]
     },
     "execution_count": 223,
     "metadata": {},
     "output_type": "execute_result"
    }
   ],
   "source": [
    "day_hour_piv_u_ts = df_uber_vf.pivot_table(values='rides',index='timeslot', columns = 'day_of_week', aggfunc=np.sum)\n",
    "day_hour_piv_u_ts"
   ]
  },
  {
   "cell_type": "code",
   "execution_count": 225,
   "metadata": {
    "collapsed": false
   },
   "outputs": [
    {
     "data": {
      "image/png": "[encoded data removed]",
      "text/plain": [
       "<matplotlib.figure.Figure at 0x3370e8cc0>"
      ]
     },
     "metadata": {},
     "output_type": "display_data"
    }
   ],
   "source": [
    "heatmap = sb.heatmap(day_hour_piv_u_ts, cmap = 'YlGnBu',\n",
    "                     xticklabels=['Mon','Tue','Wed','Thu','Fri','Sat','Sun'])\n",
    "plot = heatmap.get_figure()"
   ]
  },
  {
   "cell_type": "code",
   "execution_count": null,
   "metadata": {
    "collapsed": true
   },
   "outputs": [],
   "source": []
  }
 ],
 "metadata": {
  "kernelspec": {
   "display_name": "Python 3",
   "language": "python",
   "name": "python3"
  },
  "language_info": {
   "codemirror_mode": {
    "name": "ipython",
    "version": 3
   },
   "file_extension": ".py",
   "mimetype": "text/x-python",
   "name": "python",
   "nbconvert_exporter": "python",
   "pygments_lexer": "ipython3",
   "version": "3.5.2"
  }
 },
 "nbformat": 4,
 "nbformat_minor": 1
}
