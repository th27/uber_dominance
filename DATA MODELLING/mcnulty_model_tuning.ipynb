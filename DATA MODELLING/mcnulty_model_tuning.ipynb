{
 "cells": [
  {
   "cell_type": "code",
   "execution_count": 140,
   "metadata": {
    "collapsed": false
   },
   "outputs": [],
   "source": [
    "import pandas as pd\n",
    "import numpy as np\n",
    "\n",
    "import random\n",
    "from time import time\n",
    "\n",
    "from scipy.stats import randint as sp_randint\n",
    "\n",
    "import pickle\n",
    "from sklearn.externals import joblib\n",
    "\n",
    "from sklearn.preprocessing import scale, StandardScaler\n",
    "\n",
    "from sklearn.cross_validation import train_test_split, cross_val_score\n",
    "\n",
    "from sklearn.neighbors import KNeighborsClassifier\n",
    "from sklearn.naive_bayes import GaussianNB\n",
    "from sklearn.tree import DecisionTreeClassifier\n",
    "from sklearn.linear_model import LogisticRegression\n",
    "from sklearn.ensemble import RandomForestClassifier, GradientBoostingClassifier, AdaBoostClassifier\n",
    "from sklearn.svm import LinearSVC, SVC\n",
    "\n",
    "from sklearn.metrics import accuracy_score, f1_score\n",
    "from sklearn.metrics import precision_score, recall_score, classification_report\n",
    "from sklearn.metrics import precision_recall_curve, roc_auc_score, roc_curve\n",
    "\n",
    "from sklearn.grid_search import RandomizedSearchCV\n",
    "\n",
    "import statsmodels.api as sm\n",
    "\n",
    "import matplotlib.pyplot as plt\n",
    "import seaborn as sb\n",
    "import math\n",
    "\n",
    "%matplotlib inline"
   ]
  },
  {
   "cell_type": "code",
   "execution_count": 141,
   "metadata": {
    "collapsed": false
   },
   "outputs": [],
   "source": [
    "with open('master_data.pkl','rb') as picklefile:\n",
    "    df = pickle.load(picklefile)"
   ]
  },
  {
   "cell_type": "code",
   "execution_count": 159,
   "metadata": {
    "collapsed": true
   },
   "outputs": [],
   "source": [
    "df.to_csv(\"master_data.csv\")"
   ]
  },
  {
   "cell_type": "code",
   "execution_count": 82,
   "metadata": {
    "collapsed": false
   },
   "outputs": [],
   "source": [
    "def indicator(x):\n",
    "    if x >= 0.66:\n",
    "        return 1\n",
    "    else:\n",
    "        return 0"
   ]
  },
  {
   "cell_type": "code",
   "execution_count": 83,
   "metadata": {
    "collapsed": false
   },
   "outputs": [],
   "source": [
    "df['target'] = df['share_uber'].apply(indicator)"
   ]
  },
  {
   "cell_type": "code",
   "execution_count": 84,
   "metadata": {
    "collapsed": false
   },
   "outputs": [
    {
     "data": {
      "text/plain": [
       "0.2698492462311558"
      ]
     },
     "execution_count": 84,
     "metadata": {},
     "output_type": "execute_result"
    }
   ],
   "source": [
    "df.target.sum()/len(df)"
   ]
  },
  {
   "cell_type": "code",
   "execution_count": 85,
   "metadata": {
    "collapsed": false
   },
   "outputs": [
    {
     "data": {
      "text/plain": [
       "Index(['GEOID', 'share_uber', 'airbnb_accommodates', 'airbnb_bathrooms',\n",
       "       'airbnb_bedrooms', 'airbnb_beds', 'airbnb_dailyrate',\n",
       "       'airbnb_number_of_reviews', 'airbnb_review_scores_location',\n",
       "       'airbnb_review_scores_rating', 'airbnb_airbnb_listings',\n",
       "       'demo_Total Population', 'demo_Total households',\n",
       "       'demo_family households', 'demo_nonfamily households',\n",
       "       'demo_income per capita', 'demo_total housing units',\n",
       "       'demo_owner  occupied units', 'demo_median house value',\n",
       "       'demo_renter occupied units', 'demo_median rent',\n",
       "       'demo_transportation car', 'demo_number of cars',\n",
       "       'demo_transportation public', 'demo_tranportation motorcycle',\n",
       "       'demo_transportation bicyle', 'demo_transportation walk',\n",
       "       'demo_ Same house 1 year ago',\n",
       "       'demo_ Different house in United States 1 year ago',\n",
       "       'demo_abroad_1_year_ago', 'demo_ Bachelor's degree',\n",
       "       'demo_ Master's degree', 'demo_ Professional school degree',\n",
       "       'demo_ Doctorate degree', 'demo_ Median monthly housing costs',\n",
       "       'complaint_count', 'yelp_bar_rating', 'yelp_bar_review_count',\n",
       "       'yelp_bar_bar_count', 'yelp_bar_GEOID', 'yelp_bar_coffee_count',\n",
       "       '5_year_change', 'target'],\n",
       "      dtype='object')"
      ]
     },
     "execution_count": 85,
     "metadata": {},
     "output_type": "execute_result"
    }
   ],
   "source": [
    "df.columns"
   ]
  },
  {
   "cell_type": "code",
   "execution_count": 86,
   "metadata": {
    "collapsed": false
   },
   "outputs": [],
   "source": [
    "target = df.target\n",
    "df = df.drop(['target',\n",
    "              'GEOID',\n",
    "              'share_uber'],axis=1)"
   ]
  },
  {
   "cell_type": "code",
   "execution_count": 87,
   "metadata": {
    "collapsed": true
   },
   "outputs": [],
   "source": [
    "features = df"
   ]
  },
  {
   "cell_type": "code",
   "execution_count": 88,
   "metadata": {
    "collapsed": false
   },
   "outputs": [],
   "source": [
    "# drop features here:\n",
    "features = features.drop(['airbnb_beds',\n",
    "                          'airbnb_dailyrate',\n",
    "                          'airbnb_number_of_reviews',\n",
    "                          'demo_number of cars',\n",
    "                          'demo_transportation car',\n",
    "                          'demo_ Different house in United States 1 year ago',\n",
    "                          'demo_ Professional school degree',\n",
    "                          'yelp_bar_coffee_count',\n",
    "                          'demo_family households',\n",
    "                          'demo_Total households',\n",
    "                          'demo_median rent',\n",
    "                          'yelp_bar_rating',\n",
    "                          'yelp_bar_bar_count',\n",
    "                          'airbnb_bathrooms',\n",
    "                          'demo_ Doctorate degree',\n",
    "                          'yelp_bar_GEOID',\n",
    "                          'demo_total housing units',\n",
    "                          'demo_Total households',\n",
    "                          'airbnb_review_scores_location',\n",
    "                          'airbnb_bedrooms',\n",
    "                          'airbnb_review_scores_rating',\n",
    "                          'airbnb_accommodates',\n",
    "                          'demo_ Same house 1 year ago',\n",
    "                          \"demo_ Bachelor's degree\",\n",
    "                          'demo_transportation walk',\n",
    "                          'demo_tranportation motorcycle',\n",
    "                          'demo_Total Population'],axis=1)\n",
    "\n",
    "# 'GEOID', \n",
    "# 'share_uber', \n",
    "# 'airbnb_accommodates', \n",
    "# 'airbnb_bathrooms',\n",
    "# 'airbnb_bedrooms', \n",
    "# 'airbnb_beds',\n",
    "# 'airbnb_dailyrate',\n",
    "# 'airbnb_number_of_reviews',\n",
    "# 'airbnb_review_scores_location',\n",
    "# 'airbnb_review_scores_rating', \n",
    "# 'airbnb_airbnb_listings',\n",
    "# 'demo_Total Population', \n",
    "# 'demo_Total households',\n",
    "# 'demo_family households',\n",
    "# 'demo_nonfamily households',\n",
    "# 'demo_income per capita', \n",
    "# 'demo_total housing units',\n",
    "# 'demo_owner  occupied units',\n",
    "# 'demo_median house value',\n",
    "# 'demo_renter occupied units',\n",
    "# 'demo_median rent',\n",
    "# 'demo_transportation car',\n",
    "# 'demo_number of cars',\n",
    "# 'demo_transportation public', \n",
    "# 'demo_tranportation motorcycle',\n",
    "# 'demo_transportation bicyle', \n",
    "# 'demo_transportation walk',\n",
    "# 'demo_ Same house 1 year ago',\n",
    "# 'demo_ Different house in United States 1 year ago',\n",
    "# 'demo_abroad_1_year_ago', \n",
    "# \"demo_ Bachelor's degree\",\n",
    "# \"demo_ Master's degree\",\n",
    "# 'demo_ Professional school degree',\n",
    "# 'demo_ Doctorate degree', \n",
    "# 'demo_ Median monthly housing costs',\n",
    "# 'complaint_count',\n",
    "# 'yelp_bar_rating', \n",
    "# 'yelp_bar_review_count',\n",
    "# 'yelp_bar_bar_count',\n",
    "# 'yelp_bar_GEOID', \n",
    "# 'yelp_bar_coffee_count',\n",
    "# '5_year_change', \n",
    "# 'target'"
   ]
  },
  {
   "cell_type": "code",
   "execution_count": 89,
   "metadata": {
    "collapsed": false
   },
   "outputs": [
    {
     "data": {
      "text/html": [
       "<div>\n",
       "<table border=\"1\" class=\"dataframe\">\n",
       "  <thead>\n",
       "    <tr style=\"text-align: right;\">\n",
       "      <th></th>\n",
       "      <th>airbnb_airbnb_listings</th>\n",
       "      <th>demo_nonfamily households</th>\n",
       "      <th>demo_income per capita</th>\n",
       "      <th>demo_owner  occupied units</th>\n",
       "      <th>demo_median house value</th>\n",
       "      <th>demo_renter occupied units</th>\n",
       "      <th>demo_transportation public</th>\n",
       "      <th>demo_transportation bicyle</th>\n",
       "      <th>demo_abroad_1_year_ago</th>\n",
       "      <th>demo_ Master's degree</th>\n",
       "      <th>demo_ Median monthly housing costs</th>\n",
       "      <th>complaint_count</th>\n",
       "      <th>yelp_bar_review_count</th>\n",
       "      <th>5_year_change</th>\n",
       "      <th>RANDOM</th>\n",
       "    </tr>\n",
       "  </thead>\n",
       "  <tbody>\n",
       "    <tr>\n",
       "      <th>1</th>\n",
       "      <td>0.0</td>\n",
       "      <td>213.0</td>\n",
       "      <td>22971.0</td>\n",
       "      <td>802.0</td>\n",
       "      <td>410400.0</td>\n",
       "      <td>577.0</td>\n",
       "      <td>712.0</td>\n",
       "      <td>0.0</td>\n",
       "      <td>2090.0</td>\n",
       "      <td>77.0</td>\n",
       "      <td>1462.0</td>\n",
       "      <td>170.0</td>\n",
       "      <td>0.0</td>\n",
       "      <td>-0.930070</td>\n",
       "      <td>0.222030</td>\n",
       "    </tr>\n",
       "    <tr>\n",
       "      <th>2</th>\n",
       "      <td>9.0</td>\n",
       "      <td>357.0</td>\n",
       "      <td>29803.0</td>\n",
       "      <td>1312.0</td>\n",
       "      <td>354100.0</td>\n",
       "      <td>480.0</td>\n",
       "      <td>1168.0</td>\n",
       "      <td>0.0</td>\n",
       "      <td>2526.0</td>\n",
       "      <td>376.0</td>\n",
       "      <td>1918.0</td>\n",
       "      <td>244.0</td>\n",
       "      <td>5.0</td>\n",
       "      <td>-0.740385</td>\n",
       "      <td>0.727951</td>\n",
       "    </tr>\n",
       "    <tr>\n",
       "      <th>3</th>\n",
       "      <td>0.0</td>\n",
       "      <td>596.0</td>\n",
       "      <td>18544.0</td>\n",
       "      <td>375.0</td>\n",
       "      <td>418300.0</td>\n",
       "      <td>1529.0</td>\n",
       "      <td>918.0</td>\n",
       "      <td>0.0</td>\n",
       "      <td>1923.0</td>\n",
       "      <td>119.0</td>\n",
       "      <td>988.0</td>\n",
       "      <td>548.0</td>\n",
       "      <td>0.0</td>\n",
       "      <td>-0.804511</td>\n",
       "      <td>0.566019</td>\n",
       "    </tr>\n",
       "    <tr>\n",
       "      <th>4</th>\n",
       "      <td>0.0</td>\n",
       "      <td>366.0</td>\n",
       "      <td>16168.0</td>\n",
       "      <td>62.0</td>\n",
       "      <td>360000.0</td>\n",
       "      <td>764.0</td>\n",
       "      <td>688.0</td>\n",
       "      <td>6.0</td>\n",
       "      <td>920.0</td>\n",
       "      <td>65.0</td>\n",
       "      <td>1111.0</td>\n",
       "      <td>13.0</td>\n",
       "      <td>0.0</td>\n",
       "      <td>-0.859873</td>\n",
       "      <td>0.672648</td>\n",
       "    </tr>\n",
       "    <tr>\n",
       "      <th>5</th>\n",
       "      <td>3.0</td>\n",
       "      <td>782.0</td>\n",
       "      <td>14052.0</td>\n",
       "      <td>498.0</td>\n",
       "      <td>370800.0</td>\n",
       "      <td>2460.0</td>\n",
       "      <td>1944.0</td>\n",
       "      <td>0.0</td>\n",
       "      <td>2886.0</td>\n",
       "      <td>196.0</td>\n",
       "      <td>684.0</td>\n",
       "      <td>1290.0</td>\n",
       "      <td>0.0</td>\n",
       "      <td>-0.764045</td>\n",
       "      <td>0.161066</td>\n",
       "    </tr>\n",
       "  </tbody>\n",
       "</table>\n",
       "</div>"
      ],
      "text/plain": [
       "   airbnb_airbnb_listings  demo_nonfamily households  demo_income per capita  \\\n",
       "1                     0.0                      213.0                 22971.0   \n",
       "2                     9.0                      357.0                 29803.0   \n",
       "3                     0.0                      596.0                 18544.0   \n",
       "4                     0.0                      366.0                 16168.0   \n",
       "5                     3.0                      782.0                 14052.0   \n",
       "\n",
       "   demo_owner  occupied units  demo_median house value  \\\n",
       "1                       802.0                 410400.0   \n",
       "2                      1312.0                 354100.0   \n",
       "3                       375.0                 418300.0   \n",
       "4                        62.0                 360000.0   \n",
       "5                       498.0                 370800.0   \n",
       "\n",
       "   demo_renter occupied units  demo_transportation public  \\\n",
       "1                       577.0                       712.0   \n",
       "2                       480.0                      1168.0   \n",
       "3                      1529.0                       918.0   \n",
       "4                       764.0                       688.0   \n",
       "5                      2460.0                      1944.0   \n",
       "\n",
       "   demo_transportation bicyle  demo_abroad_1_year_ago  demo_ Master's degree  \\\n",
       "1                         0.0                  2090.0                   77.0   \n",
       "2                         0.0                  2526.0                  376.0   \n",
       "3                         0.0                  1923.0                  119.0   \n",
       "4                         6.0                   920.0                   65.0   \n",
       "5                         0.0                  2886.0                  196.0   \n",
       "\n",
       "   demo_ Median monthly housing costs  complaint_count  yelp_bar_review_count  \\\n",
       "1                              1462.0            170.0                    0.0   \n",
       "2                              1918.0            244.0                    5.0   \n",
       "3                               988.0            548.0                    0.0   \n",
       "4                              1111.0             13.0                    0.0   \n",
       "5                               684.0           1290.0                    0.0   \n",
       "\n",
       "   5_year_change    RANDOM  \n",
       "1      -0.930070  0.222030  \n",
       "2      -0.740385  0.727951  \n",
       "3      -0.804511  0.566019  \n",
       "4      -0.859873  0.672648  \n",
       "5      -0.764045  0.161066  "
      ]
     },
     "execution_count": 89,
     "metadata": {},
     "output_type": "execute_result"
    }
   ],
   "source": [
    "features['RANDOM'] = [random.random() for i in range(len(features))]\n",
    "features.head()"
   ]
  },
  {
   "cell_type": "code",
   "execution_count": 90,
   "metadata": {
    "collapsed": false
   },
   "outputs": [],
   "source": [
    "X_train, X_test, y_train, y_test = train_test_split(features,target,test_size=0.3,random_state=42)"
   ]
  },
  {
   "cell_type": "code",
   "execution_count": 91,
   "metadata": {
    "collapsed": false
   },
   "outputs": [],
   "source": [
    "X_train = scale(X_train)\n",
    "X_test = scale(X_test)"
   ]
  },
  {
   "cell_type": "code",
   "execution_count": 146,
   "metadata": {
    "collapsed": false
   },
   "outputs": [],
   "source": [
    "models = {}\n",
    "\n",
    "# models['KNN'] = KNeighborsClassifier()\n",
    "# models['LR'] = LogisticRegression()\n",
    "# models['SVC'] = SVC()\n",
    "# models['DecisionTree'] = DecisionTreeClassifier()\n",
    "models['GradientBoost'] = GradientBoostingClassifier(init=None, learning_rate=0.1, loss='deviance',\n",
    "              max_depth=5, max_features=2, max_leaf_nodes=None,\n",
    "              min_samples_leaf=9, min_samples_split=5,\n",
    "              min_weight_fraction_leaf=0.0, n_estimators=100,\n",
    "              presort='auto', random_state=None, subsample=1.0, verbose=0,\n",
    "              warm_start=False)\n",
    "# models['AdaBoost'] = AdaBoostClassifier()\n",
    "# models['RandomForest'] = RandomForestClassifier()\n",
    "\n",
    "# RFparams = {n_estimators=1000,n_jobs=4, max_features=5,\n",
    "#               class_weight='balanced_subsample',max_depth=10}"
   ]
  },
  {
   "cell_type": "code",
   "execution_count": 147,
   "metadata": {
    "collapsed": false
   },
   "outputs": [
    {
     "name": "stdout",
     "output_type": "stream",
     "text": [
      "Model: GradientBoost\n",
      "Accuracy: 0.815460550814\n",
      "Precision: 0.725205079084\n",
      "Recall: 0.474751066856\n",
      "f1: 0.586759476862\n",
      "\n"
     ]
    }
   ],
   "source": [
    "for name, model in models.items():\n",
    "    scores = cross_val_score(model, X_train, y_train, n_jobs=1, cv = 10)\n",
    "    precision = cross_val_score(model, X_train, y_train, cv=10, scoring='precision')\n",
    "    recall = cross_val_score(model, X_train, y_train, cv=10, scoring='recall')\n",
    "    f1 = cross_val_score(model, X_train, y_train, cv=10, scoring='f1')\n",
    "    print('Model: ' + name)\n",
    "    print('Accuracy: ' + str(np.mean(scores)))\n",
    "    print('Precision: ' + str(np.mean(precision)))\n",
    "    print('Recall: ' + str(np.mean(recall)))\n",
    "    print('f1: ' + str(np.mean(f1)))\n",
    "    print(\"\")"
   ]
  },
  {
   "cell_type": "code",
   "execution_count": 148,
   "metadata": {
    "collapsed": false
   },
   "outputs": [
    {
     "name": "stdout",
     "output_type": "stream",
     "text": [
      "Model: GradientBoost\n",
      "             precision    recall  f1-score   support\n",
      "\n",
      "          0       0.83      0.95      0.89       439\n",
      "          1       0.76      0.47      0.58       158\n",
      "\n",
      "avg / total       0.81      0.82      0.81       597\n",
      "\n",
      "\n"
     ]
    }
   ],
   "source": [
    "for name, model in models.items():\n",
    "    model.fit(X_train,y_train)\n",
    "    y_pred = model.predict(X_test)    \n",
    "    print('Model: ' + name)\n",
    "    print(classification_report(y_test,y_pred))\n",
    "    print(\"\")"
   ]
  },
  {
   "cell_type": "code",
   "execution_count": 149,
   "metadata": {
    "collapsed": true
   },
   "outputs": [],
   "source": [
    "def pr_curve(truthvec, scorevec, digit_prec=2):\n",
    "    threshvec = np.unique(np.round(scorevec,digit_prec))\n",
    "    numthresh = len(threshvec)\n",
    "    tpvec = np.zeros(numthresh)\n",
    "    fpvec = np.zeros(numthresh)\n",
    "    fnvec = np.zeros(numthresh)\n",
    "\n",
    "    for i in range(numthresh):\n",
    "        thresh = threshvec[i]\n",
    "        tpvec[i] = sum(truthvec[scorevec>=thresh])\n",
    "        fpvec[i] = sum(1-truthvec[scorevec>=thresh])\n",
    "        fnvec[i] = sum(truthvec[scorevec<thresh])\n",
    "    recallvec = tpvec/(tpvec + fnvec)\n",
    "    precisionvec = tpvec/(tpvec + fpvec)\n",
    "    plt.plot(precisionvec,recallvec,label=name)\n",
    "    plt.legend()\n",
    "    plt.axis([0, 1, 0, 1])\n",
    "    plt.xlabel(\"Precision\")\n",
    "    plt.ylabel(\"Recall\")\n",
    "    return (recallvec, precisionvec, threshvec)"
   ]
  },
  {
   "cell_type": "code",
   "execution_count": 150,
   "metadata": {
    "collapsed": true
   },
   "outputs": [],
   "source": [
    "models_roc = {}\n",
    "\n",
    "# models_roc['KNN'] = KNeighborsClassifier()\n",
    "# models_roc['LR'] = LogisticRegression()\n",
    "# models_roc['DecisionTree'] = DecisionTreeClassifier()\n",
    "models_roc['GradientBoost'] = GradientBoostingClassifier()\n",
    "# models_roc['AdaBoost'] = AdaBoostClassifier()\n",
    "# models_roc['RandomForest'] = RandomForestClassifier()"
   ]
  },
  {
   "cell_type": "code",
   "execution_count": 151,
   "metadata": {
    "collapsed": false
   },
   "outputs": [
    {
     "data": {
      "image/png": "[encoded data removed]",
      "text/plain": [
       "<matplotlib.figure.Figure at 0x11a988898>"
      ]
     },
     "metadata": {},
     "output_type": "display_data"
    }
   ],
   "source": [
    "for name, model in models_roc.items():\n",
    "    model.fit(X_train, y_train)\n",
    "    recallvec, precisionvec, threshvec = pr_curve(y_test,model.predict_proba(X_test)[:,1])"
   ]
  },
  {
   "cell_type": "code",
   "execution_count": 152,
   "metadata": {
    "collapsed": false
   },
   "outputs": [
    {
     "name": "stdout",
     "output_type": "stream",
     "text": [
      "Model:  GradientBoost\n",
      "ROC:  0.832689368819\n",
      "\n"
     ]
    },
    {
     "data": {
      "image/png": "[encoded data removed]",
      "text/plain": [
       "<matplotlib.figure.Figure at 0x11a6dc278>"
      ]
     },
     "metadata": {},
     "output_type": "display_data"
    }
   ],
   "source": [
    "for name, model in models_roc.items():\n",
    "    model.fit(X_train, y_train)\n",
    "    y_pred = np.asarray(model.predict_proba(X_test)[:,1])\n",
    "    fpr, tpr, thresholds = roc_curve(np.asarray(y_test),y_pred)\n",
    "    plt.plot(fpr, tpr, label=name)\n",
    "    plt.legend(loc='lower right')\n",
    "    plt.title('ROC curve')\n",
    "    print('Model: ', name)\n",
    "    print('ROC: ', roc_auc_score(y_test,y_pred))\n",
    "    print(\"\")"
   ]
  },
  {
   "cell_type": "markdown",
   "metadata": {},
   "source": [
    "### Feature importance test"
   ]
  },
  {
   "cell_type": "code",
   "execution_count": 153,
   "metadata": {
    "collapsed": true
   },
   "outputs": [],
   "source": [
    "models_fi = {}\n",
    "\n",
    "# models_fi['DecisionTree'] = DecisionTreeClassifier()\n",
    "models_fi['GradientBoost'] = GradientBoostingClassifier()\n",
    "# models_fi['AdaBoost'] = AdaBoostClassifier()\n",
    "# models_fi['RandomForest'] = RandomForestClassifier()"
   ]
  },
  {
   "cell_type": "code",
   "execution_count": 155,
   "metadata": {
    "collapsed": false
   },
   "outputs": [
    {
     "name": "stdout",
     "output_type": "stream",
     "text": [
      "Model:  GradientBoost\n",
      "('demo_ Median monthly housing costs', 0.11719000971405792)\n",
      "('airbnb_airbnb_listings', 0.09518552217174317)\n",
      "('5_year_change', 0.093595254324106508)\n",
      "('demo_owner  occupied units', 0.093278130862698955)\n",
      "('complaint_count', 0.093073497315788192)\n",
      "('demo_median house value', 0.083425923493809909)\n",
      "('demo_income per capita', 0.065903891796503092)\n",
      "('yelp_bar_review_count', 0.054455917328193319)\n",
      "('RANDOM', 0.051956077829563505)\n",
      "('demo_abroad_1_year_ago', 0.050645212971083015)\n",
      "('demo_nonfamily households', 0.050490731893343917)\n",
      "(\"demo_ Master's degree\", 0.047795056749447146)\n",
      "('demo_transportation public', 0.047297737731688605)\n",
      "('demo_transportation bicyle', 0.029476066097558883)\n",
      "('demo_renter occupied units', 0.026230969720413898)\n",
      "\n"
     ]
    }
   ],
   "source": [
    "for name, model in models_fi.items():\n",
    "    model.fit(X_train, y_train)\n",
    "    sorted_features = sorted(zip(features,model.feature_importances_), key=lambda tup: abs(tup[1]), reverse=True)\n",
    "    print('Model: ',name)\n",
    "    for feature in sorted_features:\n",
    "        print(feature)\n",
    "    \n",
    "    print(\"\")"
   ]
  },
  {
   "cell_type": "code",
   "execution_count": 156,
   "metadata": {
    "collapsed": false,
    "scrolled": false
   },
   "outputs": [
    {
     "name": "stdout",
     "output_type": "stream",
     "text": [
      "Optimization terminated successfully.    (Exit mode 0)\n",
      "            Current function value: 0.584246537801\n",
      "            Iterations: 142\n",
      "            Function evaluations: 142\n",
      "            Gradient evaluations: 142\n"
     ]
    },
    {
     "data": {
      "text/html": [
       "<table class=\"simpletable\">\n",
       "<caption>Logit Regression Results</caption>\n",
       "<tr>\n",
       "  <th>Dep. Variable:</th>      <td>target</td>      <th>  No. Observations:  </th>  <td>  1393</td> \n",
       "</tr>\n",
       "<tr>\n",
       "  <th>Model:</th>               <td>Logit</td>      <th>  Df Residuals:      </th>  <td>  1381</td> \n",
       "</tr>\n",
       "<tr>\n",
       "  <th>Method:</th>               <td>MLE</td>       <th>  Df Model:          </th>  <td>    11</td> \n",
       "</tr>\n",
       "<tr>\n",
       "  <th>Date:</th>          <td>Fri, 28 Oct 2016</td> <th>  Pseudo R-squ.:     </th> <td>0.001423</td>\n",
       "</tr>\n",
       "<tr>\n",
       "  <th>Time:</th>              <td>00:07:28</td>     <th>  Log-Likelihood:    </th> <td> -814.18</td>\n",
       "</tr>\n",
       "<tr>\n",
       "  <th>converged:</th>           <td>True</td>       <th>  LL-Null:           </th> <td> -815.34</td>\n",
       "</tr>\n",
       "<tr>\n",
       "  <th> </th>                      <td> </td>        <th>  LLR p-value:       </th>  <td>0.9970</td> \n",
       "</tr>\n",
       "</table>\n",
       "<table class=\"simpletable\">\n",
       "<tr>\n",
       "   <td></td>      <th>coef</th>     <th>std err</th>      <th>z</th>      <th>P>|z|</th> <th>[95.0% Conf. Int.]</th> \n",
       "</tr>\n",
       "<tr>\n",
       "  <th>x1</th>  <td>   -0.7348</td> <td>    0.138</td> <td>   -5.312</td> <td> 0.000</td> <td>   -1.006    -0.464</td>\n",
       "</tr>\n",
       "<tr>\n",
       "  <th>x2</th>  <td>    0.3455</td> <td>    0.257</td> <td>    1.342</td> <td> 0.179</td> <td>   -0.159     0.850</td>\n",
       "</tr>\n",
       "<tr>\n",
       "  <th>x3</th>  <td>    0.1579</td> <td>    0.123</td> <td>    1.282</td> <td> 0.200</td> <td>   -0.083     0.399</td>\n",
       "</tr>\n",
       "<tr>\n",
       "  <th>x4</th>  <td>   -0.2937</td> <td>    0.104</td> <td>   -2.815</td> <td> 0.005</td> <td>   -0.498    -0.089</td>\n",
       "</tr>\n",
       "<tr>\n",
       "  <th>x5</th>  <td>   -0.2965</td> <td>    0.079</td> <td>   -3.757</td> <td> 0.000</td> <td>   -0.451    -0.142</td>\n",
       "</tr>\n",
       "<tr>\n",
       "  <th>x6</th>  <td>    0.2261</td> <td>    0.224</td> <td>    1.009</td> <td> 0.313</td> <td>   -0.213     0.665</td>\n",
       "</tr>\n",
       "<tr>\n",
       "  <th>x7</th>  <td>    0.2153</td> <td>    0.155</td> <td>    1.392</td> <td> 0.164</td> <td>   -0.088     0.518</td>\n",
       "</tr>\n",
       "<tr>\n",
       "  <th>x8</th>  <td>   -0.2338</td> <td>    0.087</td> <td>   -2.683</td> <td> 0.007</td> <td>   -0.405    -0.063</td>\n",
       "</tr>\n",
       "<tr>\n",
       "  <th>x9</th>  <td>         0</td> <td>      nan</td> <td>      nan</td> <td>   nan</td> <td>      nan       nan</td>\n",
       "</tr>\n",
       "<tr>\n",
       "  <th>x10</th> <td>   -0.4005</td> <td>    0.185</td> <td>   -2.163</td> <td> 0.031</td> <td>   -0.763    -0.038</td>\n",
       "</tr>\n",
       "<tr>\n",
       "  <th>x11</th> <td>         0</td> <td>      nan</td> <td>      nan</td> <td>   nan</td> <td>      nan       nan</td>\n",
       "</tr>\n",
       "<tr>\n",
       "  <th>x12</th> <td>    0.6293</td> <td>    0.112</td> <td>    5.608</td> <td> 0.000</td> <td>    0.409     0.849</td>\n",
       "</tr>\n",
       "<tr>\n",
       "  <th>x13</th> <td>    0.2274</td> <td>    0.097</td> <td>    2.346</td> <td> 0.019</td> <td>    0.037     0.417</td>\n",
       "</tr>\n",
       "<tr>\n",
       "  <th>x14</th> <td>   -0.1806</td> <td>    0.108</td> <td>   -1.668</td> <td> 0.095</td> <td>   -0.393     0.032</td>\n",
       "</tr>\n",
       "<tr>\n",
       "  <th>x15</th> <td>         0</td> <td>      nan</td> <td>      nan</td> <td>   nan</td> <td>      nan       nan</td>\n",
       "</tr>\n",
       "</table>"
      ],
      "text/plain": [
       "<class 'statsmodels.iolib.summary.Summary'>\n",
       "\"\"\"\n",
       "                           Logit Regression Results                           \n",
       "==============================================================================\n",
       "Dep. Variable:                 target   No. Observations:                 1393\n",
       "Model:                          Logit   Df Residuals:                     1381\n",
       "Method:                           MLE   Df Model:                           11\n",
       "Date:                Fri, 28 Oct 2016   Pseudo R-squ.:                0.001423\n",
       "Time:                        00:07:28   Log-Likelihood:                -814.18\n",
       "converged:                       True   LL-Null:                       -815.34\n",
       "                                        LLR p-value:                    0.9970\n",
       "==============================================================================\n",
       "                 coef    std err          z      P>|z|      [95.0% Conf. Int.]\n",
       "------------------------------------------------------------------------------\n",
       "x1            -0.7348      0.138     -5.312      0.000        -1.006    -0.464\n",
       "x2             0.3455      0.257      1.342      0.179        -0.159     0.850\n",
       "x3             0.1579      0.123      1.282      0.200        -0.083     0.399\n",
       "x4            -0.2937      0.104     -2.815      0.005        -0.498    -0.089\n",
       "x5            -0.2965      0.079     -3.757      0.000        -0.451    -0.142\n",
       "x6             0.2261      0.224      1.009      0.313        -0.213     0.665\n",
       "x7             0.2153      0.155      1.392      0.164        -0.088     0.518\n",
       "x8            -0.2338      0.087     -2.683      0.007        -0.405    -0.063\n",
       "x9                  0        nan        nan        nan           nan       nan\n",
       "x10           -0.4005      0.185     -2.163      0.031        -0.763    -0.038\n",
       "x11                 0        nan        nan        nan           nan       nan\n",
       "x12            0.6293      0.112      5.608      0.000         0.409     0.849\n",
       "x13            0.2274      0.097      2.346      0.019         0.037     0.417\n",
       "x14           -0.1806      0.108     -1.668      0.095        -0.393     0.032\n",
       "x15                 0        nan        nan        nan           nan       nan\n",
       "==============================================================================\n",
       "\"\"\""
      ]
     },
     "execution_count": 156,
     "metadata": {},
     "output_type": "execute_result"
    }
   ],
   "source": [
    "t_reg = sm.Logit(y_train,X_train).fit_regularized(alpha=0.1,maxiter=10000,\n",
    "                                                 qc_verbose=True, trim_mode='size',\n",
    "                                                size_trim_tol =0.1)\n",
    "t_reg.summary()"
   ]
  },
  {
   "cell_type": "code",
   "execution_count": 157,
   "metadata": {
    "collapsed": false
   },
   "outputs": [
    {
     "name": "stdout",
     "output_type": "stream",
     "text": [
      "airbnb_airbnb_listings\n",
      "demo_nonfamily households\n",
      "demo_income per capita\n",
      "demo_owner  occupied units\n",
      "demo_median house value\n",
      "demo_renter occupied units\n",
      "demo_transportation public\n",
      "demo_transportation bicyle\n",
      "demo_abroad_1_year_ago\n",
      "demo_ Master's degree\n",
      "demo_ Median monthly housing costs\n",
      "complaint_count\n",
      "yelp_bar_review_count\n",
      "5_year_change\n",
      "RANDOM\n"
     ]
    }
   ],
   "source": [
    "for f in features.columns:\n",
    "    print(f)"
   ]
  },
  {
   "cell_type": "markdown",
   "metadata": {
    "collapsed": true
   },
   "source": [
    "## Grid search"
   ]
  },
  {
   "cell_type": "code",
   "execution_count": 145,
   "metadata": {
    "collapsed": false
   },
   "outputs": [
    {
     "name": "stdout",
     "output_type": "stream",
     "text": [
      "RandomizedSearchCV took 901.29 seconds for 5000 candidates parameter settings.\n",
      "Best EstimatorGradientBoostingClassifier(init=None, learning_rate=0.1, loss='deviance',\n",
      "              max_depth=5, max_features=2, max_leaf_nodes=None,\n",
      "              min_samples_leaf=9, min_samples_split=5,\n",
      "              min_weight_fraction_leaf=0.0, n_estimators=100,\n",
      "              presort='auto', random_state=None, subsample=1.0, verbose=0,\n",
      "              warm_start=False)\n",
      "Best Scorer0.824120603015\n",
      "Best Estimator{'max_features': 2, 'max_depth': 5, 'min_samples_leaf': 9, 'min_samples_split': 5}\n"
     ]
    }
   ],
   "source": [
    "# tuning gradient boosted tree hyperparameters\n",
    "gbc = GradientBoostingClassifier()\n",
    "\n",
    "# specify parameters and distributions to sample from\n",
    "param_dist = {\"max_depth\": sp_randint(3, 6),\n",
    "              \"max_features\": sp_randint(1, 11),\n",
    "              \"min_samples_split\": sp_randint(1, 11),\n",
    "              \"min_samples_leaf\": sp_randint(1, 11)}\n",
    "            \n",
    "# run randomized search\n",
    "n_iter_search = 5000\n",
    "random_search = RandomizedSearchCV(gbc, param_distributions=param_dist,\n",
    "                                   n_iter=n_iter_search, n_jobs=-1)\n",
    "\n",
    "start = time()\n",
    "random_search.fit(X_train, y_train)\n",
    "print(\"RandomizedSearchCV took %.2f seconds for %d candidates\"\n",
    "      \" parameter settings.\" % ((time() - start), n_iter_search))\n",
    "print(\"Best Estimator\" +str(random_search.best_estimator_))\n",
    "print(\"Best Scorer\" +str(random_search.best_score_))\n",
    "print(\"Best Estimator\" +str(random_search.best_params_))"
   ]
  },
  {
   "cell_type": "code",
   "execution_count": null,
   "metadata": {
    "collapsed": true
   },
   "outputs": [],
   "source": []
  },
  {
   "cell_type": "code",
   "execution_count": null,
   "metadata": {
    "collapsed": true
   },
   "outputs": [],
   "source": [
    "# get rid of highly correlated features\n",
    "# grid search RF using method from Ed"
   ]
  },
  {
   "cell_type": "code",
   "execution_count": null,
   "metadata": {
    "collapsed": true
   },
   "outputs": [],
   "source": [
    "# pr_curve\n",
    "# https://github.com/th27/nyc16_ds9/blob/master/class_lectures/week05-mcnulty2/day1/Affair_Predictor_Completed.ipynb\n",
    "# https://github.com/th27/nyc16_ds9/blob/master/class_lectures/week04-mcnulty1/day3/Random%20forest%20Classification.ipynb"
   ]
  }
 ],
 "metadata": {
  "anaconda-cloud": {},
  "kernelspec": {
   "display_name": "Python 3",
   "language": "python",
   "name": "python3"
  },
  "language_info": {
   "codemirror_mode": {
    "name": "ipython",
    "version": 3
   },
   "file_extension": ".py",
   "mimetype": "text/x-python",
   "name": "python",
   "nbconvert_exporter": "python",
   "pygments_lexer": "ipython3",
   "version": "3.5.2"
  }
 },
 "nbformat": 4,
 "nbformat_minor": 1
}
